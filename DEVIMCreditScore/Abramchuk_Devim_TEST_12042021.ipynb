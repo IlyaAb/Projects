{
 "metadata": {
  "language_info": {
   "codemirror_mode": {
    "name": "ipython",
    "version": 3
   },
   "file_extension": ".py",
   "mimetype": "text/x-python",
   "name": "python",
   "nbconvert_exporter": "python",
   "pygments_lexer": "ipython3",
   "version": "3.9.2"
  },
  "orig_nbformat": 2,
  "kernelspec": {
   "name": "python3",
   "display_name": "Python 3.9.2 64-bit"
  },
  "metadata": {
   "interpreter": {
    "hash": "4ce0e62306dd6a5716965d4519ada776f947e6dfc145b604b11307c10277ef29"
   }
  },
  "interpreter": {
   "hash": "4ce0e62306dd6a5716965d4519ada776f947e6dfc145b604b11307c10277ef29"
  }
 },
 "nbformat": 4,
 "nbformat_minor": 2,
 "cells": [
  {
   "cell_type": "code",
   "execution_count": 1,
   "source": [
    "import pandas as pd\r\n",
    "import seaborn as sns\r\n",
    "import numpy as np\r\n",
    "import matplotlib.pyplot as plt\r\n",
    "from sklearn.model_selection import train_test_split\r\n",
    "from tqdm import tqdm\r\n",
    "\r\n",
    "\r\n",
    "from sklearn import preprocessing\r\n",
    "\r\n",
    "from sklearn.ensemble import RandomForestClassifier\r\n",
    "from sklearn.model_selection import GridSearchCV\r\n",
    "from sklearn.model_selection import RandomizedSearchCV\r\n",
    "from sklearn.linear_model import SGDClassifier\r\n",
    "from xgboost import XGBClassifier\r\n",
    "from sklearn.linear_model import LogisticRegression\r\n",
    "from sklearn.neighbors import KNeighborsClassifier\r\n",
    "from sklearn.linear_model import LassoCV\r\n",
    "from catboost import CatBoostClassifier\r\n",
    "\r\n",
    "\r\n",
    "# import shap\r\n",
    "from sklearn.metrics import precision_score, recall_score, accuracy_score, roc_auc_score, f1_score, confusion_matrix, classification_report, roc_curve\r\n"
   ],
   "outputs": [],
   "metadata": {}
  },
  {
   "cell_type": "markdown",
   "source": [
    "# Описание задания \r\n"
   ],
   "metadata": {}
  },
  {
   "cell_type": "code",
   "execution_count": 2,
   "source": [
    "# closed_creds - количество закрытых кредитов\r\n",
    "# active_cred_sum_overdue - суммарная задолженность по активным кредитам\r\n",
    "# active_cred_sum - сумма всех активных кредитов\r\n",
    "# active_cred_day_overdue - суммарная просрочка в днях по всем активным кредитам\r\n",
    "# active_cred_max_overdue - максимальная сумма просроченной задолженности по активным кредитам\r\n",
    "\r\n",
    "# Переменные характеризующие клиента\r\n",
    "# age - возраст\r\n",
    "# gender - пол\r\n",
    "# region - регион\r\n",
    "# month_income - ежемесячный доход\r\n",
    "\r\n",
    "# Переменные, характеризующие кредит, по которому нужно сделать прогноз\r\n",
    "# first_loan - сумма, которую клиент хочет получить в кредит (из заявки)\r\n",
    "# first_days_quant - срок, на которую клиент хочет взять кредит\r\n",
    "# loan_cost_all - одобренная клиенту сумма кредита\r\n",
    "# order_date - дата подачи заявки на получение кредита\r\n",
    "# cost_all - сумма всех выплат по одобренному кредиту\r\n",
    "# order_id - id заявки\r\n",
    "# client_id - id клиента\r\n",
    "\r\n",
    "# Целевая переменная:\r\n",
    "# expert - решение, которое принято по заявке (0 - одобрено, 1 - отклонено)"
   ],
   "outputs": [],
   "metadata": {}
  },
  {
   "cell_type": "code",
   "execution_count": null,
   "source": [],
   "outputs": [],
   "metadata": {}
  },
  {
   "cell_type": "markdown",
   "source": [
    "# Выполнение"
   ],
   "metadata": {}
  },
  {
   "cell_type": "code",
   "execution_count": 3,
   "source": [
    "data = pd.read_csv('./data.csv', sep=';')\r\n",
    "#сюда вставить файл с тестовым заданием соответственно "
   ],
   "outputs": [],
   "metadata": {}
  },
  {
   "cell_type": "code",
   "execution_count": 4,
   "source": [
    "data.head(15)"
   ],
   "outputs": [
    {
     "output_type": "execute_result",
     "data": {
      "text/plain": [
       "    closed_cred_sum  closed_creds  active_cred_sum_overdue  active_cred_sum  \\\n",
       "0         143822.00            22                   104.12        130068.80   \n",
       "1              0.00             0                 38151.93         46230.00   \n",
       "2          51356.00             2                  3000.00          3000.00   \n",
       "3              0.00             0                 22784.19         32103.52   \n",
       "4          12298.00             1                  4942.95          4950.00   \n",
       "5         786916.00            11                     0.00       1063763.00   \n",
       "6         786916.00            11                     0.00       1063763.00   \n",
       "7         786916.00            11                     0.00       1063763.00   \n",
       "8         786916.00            11                     0.00       1063763.00   \n",
       "9              0.00             0                 21143.00         21143.00   \n",
       "10             0.00             0                 21143.00         21143.00   \n",
       "11        937276.13            17                 11577.24        819686.00   \n",
       "12             0.00             0                     0.00          8000.00   \n",
       "13             0.00             0                     0.00          8000.00   \n",
       "14             0.00             0                     0.00          8000.00   \n",
       "\n",
       "    active_cred_day_overdue  active_cred_max_overdue  age  gender  region  \\\n",
       "0                         8                   756.09   31       0      36   \n",
       "1                      1492                 38151.93   51       0      93   \n",
       "2                         8                  3000.00   28       1       3   \n",
       "3                       913                 22784.19   28       0      52   \n",
       "4                      2883                  4942.95   31       0      47   \n",
       "5                         0                 10395.39   47       0      38   \n",
       "6                         0                 10395.39   47       0      38   \n",
       "7                         0                 10395.39   47       0      38   \n",
       "8                         0                 10395.39   47       0      38   \n",
       "9                      1016                 10924.00   28       1       0   \n",
       "10                     1016                 10924.00   28       1       0   \n",
       "11                       19                 11577.24   47       0      47   \n",
       "12                        0                     0.00   24       1      80   \n",
       "13                        0                     0.00   24       1      80   \n",
       "14                        0                     0.00   24       1      80   \n",
       "\n",
       "    first_loan  loan_cost_all  first_days_quant  month_income  order_date  \\\n",
       "0      10000.0          10000               196           0.0  2017-07-23   \n",
       "1      10000.0          10000                17       20000.0  2017-07-23   \n",
       "2      10000.0          10000                84           0.0  2017-07-23   \n",
       "3      10000.0          10000                 7           0.0  2017-07-23   \n",
       "4       5000.0           5000                20           0.0  2017-07-23   \n",
       "5      10000.0           5500                14       50000.0  2017-07-23   \n",
       "6      10000.0           5500                14       50000.0  2017-07-23   \n",
       "7      10000.0           5500                14       50000.0  2017-07-23   \n",
       "8      10000.0           5500                14       50000.0  2017-07-23   \n",
       "9      10000.0          10000                90           0.0  2017-07-23   \n",
       "10     10000.0          10000                15       30000.0  2017-07-23   \n",
       "11     31000.0          20000                20       60000.0  2017-07-23   \n",
       "12      7000.0           7000                10       35000.0  2017-07-23   \n",
       "13      7000.0           7000                10       35000.0  2017-07-23   \n",
       "14      7000.0           7000                10       35000.0  2017-07-23   \n",
       "\n",
       "    cost_all  order_id  client_id  expert  \n",
       "0        0.0    728319     320464       1  \n",
       "1        0.0    728321     320466       1  \n",
       "2        0.0    728323     320467       1  \n",
       "3        0.0    728447     320533       1  \n",
       "4        0.0    728421     298598       1  \n",
       "5        0.0    728526     320564       0  \n",
       "6        0.0    728526     320564       0  \n",
       "7        0.0    728526     320564       0  \n",
       "8        0.0    728526     320564       0  \n",
       "9        0.0    728454     123851       1  \n",
       "10       0.0    728553     123851       1  \n",
       "11   52960.0    728474     166827       0  \n",
       "12       0.0    728476     320544       1  \n",
       "13       0.0    728478     320544       1  \n",
       "14       0.0    728476     320544       1  "
      ],
      "text/html": [
       "<div>\n",
       "<style scoped>\n",
       "    .dataframe tbody tr th:only-of-type {\n",
       "        vertical-align: middle;\n",
       "    }\n",
       "\n",
       "    .dataframe tbody tr th {\n",
       "        vertical-align: top;\n",
       "    }\n",
       "\n",
       "    .dataframe thead th {\n",
       "        text-align: right;\n",
       "    }\n",
       "</style>\n",
       "<table border=\"1\" class=\"dataframe\">\n",
       "  <thead>\n",
       "    <tr style=\"text-align: right;\">\n",
       "      <th></th>\n",
       "      <th>closed_cred_sum</th>\n",
       "      <th>closed_creds</th>\n",
       "      <th>active_cred_sum_overdue</th>\n",
       "      <th>active_cred_sum</th>\n",
       "      <th>active_cred_day_overdue</th>\n",
       "      <th>active_cred_max_overdue</th>\n",
       "      <th>age</th>\n",
       "      <th>gender</th>\n",
       "      <th>region</th>\n",
       "      <th>first_loan</th>\n",
       "      <th>loan_cost_all</th>\n",
       "      <th>first_days_quant</th>\n",
       "      <th>month_income</th>\n",
       "      <th>order_date</th>\n",
       "      <th>cost_all</th>\n",
       "      <th>order_id</th>\n",
       "      <th>client_id</th>\n",
       "      <th>expert</th>\n",
       "    </tr>\n",
       "  </thead>\n",
       "  <tbody>\n",
       "    <tr>\n",
       "      <th>0</th>\n",
       "      <td>143822.00</td>\n",
       "      <td>22</td>\n",
       "      <td>104.12</td>\n",
       "      <td>130068.80</td>\n",
       "      <td>8</td>\n",
       "      <td>756.09</td>\n",
       "      <td>31</td>\n",
       "      <td>0</td>\n",
       "      <td>36</td>\n",
       "      <td>10000.0</td>\n",
       "      <td>10000</td>\n",
       "      <td>196</td>\n",
       "      <td>0.0</td>\n",
       "      <td>2017-07-23</td>\n",
       "      <td>0.0</td>\n",
       "      <td>728319</td>\n",
       "      <td>320464</td>\n",
       "      <td>1</td>\n",
       "    </tr>\n",
       "    <tr>\n",
       "      <th>1</th>\n",
       "      <td>0.00</td>\n",
       "      <td>0</td>\n",
       "      <td>38151.93</td>\n",
       "      <td>46230.00</td>\n",
       "      <td>1492</td>\n",
       "      <td>38151.93</td>\n",
       "      <td>51</td>\n",
       "      <td>0</td>\n",
       "      <td>93</td>\n",
       "      <td>10000.0</td>\n",
       "      <td>10000</td>\n",
       "      <td>17</td>\n",
       "      <td>20000.0</td>\n",
       "      <td>2017-07-23</td>\n",
       "      <td>0.0</td>\n",
       "      <td>728321</td>\n",
       "      <td>320466</td>\n",
       "      <td>1</td>\n",
       "    </tr>\n",
       "    <tr>\n",
       "      <th>2</th>\n",
       "      <td>51356.00</td>\n",
       "      <td>2</td>\n",
       "      <td>3000.00</td>\n",
       "      <td>3000.00</td>\n",
       "      <td>8</td>\n",
       "      <td>3000.00</td>\n",
       "      <td>28</td>\n",
       "      <td>1</td>\n",
       "      <td>3</td>\n",
       "      <td>10000.0</td>\n",
       "      <td>10000</td>\n",
       "      <td>84</td>\n",
       "      <td>0.0</td>\n",
       "      <td>2017-07-23</td>\n",
       "      <td>0.0</td>\n",
       "      <td>728323</td>\n",
       "      <td>320467</td>\n",
       "      <td>1</td>\n",
       "    </tr>\n",
       "    <tr>\n",
       "      <th>3</th>\n",
       "      <td>0.00</td>\n",
       "      <td>0</td>\n",
       "      <td>22784.19</td>\n",
       "      <td>32103.52</td>\n",
       "      <td>913</td>\n",
       "      <td>22784.19</td>\n",
       "      <td>28</td>\n",
       "      <td>0</td>\n",
       "      <td>52</td>\n",
       "      <td>10000.0</td>\n",
       "      <td>10000</td>\n",
       "      <td>7</td>\n",
       "      <td>0.0</td>\n",
       "      <td>2017-07-23</td>\n",
       "      <td>0.0</td>\n",
       "      <td>728447</td>\n",
       "      <td>320533</td>\n",
       "      <td>1</td>\n",
       "    </tr>\n",
       "    <tr>\n",
       "      <th>4</th>\n",
       "      <td>12298.00</td>\n",
       "      <td>1</td>\n",
       "      <td>4942.95</td>\n",
       "      <td>4950.00</td>\n",
       "      <td>2883</td>\n",
       "      <td>4942.95</td>\n",
       "      <td>31</td>\n",
       "      <td>0</td>\n",
       "      <td>47</td>\n",
       "      <td>5000.0</td>\n",
       "      <td>5000</td>\n",
       "      <td>20</td>\n",
       "      <td>0.0</td>\n",
       "      <td>2017-07-23</td>\n",
       "      <td>0.0</td>\n",
       "      <td>728421</td>\n",
       "      <td>298598</td>\n",
       "      <td>1</td>\n",
       "    </tr>\n",
       "    <tr>\n",
       "      <th>5</th>\n",
       "      <td>786916.00</td>\n",
       "      <td>11</td>\n",
       "      <td>0.00</td>\n",
       "      <td>1063763.00</td>\n",
       "      <td>0</td>\n",
       "      <td>10395.39</td>\n",
       "      <td>47</td>\n",
       "      <td>0</td>\n",
       "      <td>38</td>\n",
       "      <td>10000.0</td>\n",
       "      <td>5500</td>\n",
       "      <td>14</td>\n",
       "      <td>50000.0</td>\n",
       "      <td>2017-07-23</td>\n",
       "      <td>0.0</td>\n",
       "      <td>728526</td>\n",
       "      <td>320564</td>\n",
       "      <td>0</td>\n",
       "    </tr>\n",
       "    <tr>\n",
       "      <th>6</th>\n",
       "      <td>786916.00</td>\n",
       "      <td>11</td>\n",
       "      <td>0.00</td>\n",
       "      <td>1063763.00</td>\n",
       "      <td>0</td>\n",
       "      <td>10395.39</td>\n",
       "      <td>47</td>\n",
       "      <td>0</td>\n",
       "      <td>38</td>\n",
       "      <td>10000.0</td>\n",
       "      <td>5500</td>\n",
       "      <td>14</td>\n",
       "      <td>50000.0</td>\n",
       "      <td>2017-07-23</td>\n",
       "      <td>0.0</td>\n",
       "      <td>728526</td>\n",
       "      <td>320564</td>\n",
       "      <td>0</td>\n",
       "    </tr>\n",
       "    <tr>\n",
       "      <th>7</th>\n",
       "      <td>786916.00</td>\n",
       "      <td>11</td>\n",
       "      <td>0.00</td>\n",
       "      <td>1063763.00</td>\n",
       "      <td>0</td>\n",
       "      <td>10395.39</td>\n",
       "      <td>47</td>\n",
       "      <td>0</td>\n",
       "      <td>38</td>\n",
       "      <td>10000.0</td>\n",
       "      <td>5500</td>\n",
       "      <td>14</td>\n",
       "      <td>50000.0</td>\n",
       "      <td>2017-07-23</td>\n",
       "      <td>0.0</td>\n",
       "      <td>728526</td>\n",
       "      <td>320564</td>\n",
       "      <td>0</td>\n",
       "    </tr>\n",
       "    <tr>\n",
       "      <th>8</th>\n",
       "      <td>786916.00</td>\n",
       "      <td>11</td>\n",
       "      <td>0.00</td>\n",
       "      <td>1063763.00</td>\n",
       "      <td>0</td>\n",
       "      <td>10395.39</td>\n",
       "      <td>47</td>\n",
       "      <td>0</td>\n",
       "      <td>38</td>\n",
       "      <td>10000.0</td>\n",
       "      <td>5500</td>\n",
       "      <td>14</td>\n",
       "      <td>50000.0</td>\n",
       "      <td>2017-07-23</td>\n",
       "      <td>0.0</td>\n",
       "      <td>728526</td>\n",
       "      <td>320564</td>\n",
       "      <td>0</td>\n",
       "    </tr>\n",
       "    <tr>\n",
       "      <th>9</th>\n",
       "      <td>0.00</td>\n",
       "      <td>0</td>\n",
       "      <td>21143.00</td>\n",
       "      <td>21143.00</td>\n",
       "      <td>1016</td>\n",
       "      <td>10924.00</td>\n",
       "      <td>28</td>\n",
       "      <td>1</td>\n",
       "      <td>0</td>\n",
       "      <td>10000.0</td>\n",
       "      <td>10000</td>\n",
       "      <td>90</td>\n",
       "      <td>0.0</td>\n",
       "      <td>2017-07-23</td>\n",
       "      <td>0.0</td>\n",
       "      <td>728454</td>\n",
       "      <td>123851</td>\n",
       "      <td>1</td>\n",
       "    </tr>\n",
       "    <tr>\n",
       "      <th>10</th>\n",
       "      <td>0.00</td>\n",
       "      <td>0</td>\n",
       "      <td>21143.00</td>\n",
       "      <td>21143.00</td>\n",
       "      <td>1016</td>\n",
       "      <td>10924.00</td>\n",
       "      <td>28</td>\n",
       "      <td>1</td>\n",
       "      <td>0</td>\n",
       "      <td>10000.0</td>\n",
       "      <td>10000</td>\n",
       "      <td>15</td>\n",
       "      <td>30000.0</td>\n",
       "      <td>2017-07-23</td>\n",
       "      <td>0.0</td>\n",
       "      <td>728553</td>\n",
       "      <td>123851</td>\n",
       "      <td>1</td>\n",
       "    </tr>\n",
       "    <tr>\n",
       "      <th>11</th>\n",
       "      <td>937276.13</td>\n",
       "      <td>17</td>\n",
       "      <td>11577.24</td>\n",
       "      <td>819686.00</td>\n",
       "      <td>19</td>\n",
       "      <td>11577.24</td>\n",
       "      <td>47</td>\n",
       "      <td>0</td>\n",
       "      <td>47</td>\n",
       "      <td>31000.0</td>\n",
       "      <td>20000</td>\n",
       "      <td>20</td>\n",
       "      <td>60000.0</td>\n",
       "      <td>2017-07-23</td>\n",
       "      <td>52960.0</td>\n",
       "      <td>728474</td>\n",
       "      <td>166827</td>\n",
       "      <td>0</td>\n",
       "    </tr>\n",
       "    <tr>\n",
       "      <th>12</th>\n",
       "      <td>0.00</td>\n",
       "      <td>0</td>\n",
       "      <td>0.00</td>\n",
       "      <td>8000.00</td>\n",
       "      <td>0</td>\n",
       "      <td>0.00</td>\n",
       "      <td>24</td>\n",
       "      <td>1</td>\n",
       "      <td>80</td>\n",
       "      <td>7000.0</td>\n",
       "      <td>7000</td>\n",
       "      <td>10</td>\n",
       "      <td>35000.0</td>\n",
       "      <td>2017-07-23</td>\n",
       "      <td>0.0</td>\n",
       "      <td>728476</td>\n",
       "      <td>320544</td>\n",
       "      <td>1</td>\n",
       "    </tr>\n",
       "    <tr>\n",
       "      <th>13</th>\n",
       "      <td>0.00</td>\n",
       "      <td>0</td>\n",
       "      <td>0.00</td>\n",
       "      <td>8000.00</td>\n",
       "      <td>0</td>\n",
       "      <td>0.00</td>\n",
       "      <td>24</td>\n",
       "      <td>1</td>\n",
       "      <td>80</td>\n",
       "      <td>7000.0</td>\n",
       "      <td>7000</td>\n",
       "      <td>10</td>\n",
       "      <td>35000.0</td>\n",
       "      <td>2017-07-23</td>\n",
       "      <td>0.0</td>\n",
       "      <td>728478</td>\n",
       "      <td>320544</td>\n",
       "      <td>1</td>\n",
       "    </tr>\n",
       "    <tr>\n",
       "      <th>14</th>\n",
       "      <td>0.00</td>\n",
       "      <td>0</td>\n",
       "      <td>0.00</td>\n",
       "      <td>8000.00</td>\n",
       "      <td>0</td>\n",
       "      <td>0.00</td>\n",
       "      <td>24</td>\n",
       "      <td>1</td>\n",
       "      <td>80</td>\n",
       "      <td>7000.0</td>\n",
       "      <td>7000</td>\n",
       "      <td>10</td>\n",
       "      <td>35000.0</td>\n",
       "      <td>2017-07-23</td>\n",
       "      <td>0.0</td>\n",
       "      <td>728476</td>\n",
       "      <td>320544</td>\n",
       "      <td>1</td>\n",
       "    </tr>\n",
       "  </tbody>\n",
       "</table>\n",
       "</div>"
      ]
     },
     "metadata": {},
     "execution_count": 4
    }
   ],
   "metadata": {}
  },
  {
   "cell_type": "code",
   "execution_count": 5,
   "source": [
    "data.shape #кол-во строк "
   ],
   "outputs": [
    {
     "output_type": "execute_result",
     "data": {
      "text/plain": [
       "(50001, 18)"
      ]
     },
     "metadata": {},
     "execution_count": 5
    }
   ],
   "metadata": {}
  },
  {
   "cell_type": "code",
   "execution_count": 6,
   "source": [
    "#Обратим внимание на два обобщающих признака id заявки и id клиента \r\n",
    "#Узнаем кол-во уникальных заявок  \r\n",
    "#оно равно 42857, значит одна заявка может редактироваться и включать в себя разные данные или это бесполезные дубликаты - появился резон проверить на повторяющиеся строки \r\n",
    "data.order_id.nunique() #- кол-во уникальных заявок  "
   ],
   "outputs": [
    {
     "output_type": "execute_result",
     "data": {
      "text/plain": [
       "42857"
      ]
     },
     "metadata": {},
     "execution_count": 6
    }
   ],
   "metadata": {}
  },
  {
   "cell_type": "code",
   "execution_count": 7,
   "source": [
    "#быть может дубликаты были сделаны изначально, чтобы убрать дисбаланс классов, сравним баланс лейблов до и после удаления повторяющихся строк "
   ],
   "outputs": [],
   "metadata": {}
  },
  {
   "cell_type": "code",
   "execution_count": 8,
   "source": [
    "#баланс не изменился, даже стало немного лучше. Вывод: убираем дупликаты \r\n",
    "pd.DataFrame({'standart_balance': data['expert'].value_counts(), 'bal_after_drop_dup': data.drop_duplicates()['expert'].value_counts()})"
   ],
   "outputs": [
    {
     "output_type": "execute_result",
     "data": {
      "text/plain": [
       "   standart_balance  bal_after_drop_dup\n",
       "1             37464               31714\n",
       "0             12537               11229"
      ],
      "text/html": [
       "<div>\n",
       "<style scoped>\n",
       "    .dataframe tbody tr th:only-of-type {\n",
       "        vertical-align: middle;\n",
       "    }\n",
       "\n",
       "    .dataframe tbody tr th {\n",
       "        vertical-align: top;\n",
       "    }\n",
       "\n",
       "    .dataframe thead th {\n",
       "        text-align: right;\n",
       "    }\n",
       "</style>\n",
       "<table border=\"1\" class=\"dataframe\">\n",
       "  <thead>\n",
       "    <tr style=\"text-align: right;\">\n",
       "      <th></th>\n",
       "      <th>standart_balance</th>\n",
       "      <th>bal_after_drop_dup</th>\n",
       "    </tr>\n",
       "  </thead>\n",
       "  <tbody>\n",
       "    <tr>\n",
       "      <th>1</th>\n",
       "      <td>37464</td>\n",
       "      <td>31714</td>\n",
       "    </tr>\n",
       "    <tr>\n",
       "      <th>0</th>\n",
       "      <td>12537</td>\n",
       "      <td>11229</td>\n",
       "    </tr>\n",
       "  </tbody>\n",
       "</table>\n",
       "</div>"
      ]
     },
     "metadata": {},
     "execution_count": 8
    }
   ],
   "metadata": {}
  },
  {
   "cell_type": "code",
   "execution_count": 9,
   "source": [
    "data = data.drop_duplicates() #убираем дупликаты"
   ],
   "outputs": [],
   "metadata": {}
  },
  {
   "cell_type": "code",
   "execution_count": 10,
   "source": [
    "data.shape #новая размерность данных"
   ],
   "outputs": [
    {
     "output_type": "execute_result",
     "data": {
      "text/plain": [
       "(42943, 18)"
      ]
     },
     "metadata": {},
     "execution_count": 10
    }
   ],
   "metadata": {}
  },
  {
   "cell_type": "code",
   "execution_count": 11,
   "source": [
    "X = data.copy()"
   ],
   "outputs": [],
   "metadata": {}
  },
  {
   "cell_type": "code",
   "execution_count": 12,
   "source": [
    "#Рассмотрим данные на наличие пропусков и и их типы\r\n",
    "X.info()"
   ],
   "outputs": [
    {
     "output_type": "stream",
     "name": "stdout",
     "text": [
      "<class 'pandas.core.frame.DataFrame'>\n",
      "Int64Index: 42943 entries, 0 to 50000\n",
      "Data columns (total 18 columns):\n",
      " #   Column                   Non-Null Count  Dtype  \n",
      "---  ------                   --------------  -----  \n",
      " 0   closed_cred_sum          42943 non-null  float64\n",
      " 1   closed_creds             42943 non-null  int64  \n",
      " 2   active_cred_sum_overdue  42943 non-null  float64\n",
      " 3   active_cred_sum          42943 non-null  float64\n",
      " 4   active_cred_day_overdue  42943 non-null  int64  \n",
      " 5   active_cred_max_overdue  42943 non-null  float64\n",
      " 6   age                      42943 non-null  int64  \n",
      " 7   gender                   42943 non-null  int64  \n",
      " 8   region                   42943 non-null  int64  \n",
      " 9   first_loan               42926 non-null  float64\n",
      " 10  loan_cost_all            42943 non-null  int64  \n",
      " 11  first_days_quant         42943 non-null  int64  \n",
      " 12  month_income             42943 non-null  float64\n",
      " 13  order_date               42943 non-null  object \n",
      " 14  cost_all                 42943 non-null  float64\n",
      " 15  order_id                 42943 non-null  int64  \n",
      " 16  client_id                42943 non-null  int64  \n",
      " 17  expert                   42943 non-null  int64  \n",
      "dtypes: float64(7), int64(10), object(1)\n",
      "memory usage: 6.2+ MB\n"
     ]
    }
   ],
   "metadata": {}
  },
  {
   "cell_type": "code",
   "execution_count": 13,
   "source": [
    "X.isna().mean()"
   ],
   "outputs": [
    {
     "output_type": "execute_result",
     "data": {
      "text/plain": [
       "closed_cred_sum            0.000000\n",
       "closed_creds               0.000000\n",
       "active_cred_sum_overdue    0.000000\n",
       "active_cred_sum            0.000000\n",
       "active_cred_day_overdue    0.000000\n",
       "active_cred_max_overdue    0.000000\n",
       "age                        0.000000\n",
       "gender                     0.000000\n",
       "region                     0.000000\n",
       "first_loan                 0.000396\n",
       "loan_cost_all              0.000000\n",
       "first_days_quant           0.000000\n",
       "month_income               0.000000\n",
       "order_date                 0.000000\n",
       "cost_all                   0.000000\n",
       "order_id                   0.000000\n",
       "client_id                  0.000000\n",
       "expert                     0.000000\n",
       "dtype: float64"
      ]
     },
     "metadata": {},
     "execution_count": 13
    }
   ],
   "metadata": {}
  },
  {
   "cell_type": "code",
   "execution_count": 14,
   "source": [
    "#В отношении пропусков данные достаточно чистые, есть пропуски только в графе first_loan \r\n",
    "#Данные пропуски можно заменить либо на медианные, либо на модальные значения, Но можно обратить внимание, что данные \r\n",
    "#столбца first_loan кажутся идентичными с данными столбца loan_cost_all, но заменять их всё равно на них нельзя потому что loan_cost_all это данные уже\r\n",
    "# одобренного кредита "
   ],
   "outputs": [],
   "metadata": {}
  },
  {
   "cell_type": "code",
   "execution_count": 15,
   "source": [
    "X.query('first_loan == loan_cost_all').shape[0], round((X.query('first_loan == loan_cost_all').shape[0]/X.shape[0]*100), 2)"
   ],
   "outputs": [
    {
     "output_type": "execute_result",
     "data": {
      "text/plain": [
       "(35070, 81.67)"
      ]
     },
     "metadata": {},
     "execution_count": 15
    }
   ],
   "metadata": {}
  },
  {
   "cell_type": "code",
   "execution_count": 16,
   "source": [
    "#35070 или 82% строк имеют равные значения в данных столбцах\r\n",
    "# Можно сделать вывод, что организация первоначально одабряет 82% заявок на ту же сумму которая была зпрошена "
   ],
   "outputs": [],
   "metadata": {}
  },
  {
   "cell_type": "code",
   "execution_count": 17,
   "source": [
    "#Замечено два признака, которые можно считать утечками данных \r\n",
    "# 1. loan_cost_all - одобренная клиенту сумма кредита - эти данные появяются уже после общего итога об одобрении \r\n",
    "# 2. cost_all - сумма выплат по одобренноу кредиту \r\n",
    "# удалим их сразу"
   ],
   "outputs": [],
   "metadata": {}
  },
  {
   "cell_type": "code",
   "execution_count": 18,
   "source": [
    "X = X.drop(['loan_cost_all', 'cost_all'], axis=1)"
   ],
   "outputs": [],
   "metadata": {}
  },
  {
   "cell_type": "code",
   "execution_count": 19,
   "source": [
    "#Замена пустых значений на модальные \r\n",
    "values = {\"first_loan\": int(X.first_loan.mode())}\r\n",
    "# df.fillna(value=values)\r\n",
    "X = X.fillna(value=values) "
   ],
   "outputs": [],
   "metadata": {}
  },
  {
   "cell_type": "code",
   "execution_count": 20,
   "source": [
    "X.first_loan"
   ],
   "outputs": [
    {
     "output_type": "execute_result",
     "data": {
      "text/plain": [
       "0        10000.0\n",
       "1        10000.0\n",
       "2        10000.0\n",
       "3        10000.0\n",
       "4         5000.0\n",
       "          ...   \n",
       "49995     3000.0\n",
       "49996     4000.0\n",
       "49997     2000.0\n",
       "49998    10000.0\n",
       "50000     2000.0\n",
       "Name: first_loan, Length: 42943, dtype: float64"
      ]
     },
     "metadata": {},
     "execution_count": 20
    }
   ],
   "metadata": {}
  },
  {
   "cell_type": "code",
   "execution_count": 21,
   "source": [
    "X.first_loan"
   ],
   "outputs": [
    {
     "output_type": "execute_result",
     "data": {
      "text/plain": [
       "0        10000.0\n",
       "1        10000.0\n",
       "2        10000.0\n",
       "3        10000.0\n",
       "4         5000.0\n",
       "          ...   \n",
       "49995     3000.0\n",
       "49996     4000.0\n",
       "49997     2000.0\n",
       "49998    10000.0\n",
       "50000     2000.0\n",
       "Name: first_loan, Length: 42943, dtype: float64"
      ]
     },
     "metadata": {},
     "execution_count": 21
    }
   ],
   "metadata": {}
  },
  {
   "cell_type": "code",
   "execution_count": 22,
   "source": [
    "# Достаточно странно, что есть заявки с нулевой суммой кредита, эти данные можно либо удалить, либо добавить моадльные значения, либо оставить всё как есть \r\n",
    "# Пока оставим \r\n",
    "X.query('first_loan == 0')[['expert']].value_counts()"
   ],
   "outputs": [
    {
     "output_type": "execute_result",
     "data": {
      "text/plain": [
       "Series([], dtype: int64)"
      ]
     },
     "metadata": {},
     "execution_count": 22
    }
   ],
   "metadata": {}
  },
  {
   "cell_type": "code",
   "execution_count": 23,
   "source": [
    "#Продолжим смотреть на призаки с id, проверим уникальность комбинации id заявки и id клиента:\r\n",
    "# Случай А. если число уникальных комбинаций будет равно числу строк, это будет означать, что для каждого человека \r\n",
    "# есть одна уникальная заявка, но по идее так не должно быть, потому что: \r\n",
    "# Случай Б. один клиент может делать несколько заявок или одну заявку оформляют сразу несколько клиентов с разными id  \r\n"
   ],
   "outputs": [],
   "metadata": {}
  },
  {
   "cell_type": "code",
   "execution_count": 24,
   "source": [
    "id_data = X[['order_id', 'client_id']].astype(str)\r\n",
    "id_data['sum_od_order_and_client'] = id_data.order_id + id_data.client_id\r\n",
    "id_data.sum_od_order_and_client.nunique() # - Случай Б, как и ожидалось "
   ],
   "outputs": [
    {
     "output_type": "execute_result",
     "data": {
      "text/plain": [
       "42857"
      ]
     },
     "metadata": {},
     "execution_count": 24
    }
   ],
   "metadata": {}
  },
  {
   "cell_type": "code",
   "execution_count": 25,
   "source": [
    "#Проверим включает в себя id клиента несколько id заявок или наоборот, или и то и другое:\r\n",
    "\r\n",
    "id_data2 = X[['order_id', 'client_id']]\r\n",
    "countof_Ord_for_One_Client = id_data2.groupby('client_id').agg({'order_id': 'count'}).sort_values(by='order_id', ascending=False).value_counts() #подтверждение что у одного клиента может быть больше чем одна заявка\r\n",
    "\r\n",
    "countof_Client_for_One_Ord = id_data2.groupby('order_id').agg({'client_id': 'count'}).sort_values(by='client_id', ascending=False).value_counts() #подтверждение что в одной заявке может участвовать больше одного клиента, в данном случае Максимум 2 клиента в 86 заявках \r\n",
    "countof_Ord_for_One_Client, countof_Client_for_One_Ord\r\n",
    "# # 42943"
   ],
   "outputs": [
    {
     "output_type": "execute_result",
     "data": {
      "text/plain": [
       "(order_id\n",
       " 1           37656\n",
       " 2            2268\n",
       " 3             204\n",
       " 4              21\n",
       " 5               7\n",
       " 6               2\n",
       " 8               1\n",
       " dtype: int64,\n",
       " client_id\n",
       " 1            42771\n",
       " 2               86\n",
       " dtype: int64)"
      ]
     },
     "metadata": {},
     "execution_count": 25
    }
   ],
   "metadata": {}
  },
  {
   "cell_type": "code",
   "execution_count": 26,
   "source": [
    "# # Из вышеизложенного варианты новых признаков:\r\n",
    "# 1. Общее кол-во заявок у данного клиента 'count_of_order'  \r\n",
    "# 2. Сколько клиентов участвуют в одной заявке 'count_of_clients_in_order'\r\n",
    "# 3. Величина суммарного дохода клиентов участвующих в заявке 'sum_salary_of_members'"
   ],
   "outputs": [],
   "metadata": {}
  },
  {
   "cell_type": "code",
   "execution_count": 27,
   "source": [
    "#вспомогательная таблица в которой будет написано id клиента и кол-во его заявок  \r\n",
    "countof_Ord_for_One_Client2 = id_data2.groupby('client_id', as_index=False)\\\r\n",
    "                                      .agg({'order_id': 'count'})\\\r\n",
    "                                      .rename(columns={'order_id' : 'count_of_order'})\r\n",
    "countof_Ord_for_One_Client2.head(5)"
   ],
   "outputs": [
    {
     "output_type": "execute_result",
     "data": {
      "text/plain": [
       "   client_id  count_of_order\n",
       "0        109               1\n",
       "1        144               1\n",
       "2        220               2\n",
       "3        291               1\n",
       "4        324               2"
      ],
      "text/html": [
       "<div>\n",
       "<style scoped>\n",
       "    .dataframe tbody tr th:only-of-type {\n",
       "        vertical-align: middle;\n",
       "    }\n",
       "\n",
       "    .dataframe tbody tr th {\n",
       "        vertical-align: top;\n",
       "    }\n",
       "\n",
       "    .dataframe thead th {\n",
       "        text-align: right;\n",
       "    }\n",
       "</style>\n",
       "<table border=\"1\" class=\"dataframe\">\n",
       "  <thead>\n",
       "    <tr style=\"text-align: right;\">\n",
       "      <th></th>\n",
       "      <th>client_id</th>\n",
       "      <th>count_of_order</th>\n",
       "    </tr>\n",
       "  </thead>\n",
       "  <tbody>\n",
       "    <tr>\n",
       "      <th>0</th>\n",
       "      <td>109</td>\n",
       "      <td>1</td>\n",
       "    </tr>\n",
       "    <tr>\n",
       "      <th>1</th>\n",
       "      <td>144</td>\n",
       "      <td>1</td>\n",
       "    </tr>\n",
       "    <tr>\n",
       "      <th>2</th>\n",
       "      <td>220</td>\n",
       "      <td>2</td>\n",
       "    </tr>\n",
       "    <tr>\n",
       "      <th>3</th>\n",
       "      <td>291</td>\n",
       "      <td>1</td>\n",
       "    </tr>\n",
       "    <tr>\n",
       "      <th>4</th>\n",
       "      <td>324</td>\n",
       "      <td>2</td>\n",
       "    </tr>\n",
       "  </tbody>\n",
       "</table>\n",
       "</div>"
      ]
     },
     "metadata": {},
     "execution_count": 27
    }
   ],
   "metadata": {}
  },
  {
   "cell_type": "code",
   "execution_count": 28,
   "source": [
    "#вспомогательная таблица в которой будет написано id заявки и кол-во клиентов участвующих в заявке \r\n",
    "countof_Client_for_One_Ord2 = id_data2.groupby('order_id', as_index=False)\\\r\n",
    "                                      .agg({'client_id': 'count'})\\\r\n",
    "                                      .rename(columns={'client_id' : 'count_of_clients_in_order'})\r\n",
    "countof_Client_for_One_Ord2.head(5)                                      "
   ],
   "outputs": [
    {
     "output_type": "execute_result",
     "data": {
      "text/plain": [
       "   order_id  count_of_clients_in_order\n",
       "0    695828                          1\n",
       "1    695829                          1\n",
       "2    695830                          1\n",
       "3    695831                          1\n",
       "4    695832                          1"
      ],
      "text/html": [
       "<div>\n",
       "<style scoped>\n",
       "    .dataframe tbody tr th:only-of-type {\n",
       "        vertical-align: middle;\n",
       "    }\n",
       "\n",
       "    .dataframe tbody tr th {\n",
       "        vertical-align: top;\n",
       "    }\n",
       "\n",
       "    .dataframe thead th {\n",
       "        text-align: right;\n",
       "    }\n",
       "</style>\n",
       "<table border=\"1\" class=\"dataframe\">\n",
       "  <thead>\n",
       "    <tr style=\"text-align: right;\">\n",
       "      <th></th>\n",
       "      <th>order_id</th>\n",
       "      <th>count_of_clients_in_order</th>\n",
       "    </tr>\n",
       "  </thead>\n",
       "  <tbody>\n",
       "    <tr>\n",
       "      <th>0</th>\n",
       "      <td>695828</td>\n",
       "      <td>1</td>\n",
       "    </tr>\n",
       "    <tr>\n",
       "      <th>1</th>\n",
       "      <td>695829</td>\n",
       "      <td>1</td>\n",
       "    </tr>\n",
       "    <tr>\n",
       "      <th>2</th>\n",
       "      <td>695830</td>\n",
       "      <td>1</td>\n",
       "    </tr>\n",
       "    <tr>\n",
       "      <th>3</th>\n",
       "      <td>695831</td>\n",
       "      <td>1</td>\n",
       "    </tr>\n",
       "    <tr>\n",
       "      <th>4</th>\n",
       "      <td>695832</td>\n",
       "      <td>1</td>\n",
       "    </tr>\n",
       "  </tbody>\n",
       "</table>\n",
       "</div>"
      ]
     },
     "metadata": {},
     "execution_count": 28
    }
   ],
   "metadata": {}
  },
  {
   "cell_type": "code",
   "execution_count": 29,
   "source": [
    "#вспомогательная таблица в которой будет указано id сделки и суммарная зарплата членов сделки \r\n",
    "id_data3 = X[['order_id', 'client_id', 'month_income']]\r\n",
    "Sum_salary = id_data3.groupby('order_id', as_index=False)\\\r\n",
    "                     .agg({'client_id': 'count', 'month_income': 'sum'})\\\r\n",
    "                     .rename(columns={'month_income' : 'sum_salary_of_members'})\\\r\n",
    "                     .drop('client_id', axis=1)\r\n",
    "Sum_salary.head(5)"
   ],
   "outputs": [
    {
     "output_type": "execute_result",
     "data": {
      "text/plain": [
       "   order_id  sum_salary_of_members\n",
       "0    695828                50000.0\n",
       "1    695829                50000.0\n",
       "2    695830                35000.0\n",
       "3    695831                35000.0\n",
       "4    695832                50000.0"
      ],
      "text/html": [
       "<div>\n",
       "<style scoped>\n",
       "    .dataframe tbody tr th:only-of-type {\n",
       "        vertical-align: middle;\n",
       "    }\n",
       "\n",
       "    .dataframe tbody tr th {\n",
       "        vertical-align: top;\n",
       "    }\n",
       "\n",
       "    .dataframe thead th {\n",
       "        text-align: right;\n",
       "    }\n",
       "</style>\n",
       "<table border=\"1\" class=\"dataframe\">\n",
       "  <thead>\n",
       "    <tr style=\"text-align: right;\">\n",
       "      <th></th>\n",
       "      <th>order_id</th>\n",
       "      <th>sum_salary_of_members</th>\n",
       "    </tr>\n",
       "  </thead>\n",
       "  <tbody>\n",
       "    <tr>\n",
       "      <th>0</th>\n",
       "      <td>695828</td>\n",
       "      <td>50000.0</td>\n",
       "    </tr>\n",
       "    <tr>\n",
       "      <th>1</th>\n",
       "      <td>695829</td>\n",
       "      <td>50000.0</td>\n",
       "    </tr>\n",
       "    <tr>\n",
       "      <th>2</th>\n",
       "      <td>695830</td>\n",
       "      <td>35000.0</td>\n",
       "    </tr>\n",
       "    <tr>\n",
       "      <th>3</th>\n",
       "      <td>695831</td>\n",
       "      <td>35000.0</td>\n",
       "    </tr>\n",
       "    <tr>\n",
       "      <th>4</th>\n",
       "      <td>695832</td>\n",
       "      <td>50000.0</td>\n",
       "    </tr>\n",
       "  </tbody>\n",
       "</table>\n",
       "</div>"
      ]
     },
     "metadata": {},
     "execution_count": 29
    }
   ],
   "metadata": {}
  },
  {
   "cell_type": "code",
   "execution_count": 30,
   "source": [
    "#Добавим получившиеся столбцы в таблицу признаков \r\n",
    "#добавим в X признак кол-ва сделок на клиента по id клиента\r\n",
    "X = X.merge(countof_Ord_for_One_Client2) \r\n",
    "\r\n",
    "#добавим в X признак кол-ва клиентов, участвующих в одной сделке \r\n",
    "X = X.merge(countof_Client_for_One_Ord2) \r\n",
    "\r\n",
    "#добавим в X признак общая сумма зп за месяц всех клиентов участвующих в сделке \r\n",
    "X = X.merge(Sum_salary) "
   ],
   "outputs": [],
   "metadata": {}
  },
  {
   "cell_type": "code",
   "execution_count": null,
   "source": [],
   "outputs": [],
   "metadata": {}
  },
  {
   "cell_type": "code",
   "execution_count": 31,
   "source": [
    "X"
   ],
   "outputs": [
    {
     "output_type": "execute_result",
     "data": {
      "text/plain": [
       "       closed_cred_sum  closed_creds  active_cred_sum_overdue  \\\n",
       "0            143822.00            22                   104.12   \n",
       "1                 0.00             0                 38151.93   \n",
       "2             51356.00             2                  3000.00   \n",
       "3                 0.00             0                 22784.19   \n",
       "4                 0.00             0                 22784.19   \n",
       "...                ...           ...                      ...   \n",
       "42938             0.00             0                 26758.57   \n",
       "42939             0.00             0                 74662.61   \n",
       "42940         21653.49             2                     0.00   \n",
       "42941             0.00             0                     0.00   \n",
       "42942         19750.00             9                 14100.00   \n",
       "\n",
       "       active_cred_sum  active_cred_day_overdue  active_cred_max_overdue  age  \\\n",
       "0            130068.80                        8                   756.09   31   \n",
       "1             46230.00                     1492                 38151.93   51   \n",
       "2              3000.00                        8                  3000.00   28   \n",
       "3             32103.52                      913                 22784.19   28   \n",
       "4             32103.52                      934                 22784.19   29   \n",
       "...                ...                      ...                      ...  ...   \n",
       "42938         25000.00                      371                 26758.57   44   \n",
       "42939         79662.61                     2593                 42204.55   27   \n",
       "42940             0.00                        0                     0.00   28   \n",
       "42941          1000.00                        0                   941.00   22   \n",
       "42942         14100.00                      331                  6000.00   33   \n",
       "\n",
       "       gender  region  first_loan  first_days_quant  month_income  order_date  \\\n",
       "0           0      36     10000.0               196           0.0  2017-07-23   \n",
       "1           0      93     10000.0                17       20000.0  2017-07-23   \n",
       "2           1       3     10000.0                84           0.0  2017-07-23   \n",
       "3           0      52     10000.0                 7           0.0  2017-07-23   \n",
       "4           0       0     10000.0                20           0.0  2017-08-13   \n",
       "...       ...     ...         ...               ...           ...         ...   \n",
       "42938       1      42      3000.0                23       50000.0  2017-08-13   \n",
       "42939       1       0      4000.0                20           0.0  2017-08-13   \n",
       "42940       0      75      2000.0                10       20000.0  2017-08-13   \n",
       "42941       0       0     10000.0                20       35000.0  2017-08-13   \n",
       "42942       0      40      2000.0                21           0.0  2017-08-13   \n",
       "\n",
       "       order_id  client_id  expert  count_of_order  count_of_clients_in_order  \\\n",
       "0        728319     320464       1               1                          1   \n",
       "1        728321     320466       1               1                          1   \n",
       "2        728323     320467       1               1                          1   \n",
       "3        728447     320533       1               2                          1   \n",
       "4        759194     320533       1               2                          1   \n",
       "...         ...        ...     ...             ...                        ...   \n",
       "42938    759462     338231       0               1                          1   \n",
       "42939    759472      96091       1               1                          1   \n",
       "42940    759475     338240       1               1                          1   \n",
       "42941    759485     338246       1               1                          1   \n",
       "42942    759490     261961       1               1                          1   \n",
       "\n",
       "       sum_salary_of_members  \n",
       "0                        0.0  \n",
       "1                    20000.0  \n",
       "2                        0.0  \n",
       "3                        0.0  \n",
       "4                        0.0  \n",
       "...                      ...  \n",
       "42938                50000.0  \n",
       "42939                    0.0  \n",
       "42940                20000.0  \n",
       "42941                35000.0  \n",
       "42942                    0.0  \n",
       "\n",
       "[42943 rows x 19 columns]"
      ],
      "text/html": [
       "<div>\n",
       "<style scoped>\n",
       "    .dataframe tbody tr th:only-of-type {\n",
       "        vertical-align: middle;\n",
       "    }\n",
       "\n",
       "    .dataframe tbody tr th {\n",
       "        vertical-align: top;\n",
       "    }\n",
       "\n",
       "    .dataframe thead th {\n",
       "        text-align: right;\n",
       "    }\n",
       "</style>\n",
       "<table border=\"1\" class=\"dataframe\">\n",
       "  <thead>\n",
       "    <tr style=\"text-align: right;\">\n",
       "      <th></th>\n",
       "      <th>closed_cred_sum</th>\n",
       "      <th>closed_creds</th>\n",
       "      <th>active_cred_sum_overdue</th>\n",
       "      <th>active_cred_sum</th>\n",
       "      <th>active_cred_day_overdue</th>\n",
       "      <th>active_cred_max_overdue</th>\n",
       "      <th>age</th>\n",
       "      <th>gender</th>\n",
       "      <th>region</th>\n",
       "      <th>first_loan</th>\n",
       "      <th>first_days_quant</th>\n",
       "      <th>month_income</th>\n",
       "      <th>order_date</th>\n",
       "      <th>order_id</th>\n",
       "      <th>client_id</th>\n",
       "      <th>expert</th>\n",
       "      <th>count_of_order</th>\n",
       "      <th>count_of_clients_in_order</th>\n",
       "      <th>sum_salary_of_members</th>\n",
       "    </tr>\n",
       "  </thead>\n",
       "  <tbody>\n",
       "    <tr>\n",
       "      <th>0</th>\n",
       "      <td>143822.00</td>\n",
       "      <td>22</td>\n",
       "      <td>104.12</td>\n",
       "      <td>130068.80</td>\n",
       "      <td>8</td>\n",
       "      <td>756.09</td>\n",
       "      <td>31</td>\n",
       "      <td>0</td>\n",
       "      <td>36</td>\n",
       "      <td>10000.0</td>\n",
       "      <td>196</td>\n",
       "      <td>0.0</td>\n",
       "      <td>2017-07-23</td>\n",
       "      <td>728319</td>\n",
       "      <td>320464</td>\n",
       "      <td>1</td>\n",
       "      <td>1</td>\n",
       "      <td>1</td>\n",
       "      <td>0.0</td>\n",
       "    </tr>\n",
       "    <tr>\n",
       "      <th>1</th>\n",
       "      <td>0.00</td>\n",
       "      <td>0</td>\n",
       "      <td>38151.93</td>\n",
       "      <td>46230.00</td>\n",
       "      <td>1492</td>\n",
       "      <td>38151.93</td>\n",
       "      <td>51</td>\n",
       "      <td>0</td>\n",
       "      <td>93</td>\n",
       "      <td>10000.0</td>\n",
       "      <td>17</td>\n",
       "      <td>20000.0</td>\n",
       "      <td>2017-07-23</td>\n",
       "      <td>728321</td>\n",
       "      <td>320466</td>\n",
       "      <td>1</td>\n",
       "      <td>1</td>\n",
       "      <td>1</td>\n",
       "      <td>20000.0</td>\n",
       "    </tr>\n",
       "    <tr>\n",
       "      <th>2</th>\n",
       "      <td>51356.00</td>\n",
       "      <td>2</td>\n",
       "      <td>3000.00</td>\n",
       "      <td>3000.00</td>\n",
       "      <td>8</td>\n",
       "      <td>3000.00</td>\n",
       "      <td>28</td>\n",
       "      <td>1</td>\n",
       "      <td>3</td>\n",
       "      <td>10000.0</td>\n",
       "      <td>84</td>\n",
       "      <td>0.0</td>\n",
       "      <td>2017-07-23</td>\n",
       "      <td>728323</td>\n",
       "      <td>320467</td>\n",
       "      <td>1</td>\n",
       "      <td>1</td>\n",
       "      <td>1</td>\n",
       "      <td>0.0</td>\n",
       "    </tr>\n",
       "    <tr>\n",
       "      <th>3</th>\n",
       "      <td>0.00</td>\n",
       "      <td>0</td>\n",
       "      <td>22784.19</td>\n",
       "      <td>32103.52</td>\n",
       "      <td>913</td>\n",
       "      <td>22784.19</td>\n",
       "      <td>28</td>\n",
       "      <td>0</td>\n",
       "      <td>52</td>\n",
       "      <td>10000.0</td>\n",
       "      <td>7</td>\n",
       "      <td>0.0</td>\n",
       "      <td>2017-07-23</td>\n",
       "      <td>728447</td>\n",
       "      <td>320533</td>\n",
       "      <td>1</td>\n",
       "      <td>2</td>\n",
       "      <td>1</td>\n",
       "      <td>0.0</td>\n",
       "    </tr>\n",
       "    <tr>\n",
       "      <th>4</th>\n",
       "      <td>0.00</td>\n",
       "      <td>0</td>\n",
       "      <td>22784.19</td>\n",
       "      <td>32103.52</td>\n",
       "      <td>934</td>\n",
       "      <td>22784.19</td>\n",
       "      <td>29</td>\n",
       "      <td>0</td>\n",
       "      <td>0</td>\n",
       "      <td>10000.0</td>\n",
       "      <td>20</td>\n",
       "      <td>0.0</td>\n",
       "      <td>2017-08-13</td>\n",
       "      <td>759194</td>\n",
       "      <td>320533</td>\n",
       "      <td>1</td>\n",
       "      <td>2</td>\n",
       "      <td>1</td>\n",
       "      <td>0.0</td>\n",
       "    </tr>\n",
       "    <tr>\n",
       "      <th>...</th>\n",
       "      <td>...</td>\n",
       "      <td>...</td>\n",
       "      <td>...</td>\n",
       "      <td>...</td>\n",
       "      <td>...</td>\n",
       "      <td>...</td>\n",
       "      <td>...</td>\n",
       "      <td>...</td>\n",
       "      <td>...</td>\n",
       "      <td>...</td>\n",
       "      <td>...</td>\n",
       "      <td>...</td>\n",
       "      <td>...</td>\n",
       "      <td>...</td>\n",
       "      <td>...</td>\n",
       "      <td>...</td>\n",
       "      <td>...</td>\n",
       "      <td>...</td>\n",
       "      <td>...</td>\n",
       "    </tr>\n",
       "    <tr>\n",
       "      <th>42938</th>\n",
       "      <td>0.00</td>\n",
       "      <td>0</td>\n",
       "      <td>26758.57</td>\n",
       "      <td>25000.00</td>\n",
       "      <td>371</td>\n",
       "      <td>26758.57</td>\n",
       "      <td>44</td>\n",
       "      <td>1</td>\n",
       "      <td>42</td>\n",
       "      <td>3000.0</td>\n",
       "      <td>23</td>\n",
       "      <td>50000.0</td>\n",
       "      <td>2017-08-13</td>\n",
       "      <td>759462</td>\n",
       "      <td>338231</td>\n",
       "      <td>0</td>\n",
       "      <td>1</td>\n",
       "      <td>1</td>\n",
       "      <td>50000.0</td>\n",
       "    </tr>\n",
       "    <tr>\n",
       "      <th>42939</th>\n",
       "      <td>0.00</td>\n",
       "      <td>0</td>\n",
       "      <td>74662.61</td>\n",
       "      <td>79662.61</td>\n",
       "      <td>2593</td>\n",
       "      <td>42204.55</td>\n",
       "      <td>27</td>\n",
       "      <td>1</td>\n",
       "      <td>0</td>\n",
       "      <td>4000.0</td>\n",
       "      <td>20</td>\n",
       "      <td>0.0</td>\n",
       "      <td>2017-08-13</td>\n",
       "      <td>759472</td>\n",
       "      <td>96091</td>\n",
       "      <td>1</td>\n",
       "      <td>1</td>\n",
       "      <td>1</td>\n",
       "      <td>0.0</td>\n",
       "    </tr>\n",
       "    <tr>\n",
       "      <th>42940</th>\n",
       "      <td>21653.49</td>\n",
       "      <td>2</td>\n",
       "      <td>0.00</td>\n",
       "      <td>0.00</td>\n",
       "      <td>0</td>\n",
       "      <td>0.00</td>\n",
       "      <td>28</td>\n",
       "      <td>0</td>\n",
       "      <td>75</td>\n",
       "      <td>2000.0</td>\n",
       "      <td>10</td>\n",
       "      <td>20000.0</td>\n",
       "      <td>2017-08-13</td>\n",
       "      <td>759475</td>\n",
       "      <td>338240</td>\n",
       "      <td>1</td>\n",
       "      <td>1</td>\n",
       "      <td>1</td>\n",
       "      <td>20000.0</td>\n",
       "    </tr>\n",
       "    <tr>\n",
       "      <th>42941</th>\n",
       "      <td>0.00</td>\n",
       "      <td>0</td>\n",
       "      <td>0.00</td>\n",
       "      <td>1000.00</td>\n",
       "      <td>0</td>\n",
       "      <td>941.00</td>\n",
       "      <td>22</td>\n",
       "      <td>0</td>\n",
       "      <td>0</td>\n",
       "      <td>10000.0</td>\n",
       "      <td>20</td>\n",
       "      <td>35000.0</td>\n",
       "      <td>2017-08-13</td>\n",
       "      <td>759485</td>\n",
       "      <td>338246</td>\n",
       "      <td>1</td>\n",
       "      <td>1</td>\n",
       "      <td>1</td>\n",
       "      <td>35000.0</td>\n",
       "    </tr>\n",
       "    <tr>\n",
       "      <th>42942</th>\n",
       "      <td>19750.00</td>\n",
       "      <td>9</td>\n",
       "      <td>14100.00</td>\n",
       "      <td>14100.00</td>\n",
       "      <td>331</td>\n",
       "      <td>6000.00</td>\n",
       "      <td>33</td>\n",
       "      <td>0</td>\n",
       "      <td>40</td>\n",
       "      <td>2000.0</td>\n",
       "      <td>21</td>\n",
       "      <td>0.0</td>\n",
       "      <td>2017-08-13</td>\n",
       "      <td>759490</td>\n",
       "      <td>261961</td>\n",
       "      <td>1</td>\n",
       "      <td>1</td>\n",
       "      <td>1</td>\n",
       "      <td>0.0</td>\n",
       "    </tr>\n",
       "  </tbody>\n",
       "</table>\n",
       "<p>42943 rows × 19 columns</p>\n",
       "</div>"
      ]
     },
     "metadata": {},
     "execution_count": 31
    }
   ],
   "metadata": {}
  },
  {
   "cell_type": "code",
   "execution_count": 32,
   "source": [
    "#Для начала посмотрим на матрицу корреляций числовых признаков для того, чтобы оценить расклад фич\r\n",
    "sns.set(rc={'figure.figsize':(15, 7)}) \r\n",
    "sns.heatmap(data.corr(),annot = True);\r\n",
    "#результирующий лейбл умеренно коррелирует (>0.3) только с loan_cost_all и с cliend_id\r\n",
    "\r\n",
    "#высокая взаимосвязь (от 0.7 до 0.9) у признаков:\r\n",
    "# а. active_cred_sum_overdue и active_cred_max_overdue что достаточно логично ибо из суммарной задолженности по активным кредитам формируется максимальная задолженность по активным кредитам \r\n",
    "# б. loan_cost_all и first_loan также закономерная зависимость ибо первая вытекает из второй "
   ],
   "outputs": [
    {
     "output_type": "display_data",
     "data": {
      "text/plain": [
       "<Figure size 1080x504 with 2 Axes>"
      ],
      "image/png": "[encoded data removed]"
     },
     "metadata": {}
    }
   ],
   "metadata": {}
  },
  {
   "cell_type": "code",
   "execution_count": 33,
   "source": [
    "#Приступим к анализу блока переменных, характеризующих кредитную историю клиента \r\n",
    "# 1. closed_cred_sum - сумма которую клиент выплатил по ранее взятым закрытым кредитам "
   ],
   "outputs": [],
   "metadata": {}
  },
  {
   "cell_type": "code",
   "execution_count": 34,
   "source": [
    "#посмотрим на распределение данных для тех заявок, что одобрены и не одобрены \r\n",
    "sns.set(rc={'figure.figsize':(15, 4)}) \r\n",
    "data.query('expert == 0').closed_cred_sum.plot()\r\n",
    "data.query('expert == 1').closed_cred_sum.plot(alpha=0.6)\r\n",
    "#зависимость из визуального анализа не заметна "
   ],
   "outputs": [
    {
     "output_type": "execute_result",
     "data": {
      "text/plain": [
       "<AxesSubplot:>"
      ]
     },
     "metadata": {},
     "execution_count": 34
    },
    {
     "output_type": "display_data",
     "data": {
      "text/plain": [
       "<Figure size 1080x288 with 1 Axes>"
      ],
      "image/png": "[encoded data removed]"
     },
     "metadata": {}
    }
   ],
   "metadata": {}
  },
  {
   "cell_type": "code",
   "execution_count": 35,
   "source": [
    " pd.DataFrame({'-': data.query('expert == 1').closed_cred_sum.describe().apply(lambda x: format(x, 'f')), \r\n",
    "               '+': data.query('expert == 0').closed_cred_sum.describe().apply(lambda x: format(x, 'f'))})"
   ],
   "outputs": [
    {
     "output_type": "execute_result",
     "data": {
      "text/plain": [
       "                     -                +\n",
       "count     31714.000000     11229.000000\n",
       "mean     147921.350909    270471.228700\n",
       "std      432906.117297    674371.515208\n",
       "min           0.000000         0.000000\n",
       "25%        2000.000000     20714.000000\n",
       "50%       28999.000000     92800.000000\n",
       "75%      124796.500000    288649.170000\n",
       "max    30390879.000000  44574209.380000"
      ],
      "text/html": [
       "<div>\n",
       "<style scoped>\n",
       "    .dataframe tbody tr th:only-of-type {\n",
       "        vertical-align: middle;\n",
       "    }\n",
       "\n",
       "    .dataframe tbody tr th {\n",
       "        vertical-align: top;\n",
       "    }\n",
       "\n",
       "    .dataframe thead th {\n",
       "        text-align: right;\n",
       "    }\n",
       "</style>\n",
       "<table border=\"1\" class=\"dataframe\">\n",
       "  <thead>\n",
       "    <tr style=\"text-align: right;\">\n",
       "      <th></th>\n",
       "      <th>-</th>\n",
       "      <th>+</th>\n",
       "    </tr>\n",
       "  </thead>\n",
       "  <tbody>\n",
       "    <tr>\n",
       "      <th>count</th>\n",
       "      <td>31714.000000</td>\n",
       "      <td>11229.000000</td>\n",
       "    </tr>\n",
       "    <tr>\n",
       "      <th>mean</th>\n",
       "      <td>147921.350909</td>\n",
       "      <td>270471.228700</td>\n",
       "    </tr>\n",
       "    <tr>\n",
       "      <th>std</th>\n",
       "      <td>432906.117297</td>\n",
       "      <td>674371.515208</td>\n",
       "    </tr>\n",
       "    <tr>\n",
       "      <th>min</th>\n",
       "      <td>0.000000</td>\n",
       "      <td>0.000000</td>\n",
       "    </tr>\n",
       "    <tr>\n",
       "      <th>25%</th>\n",
       "      <td>2000.000000</td>\n",
       "      <td>20714.000000</td>\n",
       "    </tr>\n",
       "    <tr>\n",
       "      <th>50%</th>\n",
       "      <td>28999.000000</td>\n",
       "      <td>92800.000000</td>\n",
       "    </tr>\n",
       "    <tr>\n",
       "      <th>75%</th>\n",
       "      <td>124796.500000</td>\n",
       "      <td>288649.170000</td>\n",
       "    </tr>\n",
       "    <tr>\n",
       "      <th>max</th>\n",
       "      <td>30390879.000000</td>\n",
       "      <td>44574209.380000</td>\n",
       "    </tr>\n",
       "  </tbody>\n",
       "</table>\n",
       "</div>"
      ]
     },
     "metadata": {},
     "execution_count": 35
    }
   ],
   "metadata": {}
  },
  {
   "cell_type": "code",
   "execution_count": 36,
   "source": [
    "#так как значения квантилей для отклоненных и одобренных значительно отличаются, разобьём значениям согласно квантилям для одобренных значений    "
   ],
   "outputs": [],
   "metadata": {}
  },
  {
   "cell_type": "code",
   "execution_count": 37,
   "source": [
    "pd.DataFrame(pd.qcut(X['closed_cred_sum'],4)).closed_cred_sum.unique()"
   ],
   "outputs": [
    {
     "output_type": "execute_result",
     "data": {
      "text/plain": [
       "[(39835.0, 165000.0], (-0.001, 5000.0], (5000.0, 39835.0], (165000.0, 44574209.38]]\n",
       "Categories (4, interval[float64]): [(-0.001, 5000.0] < (5000.0, 39835.0] < (39835.0, 165000.0] < (165000.0, 44574209.38]]"
      ]
     },
     "metadata": {},
     "execution_count": 37
    }
   ],
   "metadata": {}
  },
  {
   "cell_type": "code",
   "execution_count": 38,
   "source": [
    "X['closed_cred_sum_Category'] = pd.cut(X['closed_cred_sum'], bins=[0, 5000, 40000, 165000, 45000000], include_lowest=True, labels=['1','2','3','4']).astype(int);"
   ],
   "outputs": [],
   "metadata": {}
  },
  {
   "cell_type": "code",
   "execution_count": 39,
   "source": [
    "#Кол-во значений в каждой из получившихся категорий\r\n",
    "X.closed_cred_sum_Category.value_counts()"
   ],
   "outputs": [
    {
     "output_type": "execute_result",
     "data": {
      "text/plain": [
       "1    10935\n",
       "4    10728\n",
       "2    10640\n",
       "3    10640\n",
       "Name: closed_cred_sum_Category, dtype: int64"
      ]
     },
     "metadata": {},
     "execution_count": 39
    }
   ],
   "metadata": {}
  },
  {
   "cell_type": "code",
   "execution_count": null,
   "source": [],
   "outputs": [],
   "metadata": {}
  },
  {
   "cell_type": "code",
   "execution_count": 40,
   "source": [
    "# 2. closed_creds - количество закрытых кредитов"
   ],
   "outputs": [],
   "metadata": {}
  },
  {
   "cell_type": "code",
   "execution_count": 41,
   "source": [
    "sns.set(rc={'figure.figsize':(15, 4)}) \r\n",
    "data.query('expert == 0').closed_creds.plot(label='Approve')\r\n",
    "data.query('expert == 1').closed_creds.plot(alpha=0.6, label='Decline')\r\n",
    "plt.legend()\r\n"
   ],
   "outputs": [
    {
     "output_type": "execute_result",
     "data": {
      "text/plain": [
       "<matplotlib.legend.Legend at 0x23f2d2a5e20>"
      ]
     },
     "metadata": {},
     "execution_count": 41
    },
    {
     "output_type": "display_data",
     "data": {
      "text/plain": [
       "<Figure size 1080x288 with 1 Axes>"
      ],
      "image/png": "[encoded data removed]"
     },
     "metadata": {}
    }
   ],
   "metadata": {}
  },
  {
   "cell_type": "code",
   "execution_count": 42,
   "source": [
    "sns.set(rc={'figure.figsize':(9, 4)})\r\n",
    "sns.barplot(x='expert', y='closed_creds', data=data)"
   ],
   "outputs": [
    {
     "output_type": "execute_result",
     "data": {
      "text/plain": [
       "<AxesSubplot:xlabel='expert', ylabel='closed_creds'>"
      ]
     },
     "metadata": {},
     "execution_count": 42
    },
    {
     "output_type": "display_data",
     "data": {
      "text/plain": [
       "<Figure size 648x288 with 1 Axes>"
      ],
      "image/png": "[encoded data removed]"
     },
     "metadata": {}
    }
   ],
   "metadata": {}
  },
  {
   "cell_type": "code",
   "execution_count": 43,
   "source": [
    "#из визуального анализа данного признака заметно зависимость, что чем больше кол-во закрытых кредитов, там больше у тебя будет одобренных заявок "
   ],
   "outputs": [],
   "metadata": {}
  },
  {
   "cell_type": "code",
   "execution_count": 44,
   "source": [
    " pd.DataFrame({'-': data.query('expert == 1').closed_creds.describe().apply(lambda x: format(x, 'f')), \r\n",
    "               '+': data.query('expert == 0').closed_creds.describe().apply(lambda x: format(x, 'f'))})"
   ],
   "outputs": [
    {
     "output_type": "execute_result",
     "data": {
      "text/plain": [
       "                  -             +\n",
       "count  31714.000000  11229.000000\n",
       "mean       6.299268     12.178645\n",
       "std       11.426447     18.783552\n",
       "min        0.000000      0.000000\n",
       "25%        1.000000      2.000000\n",
       "50%        3.000000      7.000000\n",
       "75%        7.000000     15.000000\n",
       "max      243.000000    563.000000"
      ],
      "text/html": [
       "<div>\n",
       "<style scoped>\n",
       "    .dataframe tbody tr th:only-of-type {\n",
       "        vertical-align: middle;\n",
       "    }\n",
       "\n",
       "    .dataframe tbody tr th {\n",
       "        vertical-align: top;\n",
       "    }\n",
       "\n",
       "    .dataframe thead th {\n",
       "        text-align: right;\n",
       "    }\n",
       "</style>\n",
       "<table border=\"1\" class=\"dataframe\">\n",
       "  <thead>\n",
       "    <tr style=\"text-align: right;\">\n",
       "      <th></th>\n",
       "      <th>-</th>\n",
       "      <th>+</th>\n",
       "    </tr>\n",
       "  </thead>\n",
       "  <tbody>\n",
       "    <tr>\n",
       "      <th>count</th>\n",
       "      <td>31714.000000</td>\n",
       "      <td>11229.000000</td>\n",
       "    </tr>\n",
       "    <tr>\n",
       "      <th>mean</th>\n",
       "      <td>6.299268</td>\n",
       "      <td>12.178645</td>\n",
       "    </tr>\n",
       "    <tr>\n",
       "      <th>std</th>\n",
       "      <td>11.426447</td>\n",
       "      <td>18.783552</td>\n",
       "    </tr>\n",
       "    <tr>\n",
       "      <th>min</th>\n",
       "      <td>0.000000</td>\n",
       "      <td>0.000000</td>\n",
       "    </tr>\n",
       "    <tr>\n",
       "      <th>25%</th>\n",
       "      <td>1.000000</td>\n",
       "      <td>2.000000</td>\n",
       "    </tr>\n",
       "    <tr>\n",
       "      <th>50%</th>\n",
       "      <td>3.000000</td>\n",
       "      <td>7.000000</td>\n",
       "    </tr>\n",
       "    <tr>\n",
       "      <th>75%</th>\n",
       "      <td>7.000000</td>\n",
       "      <td>15.000000</td>\n",
       "    </tr>\n",
       "    <tr>\n",
       "      <th>max</th>\n",
       "      <td>243.000000</td>\n",
       "      <td>563.000000</td>\n",
       "    </tr>\n",
       "  </tbody>\n",
       "</table>\n",
       "</div>"
      ]
     },
     "metadata": {},
     "execution_count": 44
    }
   ],
   "metadata": {}
  },
  {
   "cell_type": "code",
   "execution_count": 45,
   "source": [
    "#у 50% одобренных заявок кол-во кредитов не превышает 7 штук, сделаем бинарный признак по моде + столбца, если > 7= 1, <7 =0"
   ],
   "outputs": [],
   "metadata": {}
  },
  {
   "cell_type": "code",
   "execution_count": 46,
   "source": [
    "X['binary_closed_creds'] = X['closed_creds'].apply(lambda x: 1 if x>7 else 0)"
   ],
   "outputs": [],
   "metadata": {}
  },
  {
   "cell_type": "code",
   "execution_count": null,
   "source": [],
   "outputs": [],
   "metadata": {}
  },
  {
   "cell_type": "code",
   "execution_count": 47,
   "source": [
    "# 3. active_cred_sum_overdue - суммарная задолженность по активным кредитам\r\n",
    "#Данным признак обязан быть показательным и хорошо разделять выборку, ибо на текущую задолженность точно необходимо смотреть при выдаче кредита "
   ],
   "outputs": [],
   "metadata": {}
  },
  {
   "cell_type": "code",
   "execution_count": 48,
   "source": [
    "sns.set(rc={'figure.figsize':(15, 4)}) \r\n",
    "data.query('expert == 0').active_cred_sum_overdue.plot(label='Approve')\r\n",
    "data.query('expert == 1').active_cred_sum_overdue.plot(alpha=0.6, label='Decline')\r\n",
    "plt.legend()"
   ],
   "outputs": [
    {
     "output_type": "execute_result",
     "data": {
      "text/plain": [
       "<matplotlib.legend.Legend at 0x23f2d2add00>"
      ]
     },
     "metadata": {},
     "execution_count": 48
    },
    {
     "output_type": "display_data",
     "data": {
      "text/plain": [
       "<Figure size 1080x288 with 1 Axes>"
      ],
      "image/png": "[encoded data removed]"
     },
     "metadata": {}
    }
   ],
   "metadata": {}
  },
  {
   "cell_type": "code",
   "execution_count": 49,
   "source": [
    "sns.set(rc={'figure.figsize':(9, 4)})\r\n",
    "sns.barplot(x='expert', y='active_cred_sum_overdue', data=data)"
   ],
   "outputs": [
    {
     "output_type": "execute_result",
     "data": {
      "text/plain": [
       "<AxesSubplot:xlabel='expert', ylabel='active_cred_sum_overdue'>"
      ]
     },
     "metadata": {},
     "execution_count": 49
    },
    {
     "output_type": "display_data",
     "data": {
      "text/plain": [
       "<Figure size 648x288 with 1 Axes>"
      ],
      "image/png": "[encoded data removed]"
     },
     "metadata": {}
    }
   ],
   "metadata": {}
  },
  {
   "cell_type": "code",
   "execution_count": 50,
   "source": [
    "#Визуальный анализ: предоположение о том, что чем больше текущая задолженность, тем меньше вероятность получить новый кредит абсолютно верна "
   ],
   "outputs": [],
   "metadata": {}
  },
  {
   "cell_type": "code",
   "execution_count": 51,
   "source": [
    " pd.DataFrame({'-': data.query('expert == 1').active_cred_sum_overdue.describe().apply(lambda x: format(x, 'f')), \r\n",
    "               '+': data.query('expert == 0').active_cred_sum_overdue.describe().apply(lambda x: format(x, 'f'))})"
   ],
   "outputs": [
    {
     "output_type": "execute_result",
     "data": {
      "text/plain": [
       "                     -               +\n",
       "count     31714.000000    11229.000000\n",
       "mean      58538.416364    25068.085877\n",
       "std      277812.601061   122387.125711\n",
       "min           0.000000        0.000000\n",
       "25%           0.000000        0.000000\n",
       "50%        9000.000000        0.000000\n",
       "75%       39399.817500     6694.250000\n",
       "max    33030999.240000  5068666.760000"
      ],
      "text/html": [
       "<div>\n",
       "<style scoped>\n",
       "    .dataframe tbody tr th:only-of-type {\n",
       "        vertical-align: middle;\n",
       "    }\n",
       "\n",
       "    .dataframe tbody tr th {\n",
       "        vertical-align: top;\n",
       "    }\n",
       "\n",
       "    .dataframe thead th {\n",
       "        text-align: right;\n",
       "    }\n",
       "</style>\n",
       "<table border=\"1\" class=\"dataframe\">\n",
       "  <thead>\n",
       "    <tr style=\"text-align: right;\">\n",
       "      <th></th>\n",
       "      <th>-</th>\n",
       "      <th>+</th>\n",
       "    </tr>\n",
       "  </thead>\n",
       "  <tbody>\n",
       "    <tr>\n",
       "      <th>count</th>\n",
       "      <td>31714.000000</td>\n",
       "      <td>11229.000000</td>\n",
       "    </tr>\n",
       "    <tr>\n",
       "      <th>mean</th>\n",
       "      <td>58538.416364</td>\n",
       "      <td>25068.085877</td>\n",
       "    </tr>\n",
       "    <tr>\n",
       "      <th>std</th>\n",
       "      <td>277812.601061</td>\n",
       "      <td>122387.125711</td>\n",
       "    </tr>\n",
       "    <tr>\n",
       "      <th>min</th>\n",
       "      <td>0.000000</td>\n",
       "      <td>0.000000</td>\n",
       "    </tr>\n",
       "    <tr>\n",
       "      <th>25%</th>\n",
       "      <td>0.000000</td>\n",
       "      <td>0.000000</td>\n",
       "    </tr>\n",
       "    <tr>\n",
       "      <th>50%</th>\n",
       "      <td>9000.000000</td>\n",
       "      <td>0.000000</td>\n",
       "    </tr>\n",
       "    <tr>\n",
       "      <th>75%</th>\n",
       "      <td>39399.817500</td>\n",
       "      <td>6694.250000</td>\n",
       "    </tr>\n",
       "    <tr>\n",
       "      <th>max</th>\n",
       "      <td>33030999.240000</td>\n",
       "      <td>5068666.760000</td>\n",
       "    </tr>\n",
       "  </tbody>\n",
       "</table>\n",
       "</div>"
      ]
     },
     "metadata": {},
     "execution_count": 51
    }
   ],
   "metadata": {}
  },
  {
   "cell_type": "code",
   "execution_count": 52,
   "source": [
    "#Можно легко создать бинарный признак, который разделит выборку на тех у кого задолженность больше 0 и меньше. Так как c 50% вероятностью у клиента одобрят кредит, если его просроченная сумма активных кредитов =\r\n",
    "X['Binary_active_cred_sum_overdue'] = X['active_cred_sum_overdue'].apply(lambda x: 1 if x>0 else 0)"
   ],
   "outputs": [],
   "metadata": {}
  },
  {
   "cell_type": "code",
   "execution_count": null,
   "source": [],
   "outputs": [],
   "metadata": {}
  },
  {
   "cell_type": "code",
   "execution_count": 53,
   "source": [
    "#4. active_cred_sum - сумма всех активных кредитов "
   ],
   "outputs": [],
   "metadata": {}
  },
  {
   "cell_type": "code",
   "execution_count": 54,
   "source": [
    "sns.set(rc={'figure.figsize':(15, 4)}) \r\n",
    "data.query('expert == 0').active_cred_sum.plot(label='Approve')\r\n",
    "data.query('expert == 1').active_cred_sum.plot(alpha=0.6, label='Decline')\r\n",
    "plt.legend()"
   ],
   "outputs": [
    {
     "output_type": "execute_result",
     "data": {
      "text/plain": [
       "<matplotlib.legend.Legend at 0x23f82a1b850>"
      ]
     },
     "metadata": {},
     "execution_count": 54
    },
    {
     "output_type": "display_data",
     "data": {
      "text/plain": [
       "<Figure size 1080x288 with 1 Axes>"
      ],
      "image/png": "[encoded data removed]"
     },
     "metadata": {}
    }
   ],
   "metadata": {}
  },
  {
   "cell_type": "code",
   "execution_count": 55,
   "source": [
    "sns.set(rc={'figure.figsize':(9, 4)})\r\n",
    "sns.barplot(x='expert', y='active_cred_sum', data=data)"
   ],
   "outputs": [
    {
     "output_type": "execute_result",
     "data": {
      "text/plain": [
       "<AxesSubplot:xlabel='expert', ylabel='active_cred_sum'>"
      ]
     },
     "metadata": {},
     "execution_count": 55
    },
    {
     "output_type": "display_data",
     "data": {
      "text/plain": [
       "<Figure size 648x288 with 1 Axes>"
      ],
      "image/png": "[encoded data removed]"
     },
     "metadata": {}
    }
   ],
   "metadata": {}
  },
  {
   "cell_type": "code",
   "execution_count": 56,
   "source": [
    "# Визуальный анализ: не показывает яркой взаимосвязи факторов, видно что чем больше сумма всех активных кредитов, тем с большей вероятностью одобрят заявку "
   ],
   "outputs": [],
   "metadata": {}
  },
  {
   "cell_type": "code",
   "execution_count": 57,
   "source": [
    " pd.DataFrame({'-': data.query('expert == 1').active_cred_sum.describe().apply(lambda x: format(x, 'f')), \r\n",
    "               '+': data.query('expert == 0').active_cred_sum.describe().apply(lambda x: format(x, 'f'))})"
   ],
   "outputs": [
    {
     "output_type": "execute_result",
     "data": {
      "text/plain": [
       "                     -                +\n",
       "count     31714.000000     11229.000000\n",
       "mean     171480.771628    237382.864460\n",
       "std      408290.606916    464105.599374\n",
       "min           0.000000         0.000000\n",
       "25%       12400.000000     17000.000000\n",
       "50%       47500.000000     84990.000000\n",
       "75%      162624.720000    264490.000000\n",
       "max    22731655.240000  14546128.700000"
      ],
      "text/html": [
       "<div>\n",
       "<style scoped>\n",
       "    .dataframe tbody tr th:only-of-type {\n",
       "        vertical-align: middle;\n",
       "    }\n",
       "\n",
       "    .dataframe tbody tr th {\n",
       "        vertical-align: top;\n",
       "    }\n",
       "\n",
       "    .dataframe thead th {\n",
       "        text-align: right;\n",
       "    }\n",
       "</style>\n",
       "<table border=\"1\" class=\"dataframe\">\n",
       "  <thead>\n",
       "    <tr style=\"text-align: right;\">\n",
       "      <th></th>\n",
       "      <th>-</th>\n",
       "      <th>+</th>\n",
       "    </tr>\n",
       "  </thead>\n",
       "  <tbody>\n",
       "    <tr>\n",
       "      <th>count</th>\n",
       "      <td>31714.000000</td>\n",
       "      <td>11229.000000</td>\n",
       "    </tr>\n",
       "    <tr>\n",
       "      <th>mean</th>\n",
       "      <td>171480.771628</td>\n",
       "      <td>237382.864460</td>\n",
       "    </tr>\n",
       "    <tr>\n",
       "      <th>std</th>\n",
       "      <td>408290.606916</td>\n",
       "      <td>464105.599374</td>\n",
       "    </tr>\n",
       "    <tr>\n",
       "      <th>min</th>\n",
       "      <td>0.000000</td>\n",
       "      <td>0.000000</td>\n",
       "    </tr>\n",
       "    <tr>\n",
       "      <th>25%</th>\n",
       "      <td>12400.000000</td>\n",
       "      <td>17000.000000</td>\n",
       "    </tr>\n",
       "    <tr>\n",
       "      <th>50%</th>\n",
       "      <td>47500.000000</td>\n",
       "      <td>84990.000000</td>\n",
       "    </tr>\n",
       "    <tr>\n",
       "      <th>75%</th>\n",
       "      <td>162624.720000</td>\n",
       "      <td>264490.000000</td>\n",
       "    </tr>\n",
       "    <tr>\n",
       "      <th>max</th>\n",
       "      <td>22731655.240000</td>\n",
       "      <td>14546128.700000</td>\n",
       "    </tr>\n",
       "  </tbody>\n",
       "</table>\n",
       "</div>"
      ]
     },
     "metadata": {},
     "execution_count": 57
    }
   ],
   "metadata": {}
  },
  {
   "cell_type": "code",
   "execution_count": 58,
   "source": [
    "#Вывод: можно ничего не менять или сделать бинарную классифиикаю по квантилю 50 для одобренных заявок или проделать нормализацию значений, пока сделаем просто классификацию \r\n",
    "X['Binary_active_cred_sum'] = X['active_cred_sum'].apply(lambda x: 1 if x>10000 else 0)"
   ],
   "outputs": [],
   "metadata": {}
  },
  {
   "cell_type": "code",
   "execution_count": null,
   "source": [],
   "outputs": [],
   "metadata": {}
  },
  {
   "cell_type": "code",
   "execution_count": 59,
   "source": [
    "#5.active_cred_day_overdue - суммарная просрочка в днях по всем актуальным кредитам\r\n",
    "#Признак должен хорошо разделять выборку, ибо обычно чем больше сумма просрочки по уже имеющимся кредитам, тем с меньшим желанием организация будет давать кредит "
   ],
   "outputs": [],
   "metadata": {}
  },
  {
   "cell_type": "code",
   "execution_count": 60,
   "source": [
    "sns.set(rc={'figure.figsize':(15, 4)}) \r\n",
    "data.query('expert == 0').active_cred_day_overdue.plot(label='Approve')\r\n",
    "data.query('expert == 1').active_cred_day_overdue.plot(alpha=0.6, label='Decline')\r\n",
    "plt.legend()"
   ],
   "outputs": [
    {
     "output_type": "execute_result",
     "data": {
      "text/plain": [
       "<matplotlib.legend.Legend at 0x23f82f61820>"
      ]
     },
     "metadata": {},
     "execution_count": 60
    },
    {
     "output_type": "display_data",
     "data": {
      "text/plain": [
       "<Figure size 1080x288 with 1 Axes>"
      ],
      "image/png": "[encoded data removed]"
     },
     "metadata": {}
    }
   ],
   "metadata": {}
  },
  {
   "cell_type": "code",
   "execution_count": 61,
   "source": [
    "sns.set(rc={'figure.figsize':(9, 4)})\r\n",
    "sns.barplot(x='expert', y='active_cred_day_overdue', data=data)"
   ],
   "outputs": [
    {
     "output_type": "execute_result",
     "data": {
      "text/plain": [
       "<AxesSubplot:xlabel='expert', ylabel='active_cred_day_overdue'>"
      ]
     },
     "metadata": {},
     "execution_count": 61
    },
    {
     "output_type": "display_data",
     "data": {
      "text/plain": [
       "<Figure size 648x288 with 1 Axes>"
      ],
      "image/png": "[encoded data removed]"
     },
     "metadata": {}
    }
   ],
   "metadata": {}
  },
  {
   "cell_type": "code",
   "execution_count": 62,
   "source": [
    "# Визуальный анализ: достаточно наглядно можно видеть, что чем больше суммарная просрочка в днях по активным кредитам, тем с большей вероятностью отклонят заявку "
   ],
   "outputs": [],
   "metadata": {}
  },
  {
   "cell_type": "code",
   "execution_count": 63,
   "source": [
    " pd.DataFrame({'-': data.query('expert == 1').active_cred_day_overdue.describe().apply(lambda x: format(x, 'f')), \r\n",
    "               '+': data.query('expert == 0').active_cred_day_overdue.describe().apply(lambda x: format(x, 'f'))})"
   ],
   "outputs": [
    {
     "output_type": "execute_result",
     "data": {
      "text/plain": [
       "                  -             +\n",
       "count  31714.000000  11229.000000\n",
       "mean     843.313710    307.086294\n",
       "std     1443.946811    872.587022\n",
       "min        0.000000      0.000000\n",
       "25%        0.000000      0.000000\n",
       "50%      186.000000      0.000000\n",
       "75%     1101.000000     71.000000\n",
       "max    21927.000000  11936.000000"
      ],
      "text/html": [
       "<div>\n",
       "<style scoped>\n",
       "    .dataframe tbody tr th:only-of-type {\n",
       "        vertical-align: middle;\n",
       "    }\n",
       "\n",
       "    .dataframe tbody tr th {\n",
       "        vertical-align: top;\n",
       "    }\n",
       "\n",
       "    .dataframe thead th {\n",
       "        text-align: right;\n",
       "    }\n",
       "</style>\n",
       "<table border=\"1\" class=\"dataframe\">\n",
       "  <thead>\n",
       "    <tr style=\"text-align: right;\">\n",
       "      <th></th>\n",
       "      <th>-</th>\n",
       "      <th>+</th>\n",
       "    </tr>\n",
       "  </thead>\n",
       "  <tbody>\n",
       "    <tr>\n",
       "      <th>count</th>\n",
       "      <td>31714.000000</td>\n",
       "      <td>11229.000000</td>\n",
       "    </tr>\n",
       "    <tr>\n",
       "      <th>mean</th>\n",
       "      <td>843.313710</td>\n",
       "      <td>307.086294</td>\n",
       "    </tr>\n",
       "    <tr>\n",
       "      <th>std</th>\n",
       "      <td>1443.946811</td>\n",
       "      <td>872.587022</td>\n",
       "    </tr>\n",
       "    <tr>\n",
       "      <th>min</th>\n",
       "      <td>0.000000</td>\n",
       "      <td>0.000000</td>\n",
       "    </tr>\n",
       "    <tr>\n",
       "      <th>25%</th>\n",
       "      <td>0.000000</td>\n",
       "      <td>0.000000</td>\n",
       "    </tr>\n",
       "    <tr>\n",
       "      <th>50%</th>\n",
       "      <td>186.000000</td>\n",
       "      <td>0.000000</td>\n",
       "    </tr>\n",
       "    <tr>\n",
       "      <th>75%</th>\n",
       "      <td>1101.000000</td>\n",
       "      <td>71.000000</td>\n",
       "    </tr>\n",
       "    <tr>\n",
       "      <th>max</th>\n",
       "      <td>21927.000000</td>\n",
       "      <td>11936.000000</td>\n",
       "    </tr>\n",
       "  </tbody>\n",
       "</table>\n",
       "</div>"
      ]
     },
     "metadata": {},
     "execution_count": 63
    }
   ],
   "metadata": {}
  },
  {
   "cell_type": "code",
   "execution_count": 64,
   "source": [
    "#вывод: создаём бинарный признак, где если если значение больше 71 то 1\r\n",
    "X['Binary_active_cred_day_overdue'] = X['active_cred_day_overdue'].apply(lambda x: 1 if x>0 else 0)"
   ],
   "outputs": [],
   "metadata": {}
  },
  {
   "cell_type": "code",
   "execution_count": null,
   "source": [],
   "outputs": [],
   "metadata": {}
  },
  {
   "cell_type": "code",
   "execution_count": 65,
   "source": [
    "#6.active_cred_max_overdue - максимальная сумма просроченной задолженности по активным кредитам "
   ],
   "outputs": [],
   "metadata": {}
  },
  {
   "cell_type": "code",
   "execution_count": 66,
   "source": [
    "sns.set(rc={'figure.figsize':(15, 4)}) \r\n",
    "data.query('expert == 0').active_cred_max_overdue.plot(label='Approve')\r\n",
    "data.query('expert == 1').active_cred_max_overdue.plot(alpha=0.6, label='Decline')\r\n",
    "plt.legend()"
   ],
   "outputs": [
    {
     "output_type": "execute_result",
     "data": {
      "text/plain": [
       "<matplotlib.legend.Legend at 0x23f829b80d0>"
      ]
     },
     "metadata": {},
     "execution_count": 66
    },
    {
     "output_type": "display_data",
     "data": {
      "text/plain": [
       "<Figure size 1080x288 with 1 Axes>"
      ],
      "image/png": "[encoded data removed]"
     },
     "metadata": {}
    }
   ],
   "metadata": {}
  },
  {
   "cell_type": "code",
   "execution_count": 67,
   "source": [
    "sns.set(rc={'figure.figsize':(9, 4)})\r\n",
    "sns.barplot(x='expert', y='active_cred_max_overdue', data=data)"
   ],
   "outputs": [
    {
     "output_type": "execute_result",
     "data": {
      "text/plain": [
       "<AxesSubplot:xlabel='expert', ylabel='active_cred_max_overdue'>"
      ]
     },
     "metadata": {},
     "execution_count": 67
    },
    {
     "output_type": "display_data",
     "data": {
      "text/plain": [
       "<Figure size 648x288 with 1 Axes>"
      ],
      "image/png": "[encoded data removed]"
     },
     "metadata": {}
    }
   ],
   "metadata": {}
  },
  {
   "cell_type": "code",
   "execution_count": 68,
   "source": [
    "# Визуальный анализ: картина достаточно сильно похожа на признак active_cred_sum_overdue, что поддтвердило найденную раннее корреляцию. "
   ],
   "outputs": [],
   "metadata": {}
  },
  {
   "cell_type": "code",
   "execution_count": 69,
   "source": [
    " pd.DataFrame({'-': data.query('expert == 1').active_cred_max_overdue.describe().apply(lambda x: format(x, 'f')), \r\n",
    "               '+': data.query('expert == 0').active_cred_max_overdue.describe().apply(lambda x: format(x, 'f'))})"
   ],
   "outputs": [
    {
     "output_type": "execute_result",
     "data": {
      "text/plain": [
       "                     -                +\n",
       "count     31714.000000     11229.000000\n",
       "mean      41215.358057     23004.493526\n",
       "std      180110.676091    133815.454629\n",
       "min           0.000000         0.000000\n",
       "25%        1500.000000         0.000000\n",
       "50%        9000.000000      2542.270000\n",
       "75%       29165.475000     11700.000000\n",
       "max    21701655.240000  11200890.000000"
      ],
      "text/html": [
       "<div>\n",
       "<style scoped>\n",
       "    .dataframe tbody tr th:only-of-type {\n",
       "        vertical-align: middle;\n",
       "    }\n",
       "\n",
       "    .dataframe tbody tr th {\n",
       "        vertical-align: top;\n",
       "    }\n",
       "\n",
       "    .dataframe thead th {\n",
       "        text-align: right;\n",
       "    }\n",
       "</style>\n",
       "<table border=\"1\" class=\"dataframe\">\n",
       "  <thead>\n",
       "    <tr style=\"text-align: right;\">\n",
       "      <th></th>\n",
       "      <th>-</th>\n",
       "      <th>+</th>\n",
       "    </tr>\n",
       "  </thead>\n",
       "  <tbody>\n",
       "    <tr>\n",
       "      <th>count</th>\n",
       "      <td>31714.000000</td>\n",
       "      <td>11229.000000</td>\n",
       "    </tr>\n",
       "    <tr>\n",
       "      <th>mean</th>\n",
       "      <td>41215.358057</td>\n",
       "      <td>23004.493526</td>\n",
       "    </tr>\n",
       "    <tr>\n",
       "      <th>std</th>\n",
       "      <td>180110.676091</td>\n",
       "      <td>133815.454629</td>\n",
       "    </tr>\n",
       "    <tr>\n",
       "      <th>min</th>\n",
       "      <td>0.000000</td>\n",
       "      <td>0.000000</td>\n",
       "    </tr>\n",
       "    <tr>\n",
       "      <th>25%</th>\n",
       "      <td>1500.000000</td>\n",
       "      <td>0.000000</td>\n",
       "    </tr>\n",
       "    <tr>\n",
       "      <th>50%</th>\n",
       "      <td>9000.000000</td>\n",
       "      <td>2542.270000</td>\n",
       "    </tr>\n",
       "    <tr>\n",
       "      <th>75%</th>\n",
       "      <td>29165.475000</td>\n",
       "      <td>11700.000000</td>\n",
       "    </tr>\n",
       "    <tr>\n",
       "      <th>max</th>\n",
       "      <td>21701655.240000</td>\n",
       "      <td>11200890.000000</td>\n",
       "    </tr>\n",
       "  </tbody>\n",
       "</table>\n",
       "</div>"
      ]
     },
     "metadata": {},
     "execution_count": 69
    }
   ],
   "metadata": {}
  },
  {
   "cell_type": "code",
   "execution_count": 70,
   "source": [
    "pd.DataFrame(pd.qcut(X['active_cred_max_overdue'], 3)).active_cred_max_overdue.unique()"
   ],
   "outputs": [
    {
     "output_type": "execute_result",
     "data": {
      "text/plain": [
       "[(-0.001, 2225.11], (15000.0, 21701655.24], (2225.11, 15000.0]]\n",
       "Categories (3, interval[float64]): [(-0.001, 2225.11] < (2225.11, 15000.0] < (15000.0, 21701655.24]]"
      ]
     },
     "metadata": {},
     "execution_count": 70
    }
   ],
   "metadata": {}
  },
  {
   "cell_type": "code",
   "execution_count": 71,
   "source": [
    "# Вывод: разделить данные на 3-4 категории. Границы приближая к данным квантилей распределения \r\n",
    "X['Categories_active_cred_max_overdue'] = pd.cut(X['active_cred_max_overdue'], bins=[0, 2225, 15000, 25000000], include_lowest=True, labels=['1','2','3']).astype(int);"
   ],
   "outputs": [],
   "metadata": {}
  },
  {
   "cell_type": "code",
   "execution_count": null,
   "source": [],
   "outputs": [],
   "metadata": {}
  },
  {
   "cell_type": "code",
   "execution_count": 72,
   "source": [
    "#7Создадим несколько дополнительных признаков, которые могут дополнительно помочь в классификации \r\n",
    "# A. Есть ли у клиента погашенные кредиты и активные кредиты, то есть участвовал ли он вообще в кредитных отношениях \r\n",
    "#Если сумма данных значений будет равна нулю значит нет погашенных и активных кредитов, следовательно новый клиент \r\n",
    "X['New_Client'] =  (X.closed_cred_sum + X.active_cred_sum).apply(lambda x: 1 if x==0 else 0)\r\n",
    "\r\n",
    "#Б. на сколько суммарная задолженность по активным кредитам больше чем сумма, которую клиент выплатил по закрытым кредитам. \r\n",
    "# Чем больше данное значение тем сложнее клиенту будет погасить задолженность, так как такой задолженность у него никогда не было. \r\n",
    "# Если значение положительно, то значит клиент уже сталкивался с такой задолженностью и оплачивал её, если нет, \r\n",
    "# то не закрывал кредиты на такие суммы и это риск давать новый кредит. \r\n",
    "X['New_Exp_in_Credit'] = (X.closed_cred_sum - X.active_cred_sum_overdue).apply(lambda x: 1 if x>0 else 0)"
   ],
   "outputs": [],
   "metadata": {}
  },
  {
   "cell_type": "code",
   "execution_count": null,
   "source": [],
   "outputs": [],
   "metadata": {}
  },
  {
   "cell_type": "code",
   "execution_count": 73,
   "source": [
    "#Анализ перменных характеризующие клиента "
   ],
   "outputs": [],
   "metadata": {}
  },
  {
   "cell_type": "code",
   "execution_count": 74,
   "source": [
    "# 1. age - вероятнее всего, что чем старше клиент, тем меньше вероятность одобрения кредита "
   ],
   "outputs": [],
   "metadata": {}
  },
  {
   "cell_type": "code",
   "execution_count": 75,
   "source": [
    "sns.set(rc={'figure.figsize':(9, 4)})\r\n",
    "sns.boxplot(x='expert', y='age', data=data)"
   ],
   "outputs": [
    {
     "output_type": "execute_result",
     "data": {
      "text/plain": [
       "<AxesSubplot:xlabel='expert', ylabel='age'>"
      ]
     },
     "metadata": {},
     "execution_count": 75
    },
    {
     "output_type": "display_data",
     "data": {
      "text/plain": [
       "<Figure size 648x288 with 1 Axes>"
      ],
      "image/png": "[encoded data removed]"
     },
     "metadata": {}
    }
   ],
   "metadata": {}
  },
  {
   "cell_type": "code",
   "execution_count": 76,
   "source": [
    "# Визуальный анализ: возраст не является значимым фактором, потому как разделяет выборку по значению лейбла практически равнозначно "
   ],
   "outputs": [],
   "metadata": {}
  },
  {
   "cell_type": "code",
   "execution_count": 77,
   "source": [
    " pd.DataFrame({'-': data.query('expert == 1').age.describe().apply(lambda x: format(x, 'f')), \r\n",
    "               '+': data.query('expert == 0').age.describe().apply(lambda x: format(x, 'f'))})"
   ],
   "outputs": [
    {
     "output_type": "execute_result",
     "data": {
      "text/plain": [
       "                  -             +\n",
       "count  31714.000000  11229.000000\n",
       "mean      33.410292     39.531659\n",
       "std       10.182259     13.064350\n",
       "min       18.000000     18.000000\n",
       "25%       26.000000     29.000000\n",
       "50%       31.000000     37.000000\n",
       "75%       38.000000     48.000000\n",
       "max       99.000000     85.000000"
      ],
      "text/html": [
       "<div>\n",
       "<style scoped>\n",
       "    .dataframe tbody tr th:only-of-type {\n",
       "        vertical-align: middle;\n",
       "    }\n",
       "\n",
       "    .dataframe tbody tr th {\n",
       "        vertical-align: top;\n",
       "    }\n",
       "\n",
       "    .dataframe thead th {\n",
       "        text-align: right;\n",
       "    }\n",
       "</style>\n",
       "<table border=\"1\" class=\"dataframe\">\n",
       "  <thead>\n",
       "    <tr style=\"text-align: right;\">\n",
       "      <th></th>\n",
       "      <th>-</th>\n",
       "      <th>+</th>\n",
       "    </tr>\n",
       "  </thead>\n",
       "  <tbody>\n",
       "    <tr>\n",
       "      <th>count</th>\n",
       "      <td>31714.000000</td>\n",
       "      <td>11229.000000</td>\n",
       "    </tr>\n",
       "    <tr>\n",
       "      <th>mean</th>\n",
       "      <td>33.410292</td>\n",
       "      <td>39.531659</td>\n",
       "    </tr>\n",
       "    <tr>\n",
       "      <th>std</th>\n",
       "      <td>10.182259</td>\n",
       "      <td>13.064350</td>\n",
       "    </tr>\n",
       "    <tr>\n",
       "      <th>min</th>\n",
       "      <td>18.000000</td>\n",
       "      <td>18.000000</td>\n",
       "    </tr>\n",
       "    <tr>\n",
       "      <th>25%</th>\n",
       "      <td>26.000000</td>\n",
       "      <td>29.000000</td>\n",
       "    </tr>\n",
       "    <tr>\n",
       "      <th>50%</th>\n",
       "      <td>31.000000</td>\n",
       "      <td>37.000000</td>\n",
       "    </tr>\n",
       "    <tr>\n",
       "      <th>75%</th>\n",
       "      <td>38.000000</td>\n",
       "      <td>48.000000</td>\n",
       "    </tr>\n",
       "    <tr>\n",
       "      <th>max</th>\n",
       "      <td>99.000000</td>\n",
       "      <td>85.000000</td>\n",
       "    </tr>\n",
       "  </tbody>\n",
       "</table>\n",
       "</div>"
      ]
     },
     "metadata": {},
     "execution_count": 77
    }
   ],
   "metadata": {}
  },
  {
   "cell_type": "code",
   "execution_count": 78,
   "source": [
    "# Вывод: можно сделать бинарный признак с отметкой больше модального возраста для тех кому не дали кредит, а лучше ничего с этим делать \r\n",
    "# X['Age_Threshold'] = X['age'].apply(lambda x: 1 if x<35 else 0)"
   ],
   "outputs": [],
   "metadata": {}
  },
  {
   "cell_type": "code",
   "execution_count": null,
   "source": [],
   "outputs": [],
   "metadata": {}
  },
  {
   "cell_type": "code",
   "execution_count": 79,
   "source": [
    "# 2. gender "
   ],
   "outputs": [],
   "metadata": {}
  },
  {
   "cell_type": "code",
   "execution_count": 80,
   "source": [
    "sns.set(rc={'figure.figsize':(9, 4)})\r\n",
    "sns.barplot(x='expert', y='gender', data=data)"
   ],
   "outputs": [
    {
     "output_type": "execute_result",
     "data": {
      "text/plain": [
       "<AxesSubplot:xlabel='expert', ylabel='gender'>"
      ]
     },
     "metadata": {},
     "execution_count": 80
    },
    {
     "output_type": "display_data",
     "data": {
      "text/plain": [
       "<Figure size 648x288 with 1 Axes>"
      ],
      "image/png": "[encoded data removed]"
     },
     "metadata": {}
    }
   ],
   "metadata": {}
  },
  {
   "cell_type": "code",
   "execution_count": 81,
   "source": [
    "# Вывод: статистика признака ничего не даёт, признак и так бинарен, еще и равно распределен по данным, можно вообще убрать\r\n",
    "X = X.drop('gender', axis=1) "
   ],
   "outputs": [],
   "metadata": {}
  },
  {
   "cell_type": "code",
   "execution_count": null,
   "source": [],
   "outputs": [],
   "metadata": {}
  },
  {
   "cell_type": "code",
   "execution_count": 82,
   "source": [
    "#3. region "
   ],
   "outputs": [],
   "metadata": {}
  },
  {
   "cell_type": "code",
   "execution_count": 83,
   "source": [
    "data.query('expert == 1').region.value_counts().head(10), data.query('expert == 0').region.value_counts().head(10)"
   ],
   "outputs": [
    {
     "output_type": "execute_result",
     "data": {
      "text/plain": [
       "(0     11811\n",
       " 40     2012\n",
       " 36     1348\n",
       " 75     1166\n",
       " 65     1135\n",
       " 52      938\n",
       " 80      881\n",
       " 3       790\n",
       " 46      706\n",
       " 45      630\n",
       " Name: region, dtype: int64,\n",
       " 0     5794\n",
       " 40    1656\n",
       " 80     394\n",
       " 75     358\n",
       " 52     302\n",
       " 41     254\n",
       " 36     246\n",
       " 65     185\n",
       " 3      147\n",
       " 45     132\n",
       " Name: region, dtype: int64)"
      ]
     },
     "metadata": {},
     "execution_count": 83
    }
   ],
   "metadata": {}
  },
  {
   "cell_type": "code",
   "execution_count": 84,
   "source": [
    "#Вывод: регион не имеет особо значения, можно создать разряженную матрицу со значениями, можно выкинуть, \r\n",
    "# для первого варианта модели ничего менять тут не будем"
   ],
   "outputs": [],
   "metadata": {}
  },
  {
   "cell_type": "code",
   "execution_count": null,
   "source": [],
   "outputs": [],
   "metadata": {}
  },
  {
   "cell_type": "code",
   "execution_count": 85,
   "source": [
    "#4. Доход \r\n",
    "# Здесь должно быть неплохое разделение, потому что как  правило чем больше человек зарабатывает темб ольше ему дадут, \r\n",
    "# также ранне был разработан признак включающий общую сумму заработка всех клиентов участвующих в заявке \r\n"
   ],
   "outputs": [],
   "metadata": {}
  },
  {
   "cell_type": "code",
   "execution_count": 86,
   "source": [
    "sns.set(rc={'figure.figsize':(15, 4)}) \r\n",
    "data.query('expert == 0').month_income.plot(label='Approve')\r\n",
    "data.query('expert == 1').month_income.plot(alpha=0.6, label='Decline')\r\n",
    "plt.legend()"
   ],
   "outputs": [
    {
     "output_type": "execute_result",
     "data": {
      "text/plain": [
       "<matplotlib.legend.Legend at 0x23f82a809d0>"
      ]
     },
     "metadata": {},
     "execution_count": 86
    },
    {
     "output_type": "display_data",
     "data": {
      "text/plain": [
       "<Figure size 1080x288 with 1 Axes>"
      ],
      "image/png": "[encoded data removed]"
     },
     "metadata": {}
    }
   ],
   "metadata": {}
  },
  {
   "cell_type": "code",
   "execution_count": 87,
   "source": [
    "sns.set(rc={'figure.figsize':(9, 4)})\r\n",
    "sns.barplot(x='expert', y='month_income', data=data)"
   ],
   "outputs": [
    {
     "output_type": "execute_result",
     "data": {
      "text/plain": [
       "<AxesSubplot:xlabel='expert', ylabel='month_income'>"
      ]
     },
     "metadata": {},
     "execution_count": 87
    },
    {
     "output_type": "display_data",
     "data": {
      "text/plain": [
       "<Figure size 648x288 with 1 Axes>"
      ],
      "image/png": "[encoded data removed]"
     },
     "metadata": {}
    }
   ],
   "metadata": {}
  },
  {
   "cell_type": "code",
   "execution_count": 88,
   "source": [
    "sns.boxplot(x='expert', y='month_income', data=data)"
   ],
   "outputs": [
    {
     "output_type": "execute_result",
     "data": {
      "text/plain": [
       "<AxesSubplot:xlabel='expert', ylabel='month_income'>"
      ]
     },
     "metadata": {},
     "execution_count": 88
    },
    {
     "output_type": "display_data",
     "data": {
      "text/plain": [
       "<Figure size 648x288 with 1 Axes>"
      ],
      "image/png": "[encoded data removed]"
     },
     "metadata": {}
    }
   ],
   "metadata": {}
  },
  {
   "cell_type": "code",
   "execution_count": 89,
   "source": [
    " pd.DataFrame({'-': data.query('expert == 1').month_income.describe().apply(lambda x: format(x, 'f')), \r\n",
    "               '+': data.query('expert == 0').month_income.describe().apply(lambda x: format(x, 'f'))})"
   ],
   "outputs": [
    {
     "output_type": "execute_result",
     "data": {
      "text/plain": [
       "                   -              +\n",
       "count   31714.000000   11229.000000\n",
       "mean    22702.479315   33457.258126\n",
       "std     20497.061865   18464.901509\n",
       "min         0.000000       0.000000\n",
       "25%         0.000000   21000.000000\n",
       "50%     20000.000000   35000.000000\n",
       "75%     35000.000000   50000.000000\n",
       "max    550000.000000  500000.000000"
      ],
      "text/html": [
       "<div>\n",
       "<style scoped>\n",
       "    .dataframe tbody tr th:only-of-type {\n",
       "        vertical-align: middle;\n",
       "    }\n",
       "\n",
       "    .dataframe tbody tr th {\n",
       "        vertical-align: top;\n",
       "    }\n",
       "\n",
       "    .dataframe thead th {\n",
       "        text-align: right;\n",
       "    }\n",
       "</style>\n",
       "<table border=\"1\" class=\"dataframe\">\n",
       "  <thead>\n",
       "    <tr style=\"text-align: right;\">\n",
       "      <th></th>\n",
       "      <th>-</th>\n",
       "      <th>+</th>\n",
       "    </tr>\n",
       "  </thead>\n",
       "  <tbody>\n",
       "    <tr>\n",
       "      <th>count</th>\n",
       "      <td>31714.000000</td>\n",
       "      <td>11229.000000</td>\n",
       "    </tr>\n",
       "    <tr>\n",
       "      <th>mean</th>\n",
       "      <td>22702.479315</td>\n",
       "      <td>33457.258126</td>\n",
       "    </tr>\n",
       "    <tr>\n",
       "      <th>std</th>\n",
       "      <td>20497.061865</td>\n",
       "      <td>18464.901509</td>\n",
       "    </tr>\n",
       "    <tr>\n",
       "      <th>min</th>\n",
       "      <td>0.000000</td>\n",
       "      <td>0.000000</td>\n",
       "    </tr>\n",
       "    <tr>\n",
       "      <th>25%</th>\n",
       "      <td>0.000000</td>\n",
       "      <td>21000.000000</td>\n",
       "    </tr>\n",
       "    <tr>\n",
       "      <th>50%</th>\n",
       "      <td>20000.000000</td>\n",
       "      <td>35000.000000</td>\n",
       "    </tr>\n",
       "    <tr>\n",
       "      <th>75%</th>\n",
       "      <td>35000.000000</td>\n",
       "      <td>50000.000000</td>\n",
       "    </tr>\n",
       "    <tr>\n",
       "      <th>max</th>\n",
       "      <td>550000.000000</td>\n",
       "      <td>500000.000000</td>\n",
       "    </tr>\n",
       "  </tbody>\n",
       "</table>\n",
       "</div>"
      ]
     },
     "metadata": {},
     "execution_count": 89
    }
   ],
   "metadata": {}
  },
  {
   "cell_type": "code",
   "execution_count": 90,
   "source": [
    "# Вывод: предположение не оправдалось, по одному доходу достаточно сложно классифицировать успех заявки. Данные столбца либо убирать, либо нормализовать. Применим нормализацию:\r\n",
    "X['Income_Threshold'] = X.month_income.apply(lambda x: 1 if x<23000 else 0 )\r\n"
   ],
   "outputs": [],
   "metadata": {}
  },
  {
   "cell_type": "code",
   "execution_count": null,
   "source": [],
   "outputs": [],
   "metadata": {}
  },
  {
   "cell_type": "code",
   "execution_count": 91,
   "source": [
    "#Аналих признаков относящихся к переменным, характеризующим кредит, по которому нужно сделать прогноз "
   ],
   "outputs": [],
   "metadata": {}
  },
  {
   "cell_type": "code",
   "execution_count": 92,
   "source": [
    "# 1. first_loan - сумма, которую клиент хочет получить в кредит \r\n",
    "# Скорее всего само по себе значение никак не может помочь в связке "
   ],
   "outputs": [],
   "metadata": {}
  },
  {
   "cell_type": "code",
   "execution_count": 93,
   "source": [
    "sns.set(rc={'figure.figsize':(9, 4)})\r\n",
    "sns.boxplot(x='expert', y='first_loan', data=data)"
   ],
   "outputs": [
    {
     "output_type": "execute_result",
     "data": {
      "text/plain": [
       "<AxesSubplot:xlabel='expert', ylabel='first_loan'>"
      ]
     },
     "metadata": {},
     "execution_count": 93
    },
    {
     "output_type": "display_data",
     "data": {
      "text/plain": [
       "<Figure size 648x288 with 1 Axes>"
      ],
      "image/png": "[encoded data removed]"
     },
     "metadata": {}
    }
   ],
   "metadata": {}
  },
  {
   "cell_type": "code",
   "execution_count": 94,
   "source": [
    "#максимальная запрошенная сумма равна 100000, значит анализ происходится либо для микрокредитной организации, либо из генеральной совокупности были убраны все сделки крупнее данной \r\n",
    "X.first_loan.sort_values(ascending=False)"
   ],
   "outputs": [
    {
     "output_type": "execute_result",
     "data": {
      "text/plain": [
       "29571    100000.0\n",
       "5726     100000.0\n",
       "7145     100000.0\n",
       "32170    100000.0\n",
       "3478     100000.0\n",
       "           ...   \n",
       "25827      2000.0\n",
       "25821      2000.0\n",
       "25794      2000.0\n",
       "25760      2000.0\n",
       "42942      2000.0\n",
       "Name: first_loan, Length: 42943, dtype: float64"
      ]
     },
     "metadata": {},
     "execution_count": 94
    }
   ],
   "metadata": {}
  },
  {
   "cell_type": "code",
   "execution_count": 95,
   "source": [
    "# Вывод: пока признак не используем"
   ],
   "outputs": [],
   "metadata": {}
  },
  {
   "cell_type": "code",
   "execution_count": null,
   "source": [],
   "outputs": [],
   "metadata": {}
  },
  {
   "cell_type": "code",
   "execution_count": 96,
   "source": [
    "# 2. first_days_quant - срок на который клиент хочет взять кредит "
   ],
   "outputs": [],
   "metadata": {}
  },
  {
   "cell_type": "code",
   "execution_count": 97,
   "source": [
    "sns.set(rc={'figure.figsize':(8, 6)})\r\n",
    "sns.barplot(x='expert', y='first_days_quant', data=data)"
   ],
   "outputs": [
    {
     "output_type": "execute_result",
     "data": {
      "text/plain": [
       "<AxesSubplot:xlabel='expert', ylabel='first_days_quant'>"
      ]
     },
     "metadata": {},
     "execution_count": 97
    },
    {
     "output_type": "display_data",
     "data": {
      "text/plain": [
       "<Figure size 576x432 with 1 Axes>"
      ],
      "image/png": "[encoded data removed]"
     },
     "metadata": {}
    }
   ],
   "metadata": {}
  },
  {
   "cell_type": "code",
   "execution_count": 98,
   "source": [
    "sns.set(rc={'figure.figsize':(8, 6)})\r\n",
    "sns.boxplot(x='expert', y='first_days_quant', data=data)"
   ],
   "outputs": [
    {
     "output_type": "execute_result",
     "data": {
      "text/plain": [
       "<AxesSubplot:xlabel='expert', ylabel='first_days_quant'>"
      ]
     },
     "metadata": {},
     "execution_count": 98
    },
    {
     "output_type": "display_data",
     "data": {
      "text/plain": [
       "<Figure size 576x432 with 1 Axes>"
      ],
      "image/png": "[encoded data removed]"
     },
     "metadata": {}
    }
   ],
   "metadata": {}
  },
  {
   "cell_type": "code",
   "execution_count": 99,
   "source": [
    " pd.DataFrame({'-': data.query('expert == 1').first_days_quant.describe().apply(lambda x: format(x, 'f')), \r\n",
    "               '+': data.query('expert == 0').first_days_quant.describe().apply(lambda x: format(x, 'f'))})"
   ],
   "outputs": [
    {
     "output_type": "execute_result",
     "data": {
      "text/plain": [
       "                  -             +\n",
       "count  31714.000000  11229.000000\n",
       "mean      26.781138     16.756523\n",
       "std       43.411828      7.151662\n",
       "min        0.000000      7.000000\n",
       "25%       10.000000     12.000000\n",
       "50%       18.000000     20.000000\n",
       "75%       20.000000     20.000000\n",
       "max      336.000000    336.000000"
      ],
      "text/html": [
       "<div>\n",
       "<style scoped>\n",
       "    .dataframe tbody tr th:only-of-type {\n",
       "        vertical-align: middle;\n",
       "    }\n",
       "\n",
       "    .dataframe tbody tr th {\n",
       "        vertical-align: top;\n",
       "    }\n",
       "\n",
       "    .dataframe thead th {\n",
       "        text-align: right;\n",
       "    }\n",
       "</style>\n",
       "<table border=\"1\" class=\"dataframe\">\n",
       "  <thead>\n",
       "    <tr style=\"text-align: right;\">\n",
       "      <th></th>\n",
       "      <th>-</th>\n",
       "      <th>+</th>\n",
       "    </tr>\n",
       "  </thead>\n",
       "  <tbody>\n",
       "    <tr>\n",
       "      <th>count</th>\n",
       "      <td>31714.000000</td>\n",
       "      <td>11229.000000</td>\n",
       "    </tr>\n",
       "    <tr>\n",
       "      <th>mean</th>\n",
       "      <td>26.781138</td>\n",
       "      <td>16.756523</td>\n",
       "    </tr>\n",
       "    <tr>\n",
       "      <th>std</th>\n",
       "      <td>43.411828</td>\n",
       "      <td>7.151662</td>\n",
       "    </tr>\n",
       "    <tr>\n",
       "      <th>min</th>\n",
       "      <td>0.000000</td>\n",
       "      <td>7.000000</td>\n",
       "    </tr>\n",
       "    <tr>\n",
       "      <th>25%</th>\n",
       "      <td>10.000000</td>\n",
       "      <td>12.000000</td>\n",
       "    </tr>\n",
       "    <tr>\n",
       "      <th>50%</th>\n",
       "      <td>18.000000</td>\n",
       "      <td>20.000000</td>\n",
       "    </tr>\n",
       "    <tr>\n",
       "      <th>75%</th>\n",
       "      <td>20.000000</td>\n",
       "      <td>20.000000</td>\n",
       "    </tr>\n",
       "    <tr>\n",
       "      <th>max</th>\n",
       "      <td>336.000000</td>\n",
       "      <td>336.000000</td>\n",
       "    </tr>\n",
       "  </tbody>\n",
       "</table>\n",
       "</div>"
      ]
     },
     "metadata": {},
     "execution_count": 99
    }
   ],
   "metadata": {}
  },
  {
   "cell_type": "code",
   "execution_count": 100,
   "source": [
    "# Вывод: признак на первый взгляд сам по себе бесполезен, имеет одинаковое распрделение среди обоих лейблов, \r\n",
    "# но можно использовать в признаке, которые определяет риск возникновения просрочки по новому кредиту. \r\n",
    "# Берется разница между суммарной просрочкой в днях для актуальных кредитов и данных показателем. \r\n",
    "# Если значение положительное, то риск просрочки выше, так как известно что такого кол-ва дней клиенту не достаточно на погашение. \r\n",
    "# Если число <=0, то риск просрочки меньше \r\n",
    "\r\n",
    "# Реально ли клиент сможет оплатить кредит в срок исходя из суммы которую он хочет и данных о зарплате. \r\n",
    "X['Ehough_Income_']=(X.first_loan - X.month_income* X.first_days_quant/30).apply(lambda x: 1 if x<=0 else 0 )\r\n",
    "\r\n",
    "X['Risk_overdue_day'] = (X.active_cred_day_overdue - X.first_days_quant) "
   ],
   "outputs": [],
   "metadata": {}
  },
  {
   "cell_type": "code",
   "execution_count": 101,
   "source": [
    "X"
   ],
   "outputs": [
    {
     "output_type": "execute_result",
     "data": {
      "text/plain": [
       "       closed_cred_sum  closed_creds  active_cred_sum_overdue  \\\n",
       "0            143822.00            22                   104.12   \n",
       "1                 0.00             0                 38151.93   \n",
       "2             51356.00             2                  3000.00   \n",
       "3                 0.00             0                 22784.19   \n",
       "4                 0.00             0                 22784.19   \n",
       "...                ...           ...                      ...   \n",
       "42938             0.00             0                 26758.57   \n",
       "42939             0.00             0                 74662.61   \n",
       "42940         21653.49             2                     0.00   \n",
       "42941             0.00             0                     0.00   \n",
       "42942         19750.00             9                 14100.00   \n",
       "\n",
       "       active_cred_sum  active_cred_day_overdue  active_cred_max_overdue  age  \\\n",
       "0            130068.80                        8                   756.09   31   \n",
       "1             46230.00                     1492                 38151.93   51   \n",
       "2              3000.00                        8                  3000.00   28   \n",
       "3             32103.52                      913                 22784.19   28   \n",
       "4             32103.52                      934                 22784.19   29   \n",
       "...                ...                      ...                      ...  ...   \n",
       "42938         25000.00                      371                 26758.57   44   \n",
       "42939         79662.61                     2593                 42204.55   27   \n",
       "42940             0.00                        0                     0.00   28   \n",
       "42941          1000.00                        0                   941.00   22   \n",
       "42942         14100.00                      331                  6000.00   33   \n",
       "\n",
       "       region  first_loan  first_days_quant  ...  binary_closed_creds  \\\n",
       "0          36     10000.0               196  ...                    1   \n",
       "1          93     10000.0                17  ...                    0   \n",
       "2           3     10000.0                84  ...                    0   \n",
       "3          52     10000.0                 7  ...                    0   \n",
       "4           0     10000.0                20  ...                    0   \n",
       "...       ...         ...               ...  ...                  ...   \n",
       "42938      42      3000.0                23  ...                    0   \n",
       "42939       0      4000.0                20  ...                    0   \n",
       "42940      75      2000.0                10  ...                    0   \n",
       "42941       0     10000.0                20  ...                    0   \n",
       "42942      40      2000.0                21  ...                    1   \n",
       "\n",
       "      Binary_active_cred_sum_overdue  Binary_active_cred_sum  \\\n",
       "0                                  1                       1   \n",
       "1                                  1                       1   \n",
       "2                                  1                       0   \n",
       "3                                  1                       1   \n",
       "4                                  1                       1   \n",
       "...                              ...                     ...   \n",
       "42938                              1                       1   \n",
       "42939                              1                       1   \n",
       "42940                              0                       0   \n",
       "42941                              0                       0   \n",
       "42942                              1                       1   \n",
       "\n",
       "       Binary_active_cred_day_overdue  Categories_active_cred_max_overdue  \\\n",
       "0                                   1                                   1   \n",
       "1                                   1                                   3   \n",
       "2                                   1                                   2   \n",
       "3                                   1                                   3   \n",
       "4                                   1                                   3   \n",
       "...                               ...                                 ...   \n",
       "42938                               1                                   3   \n",
       "42939                               1                                   3   \n",
       "42940                               0                                   1   \n",
       "42941                               0                                   1   \n",
       "42942                               1                                   2   \n",
       "\n",
       "       New_Client  New_Exp_in_Credit  Income_Threshold  Ehough_Income_  \\\n",
       "0               0                  1                 1               0   \n",
       "1               0                  0                 1               1   \n",
       "2               0                  1                 1               0   \n",
       "3               0                  0                 1               0   \n",
       "4               0                  0                 1               0   \n",
       "...           ...                ...               ...             ...   \n",
       "42938           0                  0                 0               1   \n",
       "42939           0                  0                 1               0   \n",
       "42940           0                  1                 1               1   \n",
       "42941           0                  0                 0               1   \n",
       "42942           0                  1                 1               0   \n",
       "\n",
       "       Risk_overdue_day  \n",
       "0                  -188  \n",
       "1                  1475  \n",
       "2                   -76  \n",
       "3                   906  \n",
       "4                   914  \n",
       "...                 ...  \n",
       "42938               348  \n",
       "42939              2573  \n",
       "42940               -10  \n",
       "42941               -20  \n",
       "42942               310  \n",
       "\n",
       "[42943 rows x 29 columns]"
      ],
      "text/html": [
       "<div>\n",
       "<style scoped>\n",
       "    .dataframe tbody tr th:only-of-type {\n",
       "        vertical-align: middle;\n",
       "    }\n",
       "\n",
       "    .dataframe tbody tr th {\n",
       "        vertical-align: top;\n",
       "    }\n",
       "\n",
       "    .dataframe thead th {\n",
       "        text-align: right;\n",
       "    }\n",
       "</style>\n",
       "<table border=\"1\" class=\"dataframe\">\n",
       "  <thead>\n",
       "    <tr style=\"text-align: right;\">\n",
       "      <th></th>\n",
       "      <th>closed_cred_sum</th>\n",
       "      <th>closed_creds</th>\n",
       "      <th>active_cred_sum_overdue</th>\n",
       "      <th>active_cred_sum</th>\n",
       "      <th>active_cred_day_overdue</th>\n",
       "      <th>active_cred_max_overdue</th>\n",
       "      <th>age</th>\n",
       "      <th>region</th>\n",
       "      <th>first_loan</th>\n",
       "      <th>first_days_quant</th>\n",
       "      <th>...</th>\n",
       "      <th>binary_closed_creds</th>\n",
       "      <th>Binary_active_cred_sum_overdue</th>\n",
       "      <th>Binary_active_cred_sum</th>\n",
       "      <th>Binary_active_cred_day_overdue</th>\n",
       "      <th>Categories_active_cred_max_overdue</th>\n",
       "      <th>New_Client</th>\n",
       "      <th>New_Exp_in_Credit</th>\n",
       "      <th>Income_Threshold</th>\n",
       "      <th>Ehough_Income_</th>\n",
       "      <th>Risk_overdue_day</th>\n",
       "    </tr>\n",
       "  </thead>\n",
       "  <tbody>\n",
       "    <tr>\n",
       "      <th>0</th>\n",
       "      <td>143822.00</td>\n",
       "      <td>22</td>\n",
       "      <td>104.12</td>\n",
       "      <td>130068.80</td>\n",
       "      <td>8</td>\n",
       "      <td>756.09</td>\n",
       "      <td>31</td>\n",
       "      <td>36</td>\n",
       "      <td>10000.0</td>\n",
       "      <td>196</td>\n",
       "      <td>...</td>\n",
       "      <td>1</td>\n",
       "      <td>1</td>\n",
       "      <td>1</td>\n",
       "      <td>1</td>\n",
       "      <td>1</td>\n",
       "      <td>0</td>\n",
       "      <td>1</td>\n",
       "      <td>1</td>\n",
       "      <td>0</td>\n",
       "      <td>-188</td>\n",
       "    </tr>\n",
       "    <tr>\n",
       "      <th>1</th>\n",
       "      <td>0.00</td>\n",
       "      <td>0</td>\n",
       "      <td>38151.93</td>\n",
       "      <td>46230.00</td>\n",
       "      <td>1492</td>\n",
       "      <td>38151.93</td>\n",
       "      <td>51</td>\n",
       "      <td>93</td>\n",
       "      <td>10000.0</td>\n",
       "      <td>17</td>\n",
       "      <td>...</td>\n",
       "      <td>0</td>\n",
       "      <td>1</td>\n",
       "      <td>1</td>\n",
       "      <td>1</td>\n",
       "      <td>3</td>\n",
       "      <td>0</td>\n",
       "      <td>0</td>\n",
       "      <td>1</td>\n",
       "      <td>1</td>\n",
       "      <td>1475</td>\n",
       "    </tr>\n",
       "    <tr>\n",
       "      <th>2</th>\n",
       "      <td>51356.00</td>\n",
       "      <td>2</td>\n",
       "      <td>3000.00</td>\n",
       "      <td>3000.00</td>\n",
       "      <td>8</td>\n",
       "      <td>3000.00</td>\n",
       "      <td>28</td>\n",
       "      <td>3</td>\n",
       "      <td>10000.0</td>\n",
       "      <td>84</td>\n",
       "      <td>...</td>\n",
       "      <td>0</td>\n",
       "      <td>1</td>\n",
       "      <td>0</td>\n",
       "      <td>1</td>\n",
       "      <td>2</td>\n",
       "      <td>0</td>\n",
       "      <td>1</td>\n",
       "      <td>1</td>\n",
       "      <td>0</td>\n",
       "      <td>-76</td>\n",
       "    </tr>\n",
       "    <tr>\n",
       "      <th>3</th>\n",
       "      <td>0.00</td>\n",
       "      <td>0</td>\n",
       "      <td>22784.19</td>\n",
       "      <td>32103.52</td>\n",
       "      <td>913</td>\n",
       "      <td>22784.19</td>\n",
       "      <td>28</td>\n",
       "      <td>52</td>\n",
       "      <td>10000.0</td>\n",
       "      <td>7</td>\n",
       "      <td>...</td>\n",
       "      <td>0</td>\n",
       "      <td>1</td>\n",
       "      <td>1</td>\n",
       "      <td>1</td>\n",
       "      <td>3</td>\n",
       "      <td>0</td>\n",
       "      <td>0</td>\n",
       "      <td>1</td>\n",
       "      <td>0</td>\n",
       "      <td>906</td>\n",
       "    </tr>\n",
       "    <tr>\n",
       "      <th>4</th>\n",
       "      <td>0.00</td>\n",
       "      <td>0</td>\n",
       "      <td>22784.19</td>\n",
       "      <td>32103.52</td>\n",
       "      <td>934</td>\n",
       "      <td>22784.19</td>\n",
       "      <td>29</td>\n",
       "      <td>0</td>\n",
       "      <td>10000.0</td>\n",
       "      <td>20</td>\n",
       "      <td>...</td>\n",
       "      <td>0</td>\n",
       "      <td>1</td>\n",
       "      <td>1</td>\n",
       "      <td>1</td>\n",
       "      <td>3</td>\n",
       "      <td>0</td>\n",
       "      <td>0</td>\n",
       "      <td>1</td>\n",
       "      <td>0</td>\n",
       "      <td>914</td>\n",
       "    </tr>\n",
       "    <tr>\n",
       "      <th>...</th>\n",
       "      <td>...</td>\n",
       "      <td>...</td>\n",
       "      <td>...</td>\n",
       "      <td>...</td>\n",
       "      <td>...</td>\n",
       "      <td>...</td>\n",
       "      <td>...</td>\n",
       "      <td>...</td>\n",
       "      <td>...</td>\n",
       "      <td>...</td>\n",
       "      <td>...</td>\n",
       "      <td>...</td>\n",
       "      <td>...</td>\n",
       "      <td>...</td>\n",
       "      <td>...</td>\n",
       "      <td>...</td>\n",
       "      <td>...</td>\n",
       "      <td>...</td>\n",
       "      <td>...</td>\n",
       "      <td>...</td>\n",
       "      <td>...</td>\n",
       "    </tr>\n",
       "    <tr>\n",
       "      <th>42938</th>\n",
       "      <td>0.00</td>\n",
       "      <td>0</td>\n",
       "      <td>26758.57</td>\n",
       "      <td>25000.00</td>\n",
       "      <td>371</td>\n",
       "      <td>26758.57</td>\n",
       "      <td>44</td>\n",
       "      <td>42</td>\n",
       "      <td>3000.0</td>\n",
       "      <td>23</td>\n",
       "      <td>...</td>\n",
       "      <td>0</td>\n",
       "      <td>1</td>\n",
       "      <td>1</td>\n",
       "      <td>1</td>\n",
       "      <td>3</td>\n",
       "      <td>0</td>\n",
       "      <td>0</td>\n",
       "      <td>0</td>\n",
       "      <td>1</td>\n",
       "      <td>348</td>\n",
       "    </tr>\n",
       "    <tr>\n",
       "      <th>42939</th>\n",
       "      <td>0.00</td>\n",
       "      <td>0</td>\n",
       "      <td>74662.61</td>\n",
       "      <td>79662.61</td>\n",
       "      <td>2593</td>\n",
       "      <td>42204.55</td>\n",
       "      <td>27</td>\n",
       "      <td>0</td>\n",
       "      <td>4000.0</td>\n",
       "      <td>20</td>\n",
       "      <td>...</td>\n",
       "      <td>0</td>\n",
       "      <td>1</td>\n",
       "      <td>1</td>\n",
       "      <td>1</td>\n",
       "      <td>3</td>\n",
       "      <td>0</td>\n",
       "      <td>0</td>\n",
       "      <td>1</td>\n",
       "      <td>0</td>\n",
       "      <td>2573</td>\n",
       "    </tr>\n",
       "    <tr>\n",
       "      <th>42940</th>\n",
       "      <td>21653.49</td>\n",
       "      <td>2</td>\n",
       "      <td>0.00</td>\n",
       "      <td>0.00</td>\n",
       "      <td>0</td>\n",
       "      <td>0.00</td>\n",
       "      <td>28</td>\n",
       "      <td>75</td>\n",
       "      <td>2000.0</td>\n",
       "      <td>10</td>\n",
       "      <td>...</td>\n",
       "      <td>0</td>\n",
       "      <td>0</td>\n",
       "      <td>0</td>\n",
       "      <td>0</td>\n",
       "      <td>1</td>\n",
       "      <td>0</td>\n",
       "      <td>1</td>\n",
       "      <td>1</td>\n",
       "      <td>1</td>\n",
       "      <td>-10</td>\n",
       "    </tr>\n",
       "    <tr>\n",
       "      <th>42941</th>\n",
       "      <td>0.00</td>\n",
       "      <td>0</td>\n",
       "      <td>0.00</td>\n",
       "      <td>1000.00</td>\n",
       "      <td>0</td>\n",
       "      <td>941.00</td>\n",
       "      <td>22</td>\n",
       "      <td>0</td>\n",
       "      <td>10000.0</td>\n",
       "      <td>20</td>\n",
       "      <td>...</td>\n",
       "      <td>0</td>\n",
       "      <td>0</td>\n",
       "      <td>0</td>\n",
       "      <td>0</td>\n",
       "      <td>1</td>\n",
       "      <td>0</td>\n",
       "      <td>0</td>\n",
       "      <td>0</td>\n",
       "      <td>1</td>\n",
       "      <td>-20</td>\n",
       "    </tr>\n",
       "    <tr>\n",
       "      <th>42942</th>\n",
       "      <td>19750.00</td>\n",
       "      <td>9</td>\n",
       "      <td>14100.00</td>\n",
       "      <td>14100.00</td>\n",
       "      <td>331</td>\n",
       "      <td>6000.00</td>\n",
       "      <td>33</td>\n",
       "      <td>40</td>\n",
       "      <td>2000.0</td>\n",
       "      <td>21</td>\n",
       "      <td>...</td>\n",
       "      <td>1</td>\n",
       "      <td>1</td>\n",
       "      <td>1</td>\n",
       "      <td>1</td>\n",
       "      <td>2</td>\n",
       "      <td>0</td>\n",
       "      <td>1</td>\n",
       "      <td>1</td>\n",
       "      <td>0</td>\n",
       "      <td>310</td>\n",
       "    </tr>\n",
       "  </tbody>\n",
       "</table>\n",
       "<p>42943 rows × 29 columns</p>\n",
       "</div>"
      ]
     },
     "metadata": {},
     "execution_count": 101
    }
   ],
   "metadata": {}
  },
  {
   "cell_type": "code",
   "execution_count": 102,
   "source": [
    "# 3. order_date - дата подачи заявки, врядл-ли может что-то говорить или влиять на результат. \r\n",
    "# Если только не рассчитываться сколько организация одобрила уже кредитов в определенный месяц, \r\n",
    "# так как у любой кредитной организации есть лимиты по выдаче. Оставим только месяц.\r\n",
    "X.order_date = X.order_date.apply(lambda x: x[5:-3])"
   ],
   "outputs": [],
   "metadata": {}
  },
  {
   "cell_type": "code",
   "execution_count": 103,
   "source": [
    "#4. по признакам с id в самом начале были выполнены действия + client id может показывать сколько клиент живёт в бизнесе-чем меньше id тем\r\n",
    "#  раньше был заргеан у нас в базе клиент "
   ],
   "outputs": [],
   "metadata": {}
  },
  {
   "cell_type": "code",
   "execution_count": 104,
   "source": [
    "X = pd.get_dummies(X)"
   ],
   "outputs": [],
   "metadata": {}
  },
  {
   "cell_type": "code",
   "execution_count": 105,
   "source": [
    "# Всего признаков:\r\n",
    "X.columns"
   ],
   "outputs": [
    {
     "output_type": "execute_result",
     "data": {
      "text/plain": [
       "Index(['closed_cred_sum', 'closed_creds', 'active_cred_sum_overdue',\n",
       "       'active_cred_sum', 'active_cred_day_overdue', 'active_cred_max_overdue',\n",
       "       'age', 'region', 'first_loan', 'first_days_quant', 'month_income',\n",
       "       'order_id', 'client_id', 'expert', 'count_of_order',\n",
       "       'count_of_clients_in_order', 'sum_salary_of_members',\n",
       "       'closed_cred_sum_Category', 'binary_closed_creds',\n",
       "       'Binary_active_cred_sum_overdue', 'Binary_active_cred_sum',\n",
       "       'Binary_active_cred_day_overdue', 'Categories_active_cred_max_overdue',\n",
       "       'New_Client', 'New_Exp_in_Credit', 'Income_Threshold', 'Ehough_Income_',\n",
       "       'Risk_overdue_day', 'order_date_06', 'order_date_07', 'order_date_08',\n",
       "       'order_date_09'],\n",
       "      dtype='object')"
      ]
     },
     "metadata": {},
     "execution_count": 105
    }
   ],
   "metadata": {}
  },
  {
   "cell_type": "code",
   "execution_count": 106,
   "source": [
    "X.info()"
   ],
   "outputs": [
    {
     "output_type": "stream",
     "name": "stdout",
     "text": [
      "<class 'pandas.core.frame.DataFrame'>\n",
      "Int64Index: 42943 entries, 0 to 42942\n",
      "Data columns (total 32 columns):\n",
      " #   Column                              Non-Null Count  Dtype  \n",
      "---  ------                              --------------  -----  \n",
      " 0   closed_cred_sum                     42943 non-null  float64\n",
      " 1   closed_creds                        42943 non-null  int64  \n",
      " 2   active_cred_sum_overdue             42943 non-null  float64\n",
      " 3   active_cred_sum                     42943 non-null  float64\n",
      " 4   active_cred_day_overdue             42943 non-null  int64  \n",
      " 5   active_cred_max_overdue             42943 non-null  float64\n",
      " 6   age                                 42943 non-null  int64  \n",
      " 7   region                              42943 non-null  int64  \n",
      " 8   first_loan                          42943 non-null  float64\n",
      " 9   first_days_quant                    42943 non-null  int64  \n",
      " 10  month_income                        42943 non-null  float64\n",
      " 11  order_id                            42943 non-null  int64  \n",
      " 12  client_id                           42943 non-null  int64  \n",
      " 13  expert                              42943 non-null  int64  \n",
      " 14  count_of_order                      42943 non-null  int64  \n",
      " 15  count_of_clients_in_order           42943 non-null  int64  \n",
      " 16  sum_salary_of_members               42943 non-null  float64\n",
      " 17  closed_cred_sum_Category            42943 non-null  int32  \n",
      " 18  binary_closed_creds                 42943 non-null  int64  \n",
      " 19  Binary_active_cred_sum_overdue      42943 non-null  int64  \n",
      " 20  Binary_active_cred_sum              42943 non-null  int64  \n",
      " 21  Binary_active_cred_day_overdue      42943 non-null  int64  \n",
      " 22  Categories_active_cred_max_overdue  42943 non-null  int32  \n",
      " 23  New_Client                          42943 non-null  int64  \n",
      " 24  New_Exp_in_Credit                   42943 non-null  int64  \n",
      " 25  Income_Threshold                    42943 non-null  int64  \n",
      " 26  Ehough_Income_                      42943 non-null  int64  \n",
      " 27  Risk_overdue_day                    42943 non-null  int64  \n",
      " 28  order_date_06                       42943 non-null  uint8  \n",
      " 29  order_date_07                       42943 non-null  uint8  \n",
      " 30  order_date_08                       42943 non-null  uint8  \n",
      " 31  order_date_09                       42943 non-null  uint8  \n",
      "dtypes: float64(7), int32(2), int64(19), uint8(4)\n",
      "memory usage: 9.3 MB\n"
     ]
    }
   ],
   "metadata": {}
  },
  {
   "cell_type": "code",
   "execution_count": 107,
   "source": [
    "#Отделим признаковую часть от лейблов \r\n",
    "y = X.expert\r\n",
    "X = X.drop('expert', axis=1) "
   ],
   "outputs": [],
   "metadata": {}
  },
  {
   "cell_type": "code",
   "execution_count": 108,
   "source": [
    "#редактирование состовляющей X после кэтбуста\r\n",
    "\r\n",
    "X = X[['closed_cred_sum', 'closed_creds', 'active_cred_sum_overdue',\r\n",
    "       'active_cred_sum', 'active_cred_day_overdue', 'active_cred_max_overdue',\r\n",
    "       'age', 'region', 'first_loan', 'first_days_quant', 'month_income',\r\n",
    "       'order_id', 'client_id', 'count_of_order', \r\n",
    "       'sum_salary_of_members', 'closed_cred_sum_Category',\r\n",
    "       'binary_closed_creds', 'Binary_active_cred_sum_overdue',\r\n",
    "       'Binary_active_cred_sum', 'Binary_active_cred_day_overdue',\r\n",
    "       'Categories_active_cred_max_overdue', 'New_Client', 'New_Exp_in_Credit', \r\n",
    "       'Ehough_Income_', 'Risk_overdue_day']]"
   ],
   "outputs": [],
   "metadata": {}
  },
  {
   "cell_type": "code",
   "execution_count": 109,
   "source": [
    "#Деление датасета на обучающую часть и тестовую \r\n",
    "X_train, X_test, y_train, y_test = train_test_split(X, y, train_size=0.7, random_state=42)"
   ],
   "outputs": [],
   "metadata": {}
  },
  {
   "cell_type": "code",
   "execution_count": 110,
   "source": [
    "#Обучение catboost \r\n",
    "Cat = CatBoostClassifier(verbose=50,\r\n",
    "                           random_state=42,\r\n",
    "                           learning_rate=0.1, #увеличение скорости обучени (чтобы последняя итерация была ближе к концу, а не ближе к началу)\r\n",
    "                           early_stopping_rounds=200, #если 200 итераций нет улучшений, то алгоритм перестает работать\r\n",
    "                           eval_metric='AUC'\r\n",
    "                           )"
   ],
   "outputs": [],
   "metadata": {}
  },
  {
   "cell_type": "code",
   "execution_count": 111,
   "source": [
    "Cat.fit(X_train, y_train,\r\n",
    "          eval_set=(X_test, y_test))"
   ],
   "outputs": [
    {
     "output_type": "stream",
     "name": "stdout",
     "text": [
      "0:\ttest: 0.8772829\tbest: 0.8772829 (0)\ttotal: 248ms\tremaining: 4m 8s\n",
      "50:\ttest: 0.9378462\tbest: 0.9378462 (50)\ttotal: 847ms\tremaining: 15.8s\n",
      "100:\ttest: 0.9438030\tbest: 0.9438030 (100)\ttotal: 1.49s\tremaining: 13.3s\n",
      "150:\ttest: 0.9474865\tbest: 0.9474865 (150)\ttotal: 2.14s\tremaining: 12.1s\n",
      "200:\ttest: 0.9492432\tbest: 0.9492542 (199)\ttotal: 2.74s\tremaining: 10.9s\n",
      "250:\ttest: 0.9500965\tbest: 0.9501212 (249)\ttotal: 3.3s\tremaining: 9.84s\n",
      "300:\ttest: 0.9504193\tbest: 0.9504568 (296)\ttotal: 3.9s\tremaining: 9.07s\n",
      "350:\ttest: 0.9510012\tbest: 0.9510012 (350)\ttotal: 4.46s\tremaining: 8.25s\n",
      "400:\ttest: 0.9512859\tbest: 0.9513408 (385)\ttotal: 5.02s\tremaining: 7.5s\n",
      "450:\ttest: 0.9514997\tbest: 0.9515372 (443)\ttotal: 5.65s\tremaining: 6.88s\n",
      "500:\ttest: 0.9514518\tbest: 0.9515372 (443)\ttotal: 6.2s\tremaining: 6.17s\n",
      "550:\ttest: 0.9515608\tbest: 0.9516245 (545)\ttotal: 6.8s\tremaining: 5.54s\n",
      "600:\ttest: 0.9515588\tbest: 0.9516268 (587)\ttotal: 7.38s\tremaining: 4.9s\n",
      "650:\ttest: 0.9513928\tbest: 0.9516268 (587)\ttotal: 7.94s\tremaining: 4.25s\n",
      "700:\ttest: 0.9513662\tbest: 0.9516268 (587)\ttotal: 8.5s\tremaining: 3.62s\n",
      "750:\ttest: 0.9512313\tbest: 0.9516268 (587)\ttotal: 9.05s\tremaining: 3s\n",
      "Stopped by overfitting detector  (200 iterations wait)\n",
      "\n",
      "bestTest = 0.9516267743\n",
      "bestIteration = 587\n",
      "\n",
      "Shrink model to first 588 iterations.\n"
     ]
    },
    {
     "output_type": "execute_result",
     "data": {
      "text/plain": [
       "<catboost.core.CatBoostClassifier at 0x23f879e5b20>"
      ]
     },
     "metadata": {},
     "execution_count": 111
    }
   ],
   "metadata": {}
  },
  {
   "cell_type": "code",
   "execution_count": 112,
   "source": [
    "fi = pd.DataFrame({'w':Cat.feature_importances_,'name':X_train.columns})"
   ],
   "outputs": [],
   "metadata": {}
  },
  {
   "cell_type": "code",
   "execution_count": 113,
   "source": [
    "fi.sort_values(by='w', ascending=False) #удаляем полность order_date, incime_threshold, count_of_clients_in_order"
   ],
   "outputs": [
    {
     "output_type": "execute_result",
     "data": {
      "text/plain": [
       "            w                                name\n",
       "9   17.505185                    first_days_quant\n",
       "12  10.941630                           client_id\n",
       "10   7.777113                        month_income\n",
       "8    6.397227                          first_loan\n",
       "2    6.289456             active_cred_sum_overdue\n",
       "14   5.688263               sum_salary_of_members\n",
       "1    5.195390                        closed_creds\n",
       "6    4.851346                                 age\n",
       "7    4.572533                              region\n",
       "4    4.433340             active_cred_day_overdue\n",
       "3    4.317321                     active_cred_sum\n",
       "11   4.132983                            order_id\n",
       "5    3.984585             active_cred_max_overdue\n",
       "0    3.737924                     closed_cred_sum\n",
       "24   3.409741                    Risk_overdue_day\n",
       "13   2.464966                      count_of_order\n",
       "22   0.901496                   New_Exp_in_Credit\n",
       "17   0.795772      Binary_active_cred_sum_overdue\n",
       "19   0.604754      Binary_active_cred_day_overdue\n",
       "18   0.603235              Binary_active_cred_sum\n",
       "20   0.412991  Categories_active_cred_max_overdue\n",
       "15   0.345295            closed_cred_sum_Category\n",
       "16   0.223661                 binary_closed_creds\n",
       "21   0.209737                          New_Client\n",
       "23   0.204057                      Ehough_Income_"
      ],
      "text/html": [
       "<div>\n",
       "<style scoped>\n",
       "    .dataframe tbody tr th:only-of-type {\n",
       "        vertical-align: middle;\n",
       "    }\n",
       "\n",
       "    .dataframe tbody tr th {\n",
       "        vertical-align: top;\n",
       "    }\n",
       "\n",
       "    .dataframe thead th {\n",
       "        text-align: right;\n",
       "    }\n",
       "</style>\n",
       "<table border=\"1\" class=\"dataframe\">\n",
       "  <thead>\n",
       "    <tr style=\"text-align: right;\">\n",
       "      <th></th>\n",
       "      <th>w</th>\n",
       "      <th>name</th>\n",
       "    </tr>\n",
       "  </thead>\n",
       "  <tbody>\n",
       "    <tr>\n",
       "      <th>9</th>\n",
       "      <td>17.505185</td>\n",
       "      <td>first_days_quant</td>\n",
       "    </tr>\n",
       "    <tr>\n",
       "      <th>12</th>\n",
       "      <td>10.941630</td>\n",
       "      <td>client_id</td>\n",
       "    </tr>\n",
       "    <tr>\n",
       "      <th>10</th>\n",
       "      <td>7.777113</td>\n",
       "      <td>month_income</td>\n",
       "    </tr>\n",
       "    <tr>\n",
       "      <th>8</th>\n",
       "      <td>6.397227</td>\n",
       "      <td>first_loan</td>\n",
       "    </tr>\n",
       "    <tr>\n",
       "      <th>2</th>\n",
       "      <td>6.289456</td>\n",
       "      <td>active_cred_sum_overdue</td>\n",
       "    </tr>\n",
       "    <tr>\n",
       "      <th>14</th>\n",
       "      <td>5.688263</td>\n",
       "      <td>sum_salary_of_members</td>\n",
       "    </tr>\n",
       "    <tr>\n",
       "      <th>1</th>\n",
       "      <td>5.195390</td>\n",
       "      <td>closed_creds</td>\n",
       "    </tr>\n",
       "    <tr>\n",
       "      <th>6</th>\n",
       "      <td>4.851346</td>\n",
       "      <td>age</td>\n",
       "    </tr>\n",
       "    <tr>\n",
       "      <th>7</th>\n",
       "      <td>4.572533</td>\n",
       "      <td>region</td>\n",
       "    </tr>\n",
       "    <tr>\n",
       "      <th>4</th>\n",
       "      <td>4.433340</td>\n",
       "      <td>active_cred_day_overdue</td>\n",
       "    </tr>\n",
       "    <tr>\n",
       "      <th>3</th>\n",
       "      <td>4.317321</td>\n",
       "      <td>active_cred_sum</td>\n",
       "    </tr>\n",
       "    <tr>\n",
       "      <th>11</th>\n",
       "      <td>4.132983</td>\n",
       "      <td>order_id</td>\n",
       "    </tr>\n",
       "    <tr>\n",
       "      <th>5</th>\n",
       "      <td>3.984585</td>\n",
       "      <td>active_cred_max_overdue</td>\n",
       "    </tr>\n",
       "    <tr>\n",
       "      <th>0</th>\n",
       "      <td>3.737924</td>\n",
       "      <td>closed_cred_sum</td>\n",
       "    </tr>\n",
       "    <tr>\n",
       "      <th>24</th>\n",
       "      <td>3.409741</td>\n",
       "      <td>Risk_overdue_day</td>\n",
       "    </tr>\n",
       "    <tr>\n",
       "      <th>13</th>\n",
       "      <td>2.464966</td>\n",
       "      <td>count_of_order</td>\n",
       "    </tr>\n",
       "    <tr>\n",
       "      <th>22</th>\n",
       "      <td>0.901496</td>\n",
       "      <td>New_Exp_in_Credit</td>\n",
       "    </tr>\n",
       "    <tr>\n",
       "      <th>17</th>\n",
       "      <td>0.795772</td>\n",
       "      <td>Binary_active_cred_sum_overdue</td>\n",
       "    </tr>\n",
       "    <tr>\n",
       "      <th>19</th>\n",
       "      <td>0.604754</td>\n",
       "      <td>Binary_active_cred_day_overdue</td>\n",
       "    </tr>\n",
       "    <tr>\n",
       "      <th>18</th>\n",
       "      <td>0.603235</td>\n",
       "      <td>Binary_active_cred_sum</td>\n",
       "    </tr>\n",
       "    <tr>\n",
       "      <th>20</th>\n",
       "      <td>0.412991</td>\n",
       "      <td>Categories_active_cred_max_overdue</td>\n",
       "    </tr>\n",
       "    <tr>\n",
       "      <th>15</th>\n",
       "      <td>0.345295</td>\n",
       "      <td>closed_cred_sum_Category</td>\n",
       "    </tr>\n",
       "    <tr>\n",
       "      <th>16</th>\n",
       "      <td>0.223661</td>\n",
       "      <td>binary_closed_creds</td>\n",
       "    </tr>\n",
       "    <tr>\n",
       "      <th>21</th>\n",
       "      <td>0.209737</td>\n",
       "      <td>New_Client</td>\n",
       "    </tr>\n",
       "    <tr>\n",
       "      <th>23</th>\n",
       "      <td>0.204057</td>\n",
       "      <td>Ehough_Income_</td>\n",
       "    </tr>\n",
       "  </tbody>\n",
       "</table>\n",
       "</div>"
      ]
     },
     "metadata": {},
     "execution_count": 113
    }
   ],
   "metadata": {}
  },
  {
   "cell_type": "code",
   "execution_count": 114,
   "source": [
    "y_pred_score = Cat.predict_proba(X_test)[:,1]"
   ],
   "outputs": [],
   "metadata": {}
  },
  {
   "cell_type": "code",
   "execution_count": 115,
   "source": [
    "#Получим границу вероятности от кривой auc"
   ],
   "outputs": [],
   "metadata": {}
  },
  {
   "cell_type": "code",
   "execution_count": 116,
   "source": [
    "fpr, tpr, thr = roc_curve(y_test, y_pred_score)\r\n",
    "roc = pd.DataFrame({'fpr':fpr,'tpr':tpr,'thr':thr})"
   ],
   "outputs": [],
   "metadata": {}
  },
  {
   "cell_type": "code",
   "execution_count": 117,
   "source": [
    "roc.plot(x='fpr',y='tpr',figsize=(6,6),grid=True)"
   ],
   "outputs": [
    {
     "output_type": "execute_result",
     "data": {
      "text/plain": [
       "<AxesSubplot:xlabel='fpr'>"
      ]
     },
     "metadata": {},
     "execution_count": 117
    },
    {
     "output_type": "display_data",
     "data": {
      "text/plain": [
       "<Figure size 432x432 with 1 Axes>"
      ],
      "image/png": "[encoded data removed]"
     },
     "metadata": {}
    }
   ],
   "metadata": {}
  },
  {
   "cell_type": "code",
   "execution_count": 118,
   "source": [
    "roc['tpr-fpr'] = roc['tpr'] - roc['fpr'] #назодим ту границу, где комбинация tpr и fpr даёт наилучший результат"
   ],
   "outputs": [],
   "metadata": {}
  },
  {
   "cell_type": "code",
   "execution_count": 121,
   "source": [
    "roc.sort_values('tpr-fpr',ascending=False)"
   ],
   "outputs": [
    {
     "output_type": "execute_result",
     "data": {
      "text/plain": [
       "           fpr       tpr       thr   tpr-fpr\n",
       "688   0.118860  0.872822  0.753885  0.753962\n",
       "686   0.118557  0.872509  0.754536  0.753952\n",
       "684   0.117950  0.871883  0.755627  0.753933\n",
       "692   0.119770  0.873657  0.751737  0.753887\n",
       "694   0.120073  0.873865  0.751298  0.753793\n",
       "...        ...       ...       ...       ...\n",
       "1919  0.944209  1.000000  0.003562  0.055791\n",
       "1918  0.944209  0.999896  0.003601  0.055687\n",
       "1     0.000000  0.000104  0.999981  0.000104\n",
       "0     0.000000  0.000000  1.999981  0.000000\n",
       "1920  1.000000  1.000000  0.000144  0.000000\n",
       "\n",
       "[1921 rows x 4 columns]"
      ],
      "text/html": [
       "<div>\n",
       "<style scoped>\n",
       "    .dataframe tbody tr th:only-of-type {\n",
       "        vertical-align: middle;\n",
       "    }\n",
       "\n",
       "    .dataframe tbody tr th {\n",
       "        vertical-align: top;\n",
       "    }\n",
       "\n",
       "    .dataframe thead th {\n",
       "        text-align: right;\n",
       "    }\n",
       "</style>\n",
       "<table border=\"1\" class=\"dataframe\">\n",
       "  <thead>\n",
       "    <tr style=\"text-align: right;\">\n",
       "      <th></th>\n",
       "      <th>fpr</th>\n",
       "      <th>tpr</th>\n",
       "      <th>thr</th>\n",
       "      <th>tpr-fpr</th>\n",
       "    </tr>\n",
       "  </thead>\n",
       "  <tbody>\n",
       "    <tr>\n",
       "      <th>688</th>\n",
       "      <td>0.118860</td>\n",
       "      <td>0.872822</td>\n",
       "      <td>0.753885</td>\n",
       "      <td>0.753962</td>\n",
       "    </tr>\n",
       "    <tr>\n",
       "      <th>686</th>\n",
       "      <td>0.118557</td>\n",
       "      <td>0.872509</td>\n",
       "      <td>0.754536</td>\n",
       "      <td>0.753952</td>\n",
       "    </tr>\n",
       "    <tr>\n",
       "      <th>684</th>\n",
       "      <td>0.117950</td>\n",
       "      <td>0.871883</td>\n",
       "      <td>0.755627</td>\n",
       "      <td>0.753933</td>\n",
       "    </tr>\n",
       "    <tr>\n",
       "      <th>692</th>\n",
       "      <td>0.119770</td>\n",
       "      <td>0.873657</td>\n",
       "      <td>0.751737</td>\n",
       "      <td>0.753887</td>\n",
       "    </tr>\n",
       "    <tr>\n",
       "      <th>694</th>\n",
       "      <td>0.120073</td>\n",
       "      <td>0.873865</td>\n",
       "      <td>0.751298</td>\n",
       "      <td>0.753793</td>\n",
       "    </tr>\n",
       "    <tr>\n",
       "      <th>...</th>\n",
       "      <td>...</td>\n",
       "      <td>...</td>\n",
       "      <td>...</td>\n",
       "      <td>...</td>\n",
       "    </tr>\n",
       "    <tr>\n",
       "      <th>1919</th>\n",
       "      <td>0.944209</td>\n",
       "      <td>1.000000</td>\n",
       "      <td>0.003562</td>\n",
       "      <td>0.055791</td>\n",
       "    </tr>\n",
       "    <tr>\n",
       "      <th>1918</th>\n",
       "      <td>0.944209</td>\n",
       "      <td>0.999896</td>\n",
       "      <td>0.003601</td>\n",
       "      <td>0.055687</td>\n",
       "    </tr>\n",
       "    <tr>\n",
       "      <th>1</th>\n",
       "      <td>0.000000</td>\n",
       "      <td>0.000104</td>\n",
       "      <td>0.999981</td>\n",
       "      <td>0.000104</td>\n",
       "    </tr>\n",
       "    <tr>\n",
       "      <th>0</th>\n",
       "      <td>0.000000</td>\n",
       "      <td>0.000000</td>\n",
       "      <td>1.999981</td>\n",
       "      <td>0.000000</td>\n",
       "    </tr>\n",
       "    <tr>\n",
       "      <th>1920</th>\n",
       "      <td>1.000000</td>\n",
       "      <td>1.000000</td>\n",
       "      <td>0.000144</td>\n",
       "      <td>0.000000</td>\n",
       "    </tr>\n",
       "  </tbody>\n",
       "</table>\n",
       "<p>1921 rows × 4 columns</p>\n",
       "</div>"
      ]
     },
     "metadata": {},
     "execution_count": 121
    }
   ],
   "metadata": {}
  },
  {
   "cell_type": "code",
   "execution_count": 119,
   "source": [
    "best_thr = roc.sort_values('tpr-fpr',ascending=False)['thr'].iloc[0]\r\n",
    "best_thr"
   ],
   "outputs": [
    {
     "output_type": "execute_result",
     "data": {
      "text/plain": [
       "0.7538851466999943"
      ]
     },
     "metadata": {},
     "execution_count": 119
    }
   ],
   "metadata": {}
  },
  {
   "cell_type": "code",
   "execution_count": 194,
   "source": [
    "y_pred = (y_pred_score >= best_thr)*1"
   ],
   "outputs": [],
   "metadata": {}
  },
  {
   "cell_type": "code",
   "execution_count": 195,
   "source": [
    "print(classification_report(y_test, y_pred))"
   ],
   "outputs": [
    {
     "output_type": "stream",
     "name": "stdout",
     "text": [
      "              precision    recall  f1-score   support\n",
      "\n",
      "           0       0.70      0.88      0.78      3298\n",
      "           1       0.96      0.87      0.91      9585\n",
      "\n",
      "    accuracy                           0.87     12883\n",
      "   macro avg       0.83      0.88      0.85     12883\n",
      "weighted avg       0.89      0.87      0.88     12883\n",
      "\n"
     ]
    }
   ],
   "metadata": {}
  },
  {
   "cell_type": "code",
   "execution_count": 200,
   "source": [
    "pd.DataFrame(y_pred_score).hist()"
   ],
   "outputs": [
    {
     "output_type": "execute_result",
     "data": {
      "text/plain": [
       "array([[<AxesSubplot:title={'center':'0'}>]], dtype=object)"
      ]
     },
     "metadata": {},
     "execution_count": 200
    },
    {
     "output_type": "display_data",
     "data": {
      "text/plain": [
       "<Figure size 576x432 with 1 Axes>"
      ],
      "image/png": "[encoded data removed]"
     },
     "metadata": {}
    }
   ],
   "metadata": {}
  },
  {
   "cell_type": "code",
   "execution_count": null,
   "source": [],
   "outputs": [],
   "metadata": {}
  },
  {
   "cell_type": "code",
   "execution_count": null,
   "source": [
    "# Использование других моделей:"
   ],
   "outputs": [],
   "metadata": {}
  },
  {
   "cell_type": "code",
   "execution_count": 165,
   "source": [
    "#Тестирование различных моделей \r\n",
    "# 1. Лес\r\n",
    "rf1 = RandomForestClassifier()\r\n",
    "parameters = {'criterion': ['gini'],\r\n",
    "             'n_estimators' : range(60, 100, 10),\r\n",
    "             'max_depth': range(8 ,30, 2),\r\n",
    "             'min_samples_split': range(10, 30, 2),\r\n",
    "             'min_samples_leaf': range(5, 10)\r\n",
    "             }\r\n",
    "rsrf = RandomizedSearchCV(rf1, parameters, n_jobs=-1)\r\n",
    "\r\n",
    "# 2. \r\n",
    "xgb1 = XGBClassifier(objective=\"binary:logistic\", random_state=42)\r\n",
    "\r\n",
    "# 3\r\n",
    "sgd1 = SGDClassifier(loss='log', random_state=17, n_jobs=-1, alpha=5e-06, max_iter=500)\r\n",
    "\r\n",
    "# 4\r\n",
    "Logistic1 = LogisticRegression(C=1, random_state=17, solver='lbfgs', n_jobs=-1, class_weight='balanced')"
   ],
   "outputs": [],
   "metadata": {}
  },
  {
   "cell_type": "code",
   "execution_count": 166,
   "source": [
    "#Создание общей функции для одновременного теста нескольких моделей сразу с подсчётом метрик качества "
   ],
   "outputs": [],
   "metadata": {}
  },
  {
   "cell_type": "code",
   "execution_count": 167,
   "source": [
    "def Modelauc (model1, model2, model3, model4, X_train, X_test, y_train, y_test):\r\n",
    "    pok = [] #список для вероятностей \r\n",
    "    pak=[] #список для бинарных значений\r\n",
    "    model_list = [model1, model2, model3, model4]\r\n",
    "    # model_list = [model1, model2] \r\n",
    "    for model in model_list:\r\n",
    "        model.fit(X_train, y_train);\r\n",
    "       \r\n",
    "        a = roc_auc_score(y_test, model.predict_proba(X_test)[:, 1]);\r\n",
    "        b = precision_score(y_test, model.predict(X_test));\r\n",
    "        c = recall_score(y_test, model.predict(X_test));\r\n",
    "        d = accuracy_score(y_test, model.predict(X_test));\r\n",
    "        e = f1_score(y_test, model.predict(X_test));\r\n",
    "\r\n",
    "        pok.append(model.predict_proba(X_test)[:, 1]);\r\n",
    "        pak.append(model.predict(X_test))\r\n",
    "\r\n",
    "        print('For model', str(model)[0:11], 'ROC_AUC=', a)\r\n",
    "        print('For model', str(model)[0:11], 'Prec=', b)\r\n",
    "        print('For model', str(model)[0:11], 'Recall=', c)\r\n",
    "        print('For model', str(model)[0:11], 'Accuracy_score=', d)\r\n",
    "        print('For model', str(model)[0:11], 'F1_score=', e)\r\n",
    "        print('____________________________________________________')\r\n",
    "\r\n",
    "      # return(pok)\r\n"
   ],
   "outputs": [],
   "metadata": {}
  },
  {
   "cell_type": "code",
   "execution_count": 168,
   "source": [
    "Modelauc(rsrf, xgb1, sgd1, Logistic1, X_train, X_test, y_train, y_test)"
   ],
   "outputs": [
    {
     "output_type": "stream",
     "name": "stdout",
     "text": [
      "For model RandomizedS ROC_AUC= 0.93930604944493\n",
      "For model RandomizedS Prec= 0.901821060965954\n",
      "For model RandomizedS Recall= 0.9506520605112154\n",
      "For model RandomizedS Accuracy_score= 0.8862842505627572\n",
      "For model RandomizedS F1_score= 0.9255929706942962\n",
      "____________________________________________________\n",
      "[03:13:52] WARNING: C:/Users/Administrator/workspace/xgboost-win64_release_1.3.0/src/learner.cc:1061: Starting in XGBoost 1.3.0, the default evaluation metric used with the objective 'binary:logistic' was changed from 'error' to 'logloss'. Explicitly set eval_metric if you'd like to restore the old behavior.\n"
     ]
    },
    {
     "output_type": "stream",
     "name": "stderr",
     "text": [
      "D:\\Python\\lib\\site-packages\\xgboost\\sklearn.py:888: UserWarning: The use of label encoder in XGBClassifier is deprecated and will be removed in a future release. To remove this warning, do the following: 1) Pass option use_label_encoder=False when constructing XGBClassifier object; and 2) Encode your labels (y) as integers starting with 0, i.e. 0, 1, 2, ..., [num_class - 1].\n",
      "  warnings.warn(label_encoder_deprecation_msg, UserWarning)\n"
     ]
    },
    {
     "output_type": "stream",
     "name": "stdout",
     "text": [
      "For model XGBClassifi ROC_AUC= 0.9483995453528846\n",
      "For model XGBClassifi Prec= 0.9143949300875164\n",
      "For model XGBClassifi Recall= 0.9483568075117371\n",
      "For model XGBClassifi Accuracy_score= 0.895521229527284\n",
      "For model XGBClassifi F1_score= 0.9310662706135409\n",
      "____________________________________________________\n",
      "For model SGDClassifi ROC_AUC= 0.5757770236177978\n",
      "For model SGDClassifi Prec= 0.7785097893662429\n",
      "For model SGDClassifi Recall= 0.8753260302556077\n",
      "For model SGDClassifi Accuracy_score= 0.7219591710005433\n",
      "For model SGDClassifi F1_score= 0.8240840781848542\n",
      "____________________________________________________\n",
      "For model LogisticReg ROC_AUC= 0.7904917002859417\n",
      "For model LogisticReg Prec= 0.8726990198422185\n",
      "For model LogisticReg Recall= 0.7617110067814293\n",
      "For model LogisticReg Accuracy_score= 0.7400450205697431\n",
      "For model LogisticReg F1_score= 0.8134365773494514\n",
      "____________________________________________________\n"
     ]
    }
   ],
   "metadata": {}
  },
  {
   "cell_type": "code",
   "execution_count": null,
   "source": [],
   "outputs": [],
   "metadata": {}
  },
  {
   "cell_type": "code",
   "execution_count": null,
   "source": [],
   "outputs": [],
   "metadata": {}
  }
 ]
}