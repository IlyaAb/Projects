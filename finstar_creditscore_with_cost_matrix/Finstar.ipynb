{
 "cells": [
  {
   "cell_type": "markdown",
   "metadata": {},
   "source": [
    "# Описание задачи и подгружаемые библиотеки"
   ]
  },
  {
   "cell_type": "code",
   "execution_count": 1,
   "metadata": {},
   "outputs": [],
   "source": [
    "# Описание задачи\n",
    "# Задание \n",
    "# -сделать модель, предсказывающую вероятность дефолта (таргет fpd5_flg), \n",
    "\n",
    "\n",
    "# -на выходе должен быть тот же самый файл, но напротив каждого наблюдения \n",
    "# должна быть проставлена вероятность дефолта по построенной модели\n"
   ]
  },
  {
   "cell_type": "markdown",
   "metadata": {},
   "source": []
  },
  {
   "cell_type": "code",
   "execution_count": 2,
   "metadata": {},
   "outputs": [],
   "source": [
    "import pandas as pd\n",
    "import matplotlib.pyplot as plt\n",
    "import seaborn as sns\n",
    "from tqdm.notebook import  tqdm\n",
    "import numpy as np\n",
    "\n",
    "\n",
    "from catboost import CatBoostClassifier, Pool, cv\n",
    "from sklearn.metrics import roc_auc_score, roc_curve, classification_report, confusion_matrix\n",
    "from sklearn.model_selection import train_test_split\n",
    "from imblearn.over_sampling import SMOTE\n"
   ]
  },
  {
   "cell_type": "code",
   "execution_count": 3,
   "metadata": {},
   "outputs": [],
   "source": [
    "data_initial = pd.read_excel('./Test Sample.xlsx')"
   ]
  },
  {
   "cell_type": "code",
   "execution_count": 4,
   "metadata": {},
   "outputs": [],
   "source": [
    "data = data_initial.copy()"
   ]
  },
  {
   "cell_type": "code",
   "execution_count": 5,
   "metadata": {},
   "outputs": [
    {
     "data": {
      "text/html": [
       "<div>\n",
       "<style scoped>\n",
       "    .dataframe tbody tr th:only-of-type {\n",
       "        vertical-align: middle;\n",
       "    }\n",
       "\n",
       "    .dataframe tbody tr th {\n",
       "        vertical-align: top;\n",
       "    }\n",
       "\n",
       "    .dataframe thead th {\n",
       "        text-align: right;\n",
       "    }\n",
       "</style>\n",
       "<table border=\"1\" class=\"dataframe\">\n",
       "  <thead>\n",
       "    <tr style=\"text-align: right;\">\n",
       "      <th></th>\n",
       "      <th>fpd5_flg</th>\n",
       "      <th>dt</th>\n",
       "      <th>gender</th>\n",
       "      <th>device_quaility_index</th>\n",
       "      <th>behavioral_index</th>\n",
       "      <th>type_of_document</th>\n",
       "      <th>age</th>\n",
       "      <th>email_domain_formatted</th>\n",
       "      <th>social_status</th>\n",
       "      <th>salary</th>\n",
       "      <th>disbursment_type</th>\n",
       "      <th>os</th>\n",
       "      <th>email_index</th>\n",
       "    </tr>\n",
       "  </thead>\n",
       "  <tbody>\n",
       "    <tr>\n",
       "      <th>0</th>\n",
       "      <td>0</td>\n",
       "      <td>2021-01-22</td>\n",
       "      <td>0</td>\n",
       "      <td>NaN</td>\n",
       "      <td>NaN</td>\n",
       "      <td>UMID</td>\n",
       "      <td>26</td>\n",
       "      <td>GMAIL.COM</td>\n",
       "      <td>Private Company Employee</td>\n",
       "      <td>20000.0</td>\n",
       "      <td>Bank</td>\n",
       "      <td>Android</td>\n",
       "      <td>0.0</td>\n",
       "    </tr>\n",
       "    <tr>\n",
       "      <th>1</th>\n",
       "      <td>0</td>\n",
       "      <td>2020-12-14</td>\n",
       "      <td>1</td>\n",
       "      <td>3.0</td>\n",
       "      <td>4.0</td>\n",
       "      <td>UMID</td>\n",
       "      <td>32</td>\n",
       "      <td>GMAIL.COM</td>\n",
       "      <td>Other</td>\n",
       "      <td>18000.0</td>\n",
       "      <td>E-wallet</td>\n",
       "      <td>Android</td>\n",
       "      <td>1.0</td>\n",
       "    </tr>\n",
       "    <tr>\n",
       "      <th>2</th>\n",
       "      <td>1</td>\n",
       "      <td>2021-01-26</td>\n",
       "      <td>0</td>\n",
       "      <td>0.0</td>\n",
       "      <td>3.0</td>\n",
       "      <td>SSS</td>\n",
       "      <td>41</td>\n",
       "      <td>YAHOO.COM</td>\n",
       "      <td>Private Company Employee</td>\n",
       "      <td>14000.0</td>\n",
       "      <td>Bank</td>\n",
       "      <td>Android</td>\n",
       "      <td>1.0</td>\n",
       "    </tr>\n",
       "    <tr>\n",
       "      <th>3</th>\n",
       "      <td>1</td>\n",
       "      <td>2020-12-10</td>\n",
       "      <td>1</td>\n",
       "      <td>0.0</td>\n",
       "      <td>5.0</td>\n",
       "      <td>TIN</td>\n",
       "      <td>28</td>\n",
       "      <td>GMAIL.COM</td>\n",
       "      <td>BPO Professionals</td>\n",
       "      <td>40000.0</td>\n",
       "      <td>E-wallet</td>\n",
       "      <td>Android</td>\n",
       "      <td>1.0</td>\n",
       "    </tr>\n",
       "    <tr>\n",
       "      <th>4</th>\n",
       "      <td>1</td>\n",
       "      <td>2021-01-17</td>\n",
       "      <td>0</td>\n",
       "      <td>3.0</td>\n",
       "      <td>3.0</td>\n",
       "      <td>UMID</td>\n",
       "      <td>31</td>\n",
       "      <td>GMAIL.COM</td>\n",
       "      <td>BPO Professionals</td>\n",
       "      <td>25000.0</td>\n",
       "      <td>Bank</td>\n",
       "      <td>Android</td>\n",
       "      <td>0.0</td>\n",
       "    </tr>\n",
       "  </tbody>\n",
       "</table>\n",
       "</div>"
      ],
      "text/plain": [
       "   fpd5_flg          dt  gender  device_quaility_index  behavioral_index  \\\n",
       "0         0  2021-01-22       0                    NaN               NaN   \n",
       "1         0  2020-12-14       1                    3.0               4.0   \n",
       "2         1  2021-01-26       0                    0.0               3.0   \n",
       "3         1  2020-12-10       1                    0.0               5.0   \n",
       "4         1  2021-01-17       0                    3.0               3.0   \n",
       "\n",
       "  type_of_document  age email_domain_formatted             social_status  \\\n",
       "0             UMID   26              GMAIL.COM  Private Company Employee   \n",
       "1             UMID   32              GMAIL.COM                     Other   \n",
       "2              SSS   41              YAHOO.COM  Private Company Employee   \n",
       "3              TIN   28              GMAIL.COM         BPO Professionals   \n",
       "4             UMID   31              GMAIL.COM         BPO Professionals   \n",
       "\n",
       "    salary disbursment_type       os  email_index  \n",
       "0  20000.0             Bank  Android          0.0  \n",
       "1  18000.0         E-wallet  Android          1.0  \n",
       "2  14000.0             Bank  Android          1.0  \n",
       "3  40000.0         E-wallet  Android          1.0  \n",
       "4  25000.0             Bank  Android          0.0  "
      ]
     },
     "execution_count": 5,
     "metadata": {},
     "output_type": "execute_result"
    }
   ],
   "source": [
    "data.head(5)"
   ]
  },
  {
   "cell_type": "code",
   "execution_count": 6,
   "metadata": {},
   "outputs": [
    {
     "data": {
      "text/plain": [
       "(15363, 13)"
      ]
     },
     "execution_count": 6,
     "metadata": {},
     "output_type": "execute_result"
    }
   ],
   "source": [
    "data.shape"
   ]
  },
  {
   "cell_type": "markdown",
   "metadata": {},
   "source": [
    "# EDA"
   ]
  },
  {
   "cell_type": "markdown",
   "metadata": {},
   "source": [
    "## Поиск и редактирование выбросов"
   ]
  },
  {
   "cell_type": "code",
   "execution_count": 7,
   "metadata": {},
   "outputs": [
    {
     "name": "stdout",
     "output_type": "stream",
     "text": [
      "<class 'pandas.core.frame.DataFrame'>\n",
      "RangeIndex: 15363 entries, 0 to 15362\n",
      "Data columns (total 13 columns):\n",
      " #   Column                  Non-Null Count  Dtype  \n",
      "---  ------                  --------------  -----  \n",
      " 0   fpd5_flg                15363 non-null  int64  \n",
      " 1   dt                      15363 non-null  object \n",
      " 2   gender                  15363 non-null  int64  \n",
      " 3   device_quaility_index   14798 non-null  float64\n",
      " 4   behavioral_index        14798 non-null  float64\n",
      " 5   type_of_document        15363 non-null  object \n",
      " 6   age                     15363 non-null  int64  \n",
      " 7   email_domain_formatted  15363 non-null  object \n",
      " 8   social_status           15363 non-null  object \n",
      " 9   salary                  14649 non-null  float64\n",
      " 10  disbursment_type        15363 non-null  object \n",
      " 11  os                      15347 non-null  object \n",
      " 12  email_index             15330 non-null  float64\n",
      "dtypes: float64(4), int64(3), object(6)\n",
      "memory usage: 1.5+ MB\n"
     ]
    }
   ],
   "source": [
    "data.info()"
   ]
  },
  {
   "cell_type": "code",
   "execution_count": 8,
   "metadata": {},
   "outputs": [
    {
     "data": {
      "text/html": [
       "<div>\n",
       "<style scoped>\n",
       "    .dataframe tbody tr th:only-of-type {\n",
       "        vertical-align: middle;\n",
       "    }\n",
       "\n",
       "    .dataframe tbody tr th {\n",
       "        vertical-align: top;\n",
       "    }\n",
       "\n",
       "    .dataframe thead th {\n",
       "        text-align: right;\n",
       "    }\n",
       "</style>\n",
       "<table border=\"1\" class=\"dataframe\">\n",
       "  <thead>\n",
       "    <tr style=\"text-align: right;\">\n",
       "      <th></th>\n",
       "      <th>gender</th>\n",
       "      <th>device_quaility_index</th>\n",
       "      <th>behavioral_index</th>\n",
       "      <th>age</th>\n",
       "      <th>salary</th>\n",
       "      <th>email_index</th>\n",
       "    </tr>\n",
       "  </thead>\n",
       "  <tbody>\n",
       "    <tr>\n",
       "      <th>count</th>\n",
       "      <td>15363.000000</td>\n",
       "      <td>14798.000000</td>\n",
       "      <td>14798.000000</td>\n",
       "      <td>15363.000000</td>\n",
       "      <td>1.464900e+04</td>\n",
       "      <td>15330.000000</td>\n",
       "    </tr>\n",
       "    <tr>\n",
       "      <th>mean</th>\n",
       "      <td>0.629109</td>\n",
       "      <td>2.369982</td>\n",
       "      <td>4.051291</td>\n",
       "      <td>35.135781</td>\n",
       "      <td>1.261647e+05</td>\n",
       "      <td>1.580039</td>\n",
       "    </tr>\n",
       "    <tr>\n",
       "      <th>std</th>\n",
       "      <td>0.483059</td>\n",
       "      <td>1.077686</td>\n",
       "      <td>0.937965</td>\n",
       "      <td>9.125229</td>\n",
       "      <td>1.239332e+07</td>\n",
       "      <td>2.397705</td>\n",
       "    </tr>\n",
       "    <tr>\n",
       "      <th>min</th>\n",
       "      <td>0.000000</td>\n",
       "      <td>0.000000</td>\n",
       "      <td>1.000000</td>\n",
       "      <td>21.000000</td>\n",
       "      <td>0.000000e+00</td>\n",
       "      <td>0.000000</td>\n",
       "    </tr>\n",
       "    <tr>\n",
       "      <th>25%</th>\n",
       "      <td>0.000000</td>\n",
       "      <td>2.000000</td>\n",
       "      <td>3.000000</td>\n",
       "      <td>28.000000</td>\n",
       "      <td>1.500000e+04</td>\n",
       "      <td>0.000000</td>\n",
       "    </tr>\n",
       "    <tr>\n",
       "      <th>50%</th>\n",
       "      <td>1.000000</td>\n",
       "      <td>3.000000</td>\n",
       "      <td>4.000000</td>\n",
       "      <td>34.000000</td>\n",
       "      <td>2.000000e+04</td>\n",
       "      <td>1.000000</td>\n",
       "    </tr>\n",
       "    <tr>\n",
       "      <th>75%</th>\n",
       "      <td>1.000000</td>\n",
       "      <td>3.000000</td>\n",
       "      <td>5.000000</td>\n",
       "      <td>41.000000</td>\n",
       "      <td>2.600000e+04</td>\n",
       "      <td>1.000000</td>\n",
       "    </tr>\n",
       "    <tr>\n",
       "      <th>max</th>\n",
       "      <td>1.000000</td>\n",
       "      <td>4.000000</td>\n",
       "      <td>6.000000</td>\n",
       "      <td>69.000000</td>\n",
       "      <td>1.500020e+09</td>\n",
       "      <td>12.000000</td>\n",
       "    </tr>\n",
       "  </tbody>\n",
       "</table>\n",
       "</div>"
      ],
      "text/plain": [
       "             gender  device_quaility_index  behavioral_index           age  \\\n",
       "count  15363.000000           14798.000000      14798.000000  15363.000000   \n",
       "mean       0.629109               2.369982          4.051291     35.135781   \n",
       "std        0.483059               1.077686          0.937965      9.125229   \n",
       "min        0.000000               0.000000          1.000000     21.000000   \n",
       "25%        0.000000               2.000000          3.000000     28.000000   \n",
       "50%        1.000000               3.000000          4.000000     34.000000   \n",
       "75%        1.000000               3.000000          5.000000     41.000000   \n",
       "max        1.000000               4.000000          6.000000     69.000000   \n",
       "\n",
       "             salary   email_index  \n",
       "count  1.464900e+04  15330.000000  \n",
       "mean   1.261647e+05      1.580039  \n",
       "std    1.239332e+07      2.397705  \n",
       "min    0.000000e+00      0.000000  \n",
       "25%    1.500000e+04      0.000000  \n",
       "50%    2.000000e+04      1.000000  \n",
       "75%    2.600000e+04      1.000000  \n",
       "max    1.500020e+09     12.000000  "
      ]
     },
     "execution_count": 8,
     "metadata": {},
     "output_type": "execute_result"
    }
   ],
   "source": [
    "#проверка на наличие бредовых значений, на подобии отрицательных в возрасте или зп, или слишком больших, где их быть не может \n",
    "data.describe().iloc[:,1:13]"
   ]
  },
  {
   "cell_type": "code",
   "execution_count": 9,
   "metadata": {},
   "outputs": [],
   "source": [
    "# ==> явный выброс в зарплате"
   ]
  },
  {
   "cell_type": "code",
   "execution_count": 10,
   "metadata": {},
   "outputs": [],
   "source": [
    "#удалим сразу значение больше миллиарда\n",
    "#пока нет смысла использовать метод удаления выбросов ориентруясь на квантили, потому что  \n",
    "# зарплат, которые выше чем квантиль99 может быть достаточно много, при условии расслоения общества,\n",
    "# а они пойдут в выбросы и будут удалены, что не верно \n",
    "data['salary'] = data['salary'].apply(lambda x: 0 if x>1000000000 else x)  #1000000000"
   ]
  },
  {
   "cell_type": "code",
   "execution_count": 11,
   "metadata": {},
   "outputs": [
    {
     "name": "stdout",
     "output_type": "stream",
     "text": [
      "У 90% людей из выборки зп не превышает 35000\n"
     ]
    },
    {
     "data": {
      "image/png": "[encoded data removed]",
      "text/plain": [
       "<Figure size 1800x288 with 1 Axes>"
      ]
     },
     "metadata": {
      "needs_background": "light"
     },
     "output_type": "display_data"
    }
   ],
   "source": [
    "#получаем достаточно реальную картину \n",
    "plt.figure(figsize=(25, 4))\n",
    "sns.boxplot(x = data['salary'])\n",
    "print('У 90% людей из выборки зп не превышает', int(data['salary'].quantile(0.90)))"
   ]
  },
  {
   "cell_type": "code",
   "execution_count": 12,
   "metadata": {},
   "outputs": [],
   "source": [
    "# ==> достаточно реальные цифры, учитывая экономические реалии Филиппин"
   ]
  },
  {
   "cell_type": "markdown",
   "metadata": {},
   "source": [
    "## Работа с пропусками"
   ]
  },
  {
   "cell_type": "markdown",
   "metadata": {},
   "source": [
    "### Поиск пропусков"
   ]
  },
  {
   "cell_type": "code",
   "execution_count": 13,
   "metadata": {},
   "outputs": [
    {
     "data": {
      "text/plain": [
       "<AxesSubplot:>"
      ]
     },
     "execution_count": 13,
     "metadata": {},
     "output_type": "execute_result"
    },
    {
     "data": {
      "image/png": "[encoded data removed]",
      "text/plain": [
       "<Figure size 1080x1296 with 2 Axes>"
      ]
     },
     "metadata": {
      "needs_background": "light"
     },
     "output_type": "display_data"
    }
   ],
   "source": [
    "#построение тепловой карты пропусков\n",
    "plt.figure(figsize=(15, 18))\n",
    "colours = ['#000099', '#ffff00'] \n",
    "sns.heatmap(data.isnull(), cmap=sns.color_palette(colours))"
   ]
  },
  {
   "cell_type": "code",
   "execution_count": 14,
   "metadata": {},
   "outputs": [
    {
     "name": "stdout",
     "output_type": "stream",
     "text": [
      "<class 'pandas.core.frame.DataFrame'>\n",
      "RangeIndex: 15363 entries, 0 to 15362\n",
      "Data columns (total 13 columns):\n",
      " #   Column                  Non-Null Count  Dtype  \n",
      "---  ------                  --------------  -----  \n",
      " 0   fpd5_flg                15363 non-null  int64  \n",
      " 1   dt                      15363 non-null  object \n",
      " 2   gender                  15363 non-null  int64  \n",
      " 3   device_quaility_index   14798 non-null  float64\n",
      " 4   behavioral_index        14798 non-null  float64\n",
      " 5   type_of_document        15363 non-null  object \n",
      " 6   age                     15363 non-null  int64  \n",
      " 7   email_domain_formatted  15363 non-null  object \n",
      " 8   social_status           15363 non-null  object \n",
      " 9   salary                  14649 non-null  float64\n",
      " 10  disbursment_type        15363 non-null  object \n",
      " 11  os                      15347 non-null  object \n",
      " 12  email_index             15330 non-null  float64\n",
      "dtypes: float64(4), int64(3), object(6)\n",
      "memory usage: 1.5+ MB\n"
     ]
    }
   ],
   "source": [
    "data.info()"
   ]
  },
  {
   "cell_type": "code",
   "execution_count": 15,
   "metadata": {},
   "outputs": [
    {
     "data": {
      "text/plain": [
       "565"
      ]
     },
     "execution_count": 15,
     "metadata": {},
     "output_type": "execute_result"
    }
   ],
   "source": [
    "15363 - 14798 "
   ]
  },
  {
   "cell_type": "code",
   "execution_count": 16,
   "metadata": {},
   "outputs": [],
   "source": [
    "#пропуски обнаружены в:\n",
    "# device_quaility_index, behavioral_index - одинаковое кол-во пропусков + судя по тепловой карте скорее, всего в одних и тех же строках   \n",
    "# salary  \n",
    "# os\n",
    "# email_index"
   ]
  },
  {
   "cell_type": "code",
   "execution_count": 17,
   "metadata": {},
   "outputs": [
    {
     "name": "stdout",
     "output_type": "stream",
     "text": [
      "1    9665\n",
      "0    5698\n",
      "Name: gender, dtype: int64\n",
      "==============================================\n",
      "3.0    7837\n",
      "1.0    2374\n",
      "2.0    2337\n",
      "4.0    1128\n",
      "0.0    1122\n",
      "Name: device_quaility_index, dtype: int64\n",
      "==============================================\n",
      "4.0    4721\n",
      "3.0    4675\n",
      "5.0    4447\n",
      "6.0     730\n",
      "2.0     202\n",
      "1.0      23\n",
      "Name: behavioral_index, dtype: int64\n",
      "==============================================\n",
      "UMID                 5419\n",
      "Driver license ID    3073\n",
      "TIN                  3057\n",
      "Passport             1867\n",
      "SSS                  1498\n",
      "PRC                   449\n",
      "Name: type_of_document, dtype: int64\n",
      "==============================================\n",
      "GMAIL.COM         12109\n",
      "YAHOO.COM          2626\n",
      "YAHOO.COM.PH        182\n",
      "DEPED.GOV.PH        100\n",
      "ICLOUD.COM           88\n",
      "                  ...  \n",
      "UAP.ASIA              1\n",
      "MERALCO.COM.PH        1\n",
      "DLSL.EDU.PH           1\n",
      "GXII.COM.PH           1\n",
      "PPD.PH                1\n",
      "Name: email_domain_formatted, Length: 95, dtype: int64\n",
      "==============================================\n",
      "Private Company Employee                                       3500\n",
      "Self-Employed                                                  2323\n",
      "BPO Professionals                                              2295\n",
      "Other                                                          1703\n",
      "Business Owner                                                 1680\n",
      "Government Employee                                            1061\n",
      "Freelance                                                       777\n",
      "Unemployed                                                      642\n",
      "Professional Worker (Doctors, Engineers, Accountants, etc.)     642\n",
      "Retail Worker                                                   402\n",
      "Financial Services                                              247\n",
      "Retired                                                          91\n",
      "Name: social_status, dtype: int64\n",
      "==============================================\n",
      "Bank        8918\n",
      "E-wallet    6445\n",
      "Name: disbursment_type, dtype: int64\n",
      "==============================================\n",
      "Android      11499\n",
      "iOS           2947\n",
      "Windows        845\n",
      "macOS           40\n",
      "Linux            7\n",
      "Chrome OS        5\n",
      "OS X             4\n",
      "Name: os, dtype: int64\n",
      "==============================================\n",
      "1.0     8926\n",
      "0.0     4253\n",
      "8.0     1329\n",
      "6.0      273\n",
      "4.0      232\n",
      "10.0     176\n",
      "2.0      129\n",
      "3.0        7\n",
      "12.0       4\n",
      "11.0       1\n",
      "Name: email_index, dtype: int64\n",
      "==============================================\n"
     ]
    }
   ],
   "source": [
    "#Посмотрим на то, как распределены данные \n",
    "col = ['gender',\n",
    " 'device_quaility_index',\n",
    " 'behavioral_index',\n",
    " 'type_of_document',\n",
    " 'email_domain_formatted',\n",
    " 'social_status',\n",
    " 'disbursment_type',\n",
    " 'os',\n",
    " 'email_index']\n",
    "for column in col:\n",
    "    a = data[column].value_counts()\n",
    "    print(a)\n",
    "    print('==============================================')"
   ]
  },
  {
   "cell_type": "markdown",
   "metadata": {},
   "source": [
    "### Заполнение пропусков в признаке Salary"
   ]
  },
  {
   "cell_type": "code",
   "execution_count": 18,
   "metadata": {},
   "outputs": [
    {
     "data": {
      "text/plain": [
       "714"
      ]
     },
     "execution_count": 18,
     "metadata": {},
     "output_type": "execute_result"
    }
   ],
   "source": [
    "#кол-во пустых значений\n",
    "15363 - 14649 "
   ]
  },
  {
   "cell_type": "code",
   "execution_count": 19,
   "metadata": {},
   "outputs": [
    {
     "data": {
      "text/plain": [
       "count    1.464900e+04\n",
       "mean     2.376730e+04\n",
       "std      3.180815e+04\n",
       "min      0.000000e+00\n",
       "25%      1.500000e+04\n",
       "50%      2.000000e+04\n",
       "75%      2.600000e+04\n",
       "max      2.387700e+06\n",
       "Name: salary, dtype: float64"
      ]
     },
     "execution_count": 19,
     "metadata": {},
     "output_type": "execute_result"
    }
   ],
   "source": [
    "data.salary.describe()"
   ]
  },
  {
   "cell_type": "code",
   "execution_count": 20,
   "metadata": {},
   "outputs": [
    {
     "data": {
      "text/html": [
       "<div>\n",
       "<style scoped>\n",
       "    .dataframe tbody tr th:only-of-type {\n",
       "        vertical-align: middle;\n",
       "    }\n",
       "\n",
       "    .dataframe tbody tr th {\n",
       "        vertical-align: top;\n",
       "    }\n",
       "\n",
       "    .dataframe thead th {\n",
       "        text-align: right;\n",
       "    }\n",
       "</style>\n",
       "<table border=\"1\" class=\"dataframe\">\n",
       "  <thead>\n",
       "    <tr style=\"text-align: right;\">\n",
       "      <th></th>\n",
       "      <th>count</th>\n",
       "    </tr>\n",
       "    <tr>\n",
       "      <th>social_status</th>\n",
       "      <th></th>\n",
       "    </tr>\n",
       "  </thead>\n",
       "  <tbody>\n",
       "    <tr>\n",
       "      <th>Other</th>\n",
       "      <td>1</td>\n",
       "    </tr>\n",
       "    <tr>\n",
       "      <th>Retired</th>\n",
       "      <td>90</td>\n",
       "    </tr>\n",
       "    <tr>\n",
       "      <th>Self-Employed</th>\n",
       "      <td>1</td>\n",
       "    </tr>\n",
       "    <tr>\n",
       "      <th>Unemployed</th>\n",
       "      <td>622</td>\n",
       "    </tr>\n",
       "  </tbody>\n",
       "</table>\n",
       "</div>"
      ],
      "text/plain": [
       "               count\n",
       "social_status       \n",
       "Other              1\n",
       "Retired           90\n",
       "Self-Employed      1\n",
       "Unemployed       622"
      ]
     },
     "execution_count": 20,
     "metadata": {},
     "output_type": "execute_result"
    }
   ],
   "source": [
    "# получим кол-во людей не подавших данные о зп, это оказываются люди на пенсии и безработные, то есть разумно заменить пустые значения в данном признаке на нули\n",
    "data.salary=data[['salary']].fillna(999) \n",
    "data.query('salary == 999').groupby('social_status').agg({'social_status': 'count'}).rename(columns={'social_status':'count'})"
   ]
  },
  {
   "cell_type": "code",
   "execution_count": 21,
   "metadata": {},
   "outputs": [],
   "source": [
    "data.salary = data.salary.apply(lambda x: 0 if x==999 else x)"
   ]
  },
  {
   "cell_type": "markdown",
   "metadata": {},
   "source": [
    "### Заполнение пропусков в признаке OS"
   ]
  },
  {
   "cell_type": "code",
   "execution_count": 22,
   "metadata": {},
   "outputs": [
    {
     "name": "stdout",
     "output_type": "stream",
     "text": [
      "<class 'pandas.core.frame.DataFrame'>\n",
      "RangeIndex: 15363 entries, 0 to 15362\n",
      "Data columns (total 13 columns):\n",
      " #   Column                  Non-Null Count  Dtype  \n",
      "---  ------                  --------------  -----  \n",
      " 0   fpd5_flg                15363 non-null  int64  \n",
      " 1   dt                      15363 non-null  object \n",
      " 2   gender                  15363 non-null  int64  \n",
      " 3   device_quaility_index   14798 non-null  float64\n",
      " 4   behavioral_index        14798 non-null  float64\n",
      " 5   type_of_document        15363 non-null  object \n",
      " 6   age                     15363 non-null  int64  \n",
      " 7   email_domain_formatted  15363 non-null  object \n",
      " 8   social_status           15363 non-null  object \n",
      " 9   salary                  15363 non-null  float64\n",
      " 10  disbursment_type        15363 non-null  object \n",
      " 11  os                      15347 non-null  object \n",
      " 12  email_index             15330 non-null  float64\n",
      "dtypes: float64(4), int64(3), object(6)\n",
      "memory usage: 1.5+ MB\n"
     ]
    }
   ],
   "source": [
    "data.info()"
   ]
  },
  {
   "cell_type": "code",
   "execution_count": 23,
   "metadata": {},
   "outputs": [
    {
     "data": {
      "text/plain": [
       "16"
      ]
     },
     "execution_count": 23,
     "metadata": {},
     "output_type": "execute_result"
    }
   ],
   "source": [
    "#кол-во пропусков\n",
    "data.shape[0] - 15347"
   ]
  },
  {
   "cell_type": "code",
   "execution_count": 24,
   "metadata": {},
   "outputs": [
    {
     "data": {
      "text/plain": [
       "<AxesSubplot:xlabel='device_quaility_index', ylabel='count'>"
      ]
     },
     "execution_count": 24,
     "metadata": {},
     "output_type": "execute_result"
    },
    {
     "data": {
      "image/png": "[encoded data removed]",
      "text/plain": [
       "<Figure size 864x720 with 1 Axes>"
      ]
     },
     "metadata": {
      "needs_background": "light"
     },
     "output_type": "display_data"
    }
   ],
   "source": [
    "#вероятно данный признак связан c device_quaility_index    \n",
    "plt.figure(figsize=(12, 10))\n",
    "sns.countplot(x=data['device_quaility_index'], hue=data['os'])"
   ]
  },
  {
   "cell_type": "code",
   "execution_count": 25,
   "metadata": {},
   "outputs": [],
   "source": [
    "# ==> исходя из графика видно чёткое отсечение индексов качества устройства к принадлежности ОС, \n",
    "# если индекс = 0, 1, 2, 3 то это скорее всего андроид, если 4 то скорее всего ios"
   ]
  },
  {
   "cell_type": "code",
   "execution_count": 26,
   "metadata": {},
   "outputs": [],
   "source": [
    "data_for_testing = data.copy() #чтобы не трогать изначальный датасет создаётся черновой"
   ]
  },
  {
   "cell_type": "code",
   "execution_count": 27,
   "metadata": {},
   "outputs": [],
   "source": [
    "# ос может зависеть от проф деятельности, от достатка и от возраста\n",
    "\n",
    "data_for_testing['salary_group'] = pd.cut(data_for_testing['salary']\\\n",
    "    , bins=[data_for_testing.salary.min(), 15000, 30000, data_for_testing.salary.max()], include_lowest=True, labels=['1', '2', '3'])\\\n",
    "        .astype(object)\n",
    "\n",
    "data_for_testing['age_group'] = pd.cut(data_for_testing['age']\\\n",
    "    , bins=[data_for_testing.age.min(), 35, 60, data_for_testing.age.max()], include_lowest=True, labels=['1', '2', '3'])\\\n",
    "        .astype(object)"
   ]
  },
  {
   "cell_type": "code",
   "execution_count": 28,
   "metadata": {},
   "outputs": [
    {
     "data": {
      "text/plain": [
       "<AxesSubplot:xlabel='salary_group', ylabel='count'>"
      ]
     },
     "execution_count": 28,
     "metadata": {},
     "output_type": "execute_result"
    },
    {
     "data": {
      "image/png": "[encoded data removed]",
      "text/plain": [
       "<Figure size 432x288 with 1 Axes>"
      ]
     },
     "metadata": {
      "needs_background": "light"
     },
     "output_type": "display_data"
    }
   ],
   "source": [
    "plt.figure(figsize=(6, 4))\n",
    "sns.countplot(x=data_for_testing['salary_group'], hue=data['os'])"
   ]
  },
  {
   "cell_type": "code",
   "execution_count": 29,
   "metadata": {},
   "outputs": [
    {
     "data": {
      "text/plain": [
       "<AxesSubplot:xlabel='age_group', ylabel='count'>"
      ]
     },
     "execution_count": 29,
     "metadata": {},
     "output_type": "execute_result"
    },
    {
     "data": {
      "image/png": "[encoded data removed]",
      "text/plain": [
       "<Figure size 432x288 with 1 Axes>"
      ]
     },
     "metadata": {
      "needs_background": "light"
     },
     "output_type": "display_data"
    }
   ],
   "source": [
    "plt.figure(figsize=(6, 4))\n",
    "sns.countplot(x=data_for_testing['age_group'], hue=data['os'])"
   ]
  },
  {
   "cell_type": "code",
   "execution_count": 30,
   "metadata": {},
   "outputs": [],
   "source": [
    "# ==>распредление по групам и визуальный осмотр статистики не дал особых результатов, \n",
    "# самое адекватное это воспользоваться логикой исходя из графика зависимости device_quaility_index"
   ]
  },
  {
   "cell_type": "code",
   "execution_count": 31,
   "metadata": {},
   "outputs": [],
   "source": [
    "# замени пустые значения на 999, чтобы с ними было проще работать\n",
    "data.os = data.os.fillna(999)"
   ]
  },
  {
   "cell_type": "code",
   "execution_count": 32,
   "metadata": {},
   "outputs": [],
   "source": [
    "#заменим значения с индексом 4 на ios, всем остальным пропускам поставим Android\n",
    "data['os'].mask((data['os']==999) & (data['device_quaility_index']==4) , 'iOS', inplace=True)\n",
    "data['os'].mask(data['os']==999, 'Android', inplace=True)"
   ]
  },
  {
   "cell_type": "code",
   "execution_count": 33,
   "metadata": {},
   "outputs": [
    {
     "data": {
      "text/plain": [
       "Android      11513\n",
       "iOS           2949\n",
       "Windows        845\n",
       "macOS           40\n",
       "Linux            7\n",
       "Chrome OS        5\n",
       "OS X             4\n",
       "Name: os, dtype: int64"
      ]
     },
     "execution_count": 33,
     "metadata": {},
     "output_type": "execute_result"
    }
   ],
   "source": [
    "data.os.value_counts()"
   ]
  },
  {
   "cell_type": "markdown",
   "metadata": {},
   "source": [
    "### Заполнение пропусков в признаке email_index             "
   ]
  },
  {
   "cell_type": "code",
   "execution_count": 34,
   "metadata": {},
   "outputs": [
    {
     "name": "stdout",
     "output_type": "stream",
     "text": [
      "<class 'pandas.core.frame.DataFrame'>\n",
      "RangeIndex: 15363 entries, 0 to 15362\n",
      "Data columns (total 13 columns):\n",
      " #   Column                  Non-Null Count  Dtype  \n",
      "---  ------                  --------------  -----  \n",
      " 0   fpd5_flg                15363 non-null  int64  \n",
      " 1   dt                      15363 non-null  object \n",
      " 2   gender                  15363 non-null  int64  \n",
      " 3   device_quaility_index   14798 non-null  float64\n",
      " 4   behavioral_index        14798 non-null  float64\n",
      " 5   type_of_document        15363 non-null  object \n",
      " 6   age                     15363 non-null  int64  \n",
      " 7   email_domain_formatted  15363 non-null  object \n",
      " 8   social_status           15363 non-null  object \n",
      " 9   salary                  15363 non-null  float64\n",
      " 10  disbursment_type        15363 non-null  object \n",
      " 11  os                      15363 non-null  object \n",
      " 12  email_index             15330 non-null  float64\n",
      "dtypes: float64(4), int64(3), object(6)\n",
      "memory usage: 1.5+ MB\n"
     ]
    }
   ],
   "source": [
    "data.info()"
   ]
  },
  {
   "cell_type": "code",
   "execution_count": 35,
   "metadata": {},
   "outputs": [
    {
     "data": {
      "text/plain": [
       "1.0     8926\n",
       "0.0     4253\n",
       "8.0     1329\n",
       "6.0      273\n",
       "4.0      232\n",
       "10.0     176\n",
       "2.0      129\n",
       "3.0        7\n",
       "12.0       4\n",
       "11.0       1\n",
       "Name: email_index, dtype: int64"
      ]
     },
     "execution_count": 35,
     "metadata": {},
     "output_type": "execute_result"
    }
   ],
   "source": [
    "data.email_index.value_counts()"
   ]
  },
  {
   "cell_type": "code",
   "execution_count": 36,
   "metadata": {},
   "outputs": [
    {
     "data": {
      "text/plain": [
       "33"
      ]
     },
     "execution_count": 36,
     "metadata": {},
     "output_type": "execute_result"
    }
   ],
   "source": [
    "#кол-во пропусков\n",
    "data.shape[0]-15330 "
   ]
  },
  {
   "cell_type": "code",
   "execution_count": 37,
   "metadata": {},
   "outputs": [],
   "source": [
    "#скорее всего данный признак связан с email_domain_formatted  "
   ]
  },
  {
   "cell_type": "code",
   "execution_count": 38,
   "metadata": {},
   "outputs": [
    {
     "data": {
      "text/plain": [
       "['GMAIL.COM',\n",
       " 'YAHOO.COM',\n",
       " 'YAHOO.COM.PH',\n",
       " 'DEPED.GOV.PH',\n",
       " 'ICLOUD.COM',\n",
       " 'YMAIL.COM',\n",
       " 'ROCKETMAIL.COM',\n",
       " 'HOTMAIL.COM',\n",
       " 'OUTLOOK.COM',\n",
       " 'EMAIL.COM']"
      ]
     },
     "execution_count": 38,
     "metadata": {},
     "output_type": "execute_result"
    }
   ],
   "source": [
    "#список самых популярных доменов\n",
    "top_ten = list(data.email_domain_formatted.value_counts().head(10).reset_index()['index'].values)\n",
    "top_ten"
   ]
  },
  {
   "cell_type": "code",
   "execution_count": 39,
   "metadata": {},
   "outputs": [
    {
     "data": {
      "text/plain": [
       "(15260, 13)"
      ]
     },
     "execution_count": 39,
     "metadata": {},
     "output_type": "execute_result"
    }
   ],
   "source": [
    "#таблица только с популярными доменами составила 99% всей таблицы \n",
    "top_domain_data = data.query('email_domain_formatted == %s'%top_ten)\n",
    "top_domain_data.shape"
   ]
  },
  {
   "cell_type": "code",
   "execution_count": 40,
   "metadata": {},
   "outputs": [
    {
     "data": {
      "image/png": "[encoded data removed]",
      "text/plain": [
       "<Figure size 864x720 with 1 Axes>"
      ]
     },
     "metadata": {
      "needs_background": "light"
     },
     "output_type": "display_data"
    }
   ],
   "source": [
    "plt.figure(figsize=(12, 10))\n",
    "sns.countplot(x=top_domain_data['email_domain_formatted'], hue=top_domain_data['email_index'])\n",
    "plt.xticks(rotation=95);"
   ]
  },
  {
   "cell_type": "code",
   "execution_count": 41,
   "metadata": {},
   "outputs": [
    {
     "data": {
      "image/png": "[encoded data removed]",
      "text/plain": [
       "<Figure size 864x720 with 1 Axes>"
      ]
     },
     "metadata": {
      "needs_background": "light"
     },
     "output_type": "display_data"
    }
   ],
   "source": [
    "#Проверим как распределяется формат домена исходя из социального статуса\n",
    "plt.figure(figsize=(12, 10))\n",
    "sns.countplot(x=top_domain_data['social_status'], hue=top_domain_data['email_domain_formatted'])\n",
    "plt.xticks(rotation=95);"
   ]
  },
  {
   "cell_type": "code",
   "execution_count": 42,
   "metadata": {},
   "outputs": [
    {
     "data": {
      "text/html": [
       "<div>\n",
       "<style scoped>\n",
       "    .dataframe tbody tr th:only-of-type {\n",
       "        vertical-align: middle;\n",
       "    }\n",
       "\n",
       "    .dataframe tbody tr th {\n",
       "        vertical-align: top;\n",
       "    }\n",
       "\n",
       "    .dataframe thead th {\n",
       "        text-align: right;\n",
       "    }\n",
       "</style>\n",
       "<table border=\"1\" class=\"dataframe\">\n",
       "  <thead>\n",
       "    <tr style=\"text-align: right;\">\n",
       "      <th></th>\n",
       "      <th>email_domain_formatted</th>\n",
       "      <th>email_index</th>\n",
       "    </tr>\n",
       "  </thead>\n",
       "  <tbody>\n",
       "    <tr>\n",
       "      <th>0</th>\n",
       "      <td>DEPED.GOV.PH</td>\n",
       "      <td>2.0</td>\n",
       "    </tr>\n",
       "    <tr>\n",
       "      <th>1</th>\n",
       "      <td>EMAIL.COM</td>\n",
       "      <td>4.0</td>\n",
       "    </tr>\n",
       "    <tr>\n",
       "      <th>2</th>\n",
       "      <td>GMAIL.COM</td>\n",
       "      <td>1.0</td>\n",
       "    </tr>\n",
       "    <tr>\n",
       "      <th>3</th>\n",
       "      <td>HOTMAIL.COM</td>\n",
       "      <td>0.0</td>\n",
       "    </tr>\n",
       "    <tr>\n",
       "      <th>4</th>\n",
       "      <td>ICLOUD.COM</td>\n",
       "      <td>1.0</td>\n",
       "    </tr>\n",
       "    <tr>\n",
       "      <th>5</th>\n",
       "      <td>OUTLOOK.COM</td>\n",
       "      <td>1.0</td>\n",
       "    </tr>\n",
       "    <tr>\n",
       "      <th>6</th>\n",
       "      <td>ROCKETMAIL.COM</td>\n",
       "      <td>0.0</td>\n",
       "    </tr>\n",
       "    <tr>\n",
       "      <th>7</th>\n",
       "      <td>YAHOO.COM</td>\n",
       "      <td>0.0</td>\n",
       "    </tr>\n",
       "    <tr>\n",
       "      <th>8</th>\n",
       "      <td>YAHOO.COM.PH</td>\n",
       "      <td>1.0</td>\n",
       "    </tr>\n",
       "    <tr>\n",
       "      <th>9</th>\n",
       "      <td>YMAIL.COM</td>\n",
       "      <td>0.0</td>\n",
       "    </tr>\n",
       "  </tbody>\n",
       "</table>\n",
       "</div>"
      ],
      "text/plain": [
       "  email_domain_formatted  email_index\n",
       "0           DEPED.GOV.PH          2.0\n",
       "1              EMAIL.COM          4.0\n",
       "2              GMAIL.COM          1.0\n",
       "3            HOTMAIL.COM          0.0\n",
       "4             ICLOUD.COM          1.0\n",
       "5            OUTLOOK.COM          1.0\n",
       "6         ROCKETMAIL.COM          0.0\n",
       "7              YAHOO.COM          0.0\n",
       "8           YAHOO.COM.PH          1.0\n",
       "9              YMAIL.COM          0.0"
      ]
     },
     "execution_count": 42,
     "metadata": {},
     "output_type": "execute_result"
    }
   ],
   "source": [
    "#Выделим самые популярные индексы в каждом из топ10 самых популярных доменов и получим самые частые значениям 0 и 1\n",
    "top_dom_table = top_domain_data.groupby('email_domain_formatted').email_index.apply(lambda x: x.mode()).reset_index().drop('level_1', axis=1)\n",
    "top_dom_table"
   ]
  },
  {
   "cell_type": "code",
   "execution_count": 43,
   "metadata": {},
   "outputs": [],
   "source": [
    "#принято решение по замене значений пропусков там где домен gmail присвоить 1, остальным 0, \n",
    "# учитывая что пропусков всего 33, значимость ошибки будет крайне мала"
   ]
  },
  {
   "cell_type": "code",
   "execution_count": 44,
   "metadata": {},
   "outputs": [],
   "source": [
    "data['email_index'] = data['email_index'].fillna(999)\n",
    "data['email_index'] = data['email_index'].fillna(lambda x: 1 if data.email_domain_formatted==\"GMAIL.COM\" else 0)\n",
    "# data['email_index2'] = data.email_index"
   ]
  },
  {
   "cell_type": "code",
   "execution_count": 45,
   "metadata": {},
   "outputs": [],
   "source": [
    "data['email_index'].mask((data['email_index']==999) & (data['email_domain_formatted']=='GMAIL.COM') , 1, inplace=True)\n",
    "data['email_index'].mask(data['email_index']==999, 0, inplace=True)"
   ]
  },
  {
   "cell_type": "markdown",
   "metadata": {},
   "source": [
    "### Заполнение пропусков в признаке behavioral_index"
   ]
  },
  {
   "cell_type": "code",
   "execution_count": 46,
   "metadata": {},
   "outputs": [
    {
     "data": {
      "text/plain": [
       "565"
      ]
     },
     "execution_count": 46,
     "metadata": {},
     "output_type": "execute_result"
    }
   ],
   "source": [
    "data.shape[0] - 14798 "
   ]
  },
  {
   "cell_type": "code",
   "execution_count": 47,
   "metadata": {},
   "outputs": [
    {
     "name": "stdout",
     "output_type": "stream",
     "text": [
      "True\n"
     ]
    }
   ],
   "source": [
    "#убедимся, что в признаках device_quaility_index и behavioral_index отсутствия данных парные, то есть индексы отсутствующих данных равны\n",
    "a = data.shape[0] - 14798 # кол-во отсутствующих \n",
    "NanVal_in_qualind_behind = data[['device_quaility_index', 'behavioral_index']].fillna(777)\\\n",
    "    .query('device_quaility_index==777 and behavioral_index==777')\n",
    "if NanVal_in_qualind_behind.shape[0] == a:\n",
    "    print('True')"
   ]
  },
  {
   "cell_type": "code",
   "execution_count": 48,
   "metadata": {},
   "outputs": [
    {
     "data": {
      "text/plain": [
       "<AxesSubplot:>"
      ]
     },
     "execution_count": 48,
     "metadata": {},
     "output_type": "execute_result"
    },
    {
     "data": {
      "image/png": "[encoded data removed]",
      "text/plain": [
       "<Figure size 432x288 with 2 Axes>"
      ]
     },
     "metadata": {
      "needs_background": "light"
     },
     "output_type": "display_data"
    }
   ],
   "source": [
    "#посмотрим на линейные корреляции количественных перменных, дабы оценить степень взаимосвязи данных и оценить возможно ли использовать \n",
    "# корреляцию для решения проблемы пустых значениц двух оставшихся признаков\n",
    "sns.heatmap(data.corr(), annot=True)"
   ]
  },
  {
   "cell_type": "code",
   "execution_count": 49,
   "metadata": {},
   "outputs": [],
   "source": [
    "# ==> связей нет"
   ]
  },
  {
   "cell_type": "code",
   "execution_count": 50,
   "metadata": {},
   "outputs": [],
   "source": [
    "#Что может влиять на поведенческий индекс? Это социальный статус, тип документа предоставленного, возраст"
   ]
  },
  {
   "cell_type": "code",
   "execution_count": 51,
   "metadata": {},
   "outputs": [
    {
     "data": {
      "image/png": "[encoded data removed]",
      "text/plain": [
       "<Figure size 1440x432 with 1 Axes>"
      ]
     },
     "metadata": {
      "needs_background": "light"
     },
     "output_type": "display_data"
    }
   ],
   "source": [
    "# ==> у большинства людей всех соц статусов поведенческий индекс 3, 4, 5\n",
    "plt.figure(figsize=(20, 6))\n",
    "sns.countplot(x=data_for_testing['social_status'], hue=data_for_testing['behavioral_index'])\n",
    "plt.xticks(rotation=65);"
   ]
  },
  {
   "cell_type": "code",
   "execution_count": 52,
   "metadata": {},
   "outputs": [
    {
     "data": {
      "text/plain": [
       "UMID                 5419\n",
       "Driver license ID    3073\n",
       "TIN                  3057\n",
       "Passport             1867\n",
       "SSS                  1498\n",
       "PRC                   449\n",
       "Name: type_of_document, dtype: int64"
      ]
     },
     "execution_count": 52,
     "metadata": {},
     "output_type": "execute_result"
    }
   ],
   "source": [
    "data_for_testing.type_of_document.value_counts()"
   ]
  },
  {
   "cell_type": "code",
   "execution_count": 53,
   "metadata": {},
   "outputs": [
    {
     "data": {
      "text/plain": [
       "<AxesSubplot:xlabel='type_of_document', ylabel='count'>"
      ]
     },
     "execution_count": 53,
     "metadata": {},
     "output_type": "execute_result"
    },
    {
     "data": {
      "image/png": "[encoded data removed]",
      "text/plain": [
       "<Figure size 864x288 with 1 Axes>"
      ]
     },
     "metadata": {
      "needs_background": "light"
     },
     "output_type": "display_data"
    }
   ],
   "source": [
    "# The Unified Multi-Purpose ID (UMID) is a Philippine identity card which was introduced in 2010. \n",
    "# The card was developed as a single card for the relations between several government-related agencies.\n",
    "\n",
    "# A Taxpayer Identification Number (TIN) is an identification number used by the Internal Revenue Service (IRS) \n",
    "# in the administration of tax laws. ... A Social Security number (SSN) is issued by the SSA whereas all other TINs are issued by the IRS\n",
    "\n",
    "# Republic of the Philippines Social Security System\n",
    "\n",
    "# The Professional Regulation Commission (PRC), the agency mandated to implement the regulatory laws and \n",
    "# policies for the various regulated professions\n",
    "\n",
    "#в каждом типе документов также лидируют эти 3 индекса поведения \n",
    "plt.figure(figsize=(12, 4))\n",
    "sns.countplot(x=data_for_testing['type_of_document'], hue=data_for_testing['behavioral_index'])"
   ]
  },
  {
   "cell_type": "code",
   "execution_count": 54,
   "metadata": {},
   "outputs": [
    {
     "data": {
      "text/plain": [
       "<AxesSubplot:xlabel='salary_group', ylabel='count'>"
      ]
     },
     "execution_count": 54,
     "metadata": {},
     "output_type": "execute_result"
    },
    {
     "data": {
      "image/png": "[encoded data removed]",
      "text/plain": [
       "<Figure size 864x288 with 1 Axes>"
      ]
     },
     "metadata": {
      "needs_background": "light"
     },
     "output_type": "display_data"
    }
   ],
   "source": [
    "#среди груп разделенных по доходам также лидируют данные индексы \n",
    "plt.figure(figsize=(12, 4))\n",
    "sns.countplot(x=data_for_testing['salary_group'], hue=data_for_testing['behavioral_index'])"
   ]
  },
  {
   "cell_type": "code",
   "execution_count": 55,
   "metadata": {},
   "outputs": [
    {
     "data": {
      "text/plain": [
       "<AxesSubplot:xlabel='age_group', ylabel='count'>"
      ]
     },
     "execution_count": 55,
     "metadata": {},
     "output_type": "execute_result"
    },
    {
     "data": {
      "image/png": "[encoded data removed]",
      "text/plain": [
       "<Figure size 864x288 with 1 Axes>"
      ]
     },
     "metadata": {
      "needs_background": "light"
     },
     "output_type": "display_data"
    }
   ],
   "source": [
    "#Среди возрастных групп статистика повторяется \n",
    "plt.figure(figsize=(12, 4))\n",
    "sns.countplot(x=data_for_testing['age_group'], hue=data_for_testing['behavioral_index'])"
   ]
  },
  {
   "cell_type": "code",
   "execution_count": 56,
   "metadata": {},
   "outputs": [
    {
     "name": "stdout",
     "output_type": "stream",
     "text": [
      "<class 'pandas.core.frame.DataFrame'>\n",
      "RangeIndex: 15363 entries, 0 to 15362\n",
      "Data columns (total 15 columns):\n",
      " #   Column                  Non-Null Count  Dtype  \n",
      "---  ------                  --------------  -----  \n",
      " 0   fpd5_flg                15363 non-null  int64  \n",
      " 1   dt                      15363 non-null  object \n",
      " 2   gender                  15363 non-null  int64  \n",
      " 3   device_quaility_index   14798 non-null  float64\n",
      " 4   behavioral_index        14798 non-null  float64\n",
      " 5   type_of_document        15363 non-null  object \n",
      " 6   age                     15363 non-null  int64  \n",
      " 7   email_domain_formatted  15363 non-null  object \n",
      " 8   social_status           15363 non-null  object \n",
      " 9   salary                  15363 non-null  float64\n",
      " 10  disbursment_type        15363 non-null  object \n",
      " 11  os                      15347 non-null  object \n",
      " 12  email_index             15330 non-null  float64\n",
      " 13  salary_group            15363 non-null  object \n",
      " 14  age_group               15363 non-null  object \n",
      "dtypes: float64(4), int64(3), object(8)\n",
      "memory usage: 1.8+ MB\n"
     ]
    }
   ],
   "source": [
    "data_for_testing.info()"
   ]
  },
  {
   "cell_type": "code",
   "execution_count": 57,
   "metadata": {},
   "outputs": [
    {
     "data": {
      "text/plain": [
       "3.0    27\n",
       "4.0    27\n",
       "5.0    19\n",
       "Name: behavioral_index, dtype: int64"
      ]
     },
     "execution_count": 57,
     "metadata": {},
     "output_type": "execute_result"
    }
   ],
   "source": [
    "#соединими три признака чтобы попытаться получить индексное разнообразие \n",
    "data_for_testing['behav_feat'] = data_for_testing['fpd5_flg'].astype(str) + data_for_testing['social_status']  + data_for_testing['salary_group']\n",
    "bev_tab = pd.DataFrame(data_for_testing.groupby('behav_feat').behavioral_index.apply(lambda x: x.mode())).reset_index()\n",
    "# bev_tab.behav_feat = bev_tab.behav_feat.apply(lambda x: x[:-2])\n",
    "bev_tab = bev_tab.drop('level_1', axis=1)\n",
    "bev_tab.behavioral_index.value_counts() \n",
    "# ==> даже так остаются только индексы 3, 4, 5"
   ]
  },
  {
   "cell_type": "code",
   "execution_count": 58,
   "metadata": {},
   "outputs": [
    {
     "data": {
      "text/html": [
       "<div>\n",
       "<style scoped>\n",
       "    .dataframe tbody tr th:only-of-type {\n",
       "        vertical-align: middle;\n",
       "    }\n",
       "\n",
       "    .dataframe tbody tr th {\n",
       "        vertical-align: top;\n",
       "    }\n",
       "\n",
       "    .dataframe thead th {\n",
       "        text-align: right;\n",
       "    }\n",
       "</style>\n",
       "<table border=\"1\" class=\"dataframe\">\n",
       "  <thead>\n",
       "    <tr style=\"text-align: right;\">\n",
       "      <th></th>\n",
       "      <th>social_status</th>\n",
       "      <th>behavioral_index</th>\n",
       "    </tr>\n",
       "  </thead>\n",
       "  <tbody>\n",
       "    <tr>\n",
       "      <th>0</th>\n",
       "      <td>BPO Professionals</td>\n",
       "      <td>3.0</td>\n",
       "    </tr>\n",
       "    <tr>\n",
       "      <th>1</th>\n",
       "      <td>Business Owner</td>\n",
       "      <td>4.0</td>\n",
       "    </tr>\n",
       "    <tr>\n",
       "      <th>2</th>\n",
       "      <td>Financial Services</td>\n",
       "      <td>4.0</td>\n",
       "    </tr>\n",
       "    <tr>\n",
       "      <th>3</th>\n",
       "      <td>Freelance</td>\n",
       "      <td>3.0</td>\n",
       "    </tr>\n",
       "    <tr>\n",
       "      <th>4</th>\n",
       "      <td>Government Employee</td>\n",
       "      <td>3.0</td>\n",
       "    </tr>\n",
       "    <tr>\n",
       "      <th>5</th>\n",
       "      <td>Other</td>\n",
       "      <td>4.0</td>\n",
       "    </tr>\n",
       "    <tr>\n",
       "      <th>6</th>\n",
       "      <td>Private Company Employee</td>\n",
       "      <td>4.0</td>\n",
       "    </tr>\n",
       "    <tr>\n",
       "      <th>7</th>\n",
       "      <td>Professional Worker (Doctors, Engineers, Accou...</td>\n",
       "      <td>3.0</td>\n",
       "    </tr>\n",
       "    <tr>\n",
       "      <th>8</th>\n",
       "      <td>Retail Worker</td>\n",
       "      <td>4.0</td>\n",
       "    </tr>\n",
       "    <tr>\n",
       "      <th>9</th>\n",
       "      <td>Retired</td>\n",
       "      <td>5.0</td>\n",
       "    </tr>\n",
       "    <tr>\n",
       "      <th>10</th>\n",
       "      <td>Self-Employed</td>\n",
       "      <td>4.0</td>\n",
       "    </tr>\n",
       "    <tr>\n",
       "      <th>11</th>\n",
       "      <td>Unemployed</td>\n",
       "      <td>3.0</td>\n",
       "    </tr>\n",
       "  </tbody>\n",
       "</table>\n",
       "</div>"
      ],
      "text/plain": [
       "                                        social_status  behavioral_index\n",
       "0                                   BPO Professionals               3.0\n",
       "1                                      Business Owner               4.0\n",
       "2                                  Financial Services               4.0\n",
       "3                                           Freelance               3.0\n",
       "4                                 Government Employee               3.0\n",
       "5                                               Other               4.0\n",
       "6                            Private Company Employee               4.0\n",
       "7   Professional Worker (Doctors, Engineers, Accou...               3.0\n",
       "8                                       Retail Worker               4.0\n",
       "9                                             Retired               5.0\n",
       "10                                      Self-Employed               4.0\n",
       "11                                         Unemployed               3.0"
      ]
     },
     "execution_count": 58,
     "metadata": {},
     "output_type": "execute_result"
    }
   ],
   "source": [
    "# будем применять маску к данным полученным из взаимосвязи с социальным статусом\n",
    "behavind_per_socstat = pd.DataFrame(data.groupby('social_status').behavioral_index.apply(lambda x: x.mode())).reset_index().drop('level_1', axis=1)\n",
    "behavind_per_socstat\n",
    "#самые популярные поведенческие индексы в соц статусе:"
   ]
  },
  {
   "cell_type": "code",
   "execution_count": 59,
   "metadata": {},
   "outputs": [],
   "source": [
    "data['behavioral_index'] = data['behavioral_index'].fillna(999)\n",
    "\n",
    "#пустые значения заменяются на самые популярные в каждой соц группе\n",
    "\n",
    "index_list = list(behavind_per_socstat.behavioral_index.unique()) \n",
    "\n",
    "for beh_index in index_list:\n",
    "    val_list = list(behavind_per_socstat.query('behavioral_index == %s'%beh_index).social_status)\n",
    "    for val in val_list:\n",
    "        data['behavioral_index'].mask((data['behavioral_index']==999) & (data['social_status']== (val)), beh_index, inplace=True)"
   ]
  },
  {
   "cell_type": "code",
   "execution_count": 60,
   "metadata": {},
   "outputs": [
    {
     "data": {
      "text/html": [
       "<div>\n",
       "<style scoped>\n",
       "    .dataframe tbody tr th:only-of-type {\n",
       "        vertical-align: middle;\n",
       "    }\n",
       "\n",
       "    .dataframe tbody tr th {\n",
       "        vertical-align: top;\n",
       "    }\n",
       "\n",
       "    .dataframe thead th {\n",
       "        text-align: right;\n",
       "    }\n",
       "</style>\n",
       "<table border=\"1\" class=\"dataframe\">\n",
       "  <thead>\n",
       "    <tr style=\"text-align: right;\">\n",
       "      <th></th>\n",
       "      <th>fpd5_flg</th>\n",
       "      <th>dt</th>\n",
       "      <th>gender</th>\n",
       "      <th>device_quaility_index</th>\n",
       "      <th>behavioral_index</th>\n",
       "      <th>type_of_document</th>\n",
       "      <th>age</th>\n",
       "      <th>email_domain_formatted</th>\n",
       "      <th>social_status</th>\n",
       "      <th>salary</th>\n",
       "      <th>disbursment_type</th>\n",
       "      <th>os</th>\n",
       "      <th>email_index</th>\n",
       "    </tr>\n",
       "  </thead>\n",
       "  <tbody>\n",
       "  </tbody>\n",
       "</table>\n",
       "</div>"
      ],
      "text/plain": [
       "Empty DataFrame\n",
       "Columns: [fpd5_flg, dt, gender, device_quaility_index, behavioral_index, type_of_document, age, email_domain_formatted, social_status, salary, disbursment_type, os, email_index]\n",
       "Index: []"
      ]
     },
     "execution_count": 60,
     "metadata": {},
     "output_type": "execute_result"
    }
   ],
   "source": [
    "data.query('behavioral_index == 999')"
   ]
  },
  {
   "cell_type": "markdown",
   "metadata": {},
   "source": [
    "### Заполнение пропусков в признаке device_quaility_index"
   ]
  },
  {
   "cell_type": "code",
   "execution_count": 61,
   "metadata": {},
   "outputs": [
    {
     "data": {
      "text/plain": [
       "565"
      ]
     },
     "execution_count": 61,
     "metadata": {},
     "output_type": "execute_result"
    }
   ],
   "source": [
    "data.shape[0] - 14798 "
   ]
  },
  {
   "cell_type": "code",
   "execution_count": 62,
   "metadata": {},
   "outputs": [
    {
     "name": "stdout",
     "output_type": "stream",
     "text": [
      "<class 'pandas.core.frame.DataFrame'>\n",
      "RangeIndex: 15363 entries, 0 to 15362\n",
      "Data columns (total 13 columns):\n",
      " #   Column                  Non-Null Count  Dtype  \n",
      "---  ------                  --------------  -----  \n",
      " 0   fpd5_flg                15363 non-null  int64  \n",
      " 1   dt                      15363 non-null  object \n",
      " 2   gender                  15363 non-null  int64  \n",
      " 3   device_quaility_index   14798 non-null  float64\n",
      " 4   behavioral_index        15363 non-null  float64\n",
      " 5   type_of_document        15363 non-null  object \n",
      " 6   age                     15363 non-null  int64  \n",
      " 7   email_domain_formatted  15363 non-null  object \n",
      " 8   social_status           15363 non-null  object \n",
      " 9   salary                  15363 non-null  float64\n",
      " 10  disbursment_type        15363 non-null  object \n",
      " 11  os                      15363 non-null  object \n",
      " 12  email_index             15363 non-null  float64\n",
      "dtypes: float64(4), int64(3), object(6)\n",
      "memory usage: 1.5+ MB\n"
     ]
    }
   ],
   "source": [
    "data.info()"
   ]
  },
  {
   "cell_type": "code",
   "execution_count": 63,
   "metadata": {},
   "outputs": [],
   "source": [
    "#индекс качества девайса может зависеть от os которое установлено в устройстве, косвенно от зарплаты и возраста"
   ]
  },
  {
   "cell_type": "code",
   "execution_count": 64,
   "metadata": {},
   "outputs": [
    {
     "data": {
      "text/plain": [
       "<matplotlib.legend.Legend at 0x1a081d49f70>"
      ]
     },
     "execution_count": 64,
     "metadata": {},
     "output_type": "execute_result"
    },
    {
     "data": {
      "image/png": "[encoded data removed]",
      "text/plain": [
       "<Figure size 864x288 with 1 Axes>"
      ]
     },
     "metadata": {
      "needs_background": "light"
     },
     "output_type": "display_data"
    }
   ],
   "source": [
    "#зависимость индекса девайса от ос\n",
    "plt.figure(figsize=(12, 4))\n",
    "sns.countplot(x=data_for_testing['os'], hue=data_for_testing['device_quaility_index'])\n",
    "plt.legend(loc='upper right')"
   ]
  },
  {
   "cell_type": "code",
   "execution_count": 65,
   "metadata": {},
   "outputs": [
    {
     "data": {
      "text/plain": [
       "<matplotlib.legend.Legend at 0x1a081d2a850>"
      ]
     },
     "execution_count": 65,
     "metadata": {},
     "output_type": "execute_result"
    },
    {
     "data": {
      "image/png": "[encoded data removed]",
      "text/plain": [
       "<Figure size 864x288 with 1 Axes>"
      ]
     },
     "metadata": {
      "needs_background": "light"
     },
     "output_type": "display_data"
    }
   ],
   "source": [
    "#зависимость индекса девайся от зарплатной группы\n",
    "plt.figure(figsize=(12, 4))\n",
    "sns.countplot(x=data_for_testing['salary_group'], hue=data_for_testing['device_quaility_index'])\n",
    "plt.legend(loc='upper right')"
   ]
  },
  {
   "cell_type": "code",
   "execution_count": 66,
   "metadata": {},
   "outputs": [
    {
     "data": {
      "text/plain": [
       "<AxesSubplot:xlabel='age_group', ylabel='count'>"
      ]
     },
     "execution_count": 66,
     "metadata": {},
     "output_type": "execute_result"
    },
    {
     "data": {
      "image/png": "[encoded data removed]",
      "text/plain": [
       "<Figure size 864x288 with 1 Axes>"
      ]
     },
     "metadata": {
      "needs_background": "light"
     },
     "output_type": "display_data"
    }
   ],
   "source": [
    "#зависимость индекса девайся от возрастной группы\n",
    "plt.figure(figsize=(12, 4))\n",
    "sns.countplot(x=data_for_testing['age_group'], hue=data_for_testing['device_quaility_index'])"
   ]
  },
  {
   "cell_type": "code",
   "execution_count": 67,
   "metadata": {},
   "outputs": [],
   "source": [
    "#добавим в основной датасет признаки salary_group и age_group \n",
    "data['salary_group'] = pd.cut(data['salary']\\\n",
    "    , bins=[data.salary.min(), 15000, 30000, data.salary.max()], include_lowest=True, labels=['1', '2', '3'])\\\n",
    "        .astype(object)\n",
    "\n",
    "data['age_group'] = pd.cut(data['age']\\\n",
    "    , bins=[data.age.min(), 35, 60, data.age.max()], include_lowest=True, labels=['1', '2', '3'])\\\n",
    "        .astype(object)"
   ]
  },
  {
   "cell_type": "code",
   "execution_count": 68,
   "metadata": {},
   "outputs": [
    {
     "data": {
      "text/html": [
       "<div>\n",
       "<style scoped>\n",
       "    .dataframe tbody tr th:only-of-type {\n",
       "        vertical-align: middle;\n",
       "    }\n",
       "\n",
       "    .dataframe tbody tr th {\n",
       "        vertical-align: top;\n",
       "    }\n",
       "\n",
       "    .dataframe thead th {\n",
       "        text-align: right;\n",
       "    }\n",
       "</style>\n",
       "<table border=\"1\" class=\"dataframe\">\n",
       "  <thead>\n",
       "    <tr style=\"text-align: right;\">\n",
       "      <th></th>\n",
       "      <th>def_fit</th>\n",
       "      <th>device_quaility_index</th>\n",
       "    </tr>\n",
       "  </thead>\n",
       "  <tbody>\n",
       "    <tr>\n",
       "      <th>0</th>\n",
       "      <td>11Android</td>\n",
       "      <td>3.0</td>\n",
       "    </tr>\n",
       "    <tr>\n",
       "      <th>1</th>\n",
       "      <td>11Windows</td>\n",
       "      <td>3.0</td>\n",
       "    </tr>\n",
       "    <tr>\n",
       "      <th>2</th>\n",
       "      <td>11iOS</td>\n",
       "      <td>3.0</td>\n",
       "    </tr>\n",
       "    <tr>\n",
       "      <th>3</th>\n",
       "      <td>11macOS</td>\n",
       "      <td>3.0</td>\n",
       "    </tr>\n",
       "    <tr>\n",
       "      <th>4</th>\n",
       "      <td>12Android</td>\n",
       "      <td>3.0</td>\n",
       "    </tr>\n",
       "    <tr>\n",
       "      <th>5</th>\n",
       "      <td>12Chrome OS</td>\n",
       "      <td>3.0</td>\n",
       "    </tr>\n",
       "    <tr>\n",
       "      <th>6</th>\n",
       "      <td>12Linux</td>\n",
       "      <td>3.0</td>\n",
       "    </tr>\n",
       "    <tr>\n",
       "      <th>7</th>\n",
       "      <td>12OS X</td>\n",
       "      <td>4.0</td>\n",
       "    </tr>\n",
       "    <tr>\n",
       "      <th>8</th>\n",
       "      <td>12Windows</td>\n",
       "      <td>3.0</td>\n",
       "    </tr>\n",
       "    <tr>\n",
       "      <th>9</th>\n",
       "      <td>12iOS</td>\n",
       "      <td>3.0</td>\n",
       "    </tr>\n",
       "    <tr>\n",
       "      <th>10</th>\n",
       "      <td>12macOS</td>\n",
       "      <td>3.0</td>\n",
       "    </tr>\n",
       "    <tr>\n",
       "      <th>11</th>\n",
       "      <td>13Android</td>\n",
       "      <td>3.0</td>\n",
       "    </tr>\n",
       "    <tr>\n",
       "      <th>12</th>\n",
       "      <td>13OS X</td>\n",
       "      <td>3.0</td>\n",
       "    </tr>\n",
       "    <tr>\n",
       "      <th>13</th>\n",
       "      <td>13OS X</td>\n",
       "      <td>4.0</td>\n",
       "    </tr>\n",
       "    <tr>\n",
       "      <th>14</th>\n",
       "      <td>13Windows</td>\n",
       "      <td>3.0</td>\n",
       "    </tr>\n",
       "    <tr>\n",
       "      <th>15</th>\n",
       "      <td>13iOS</td>\n",
       "      <td>4.0</td>\n",
       "    </tr>\n",
       "    <tr>\n",
       "      <th>16</th>\n",
       "      <td>13macOS</td>\n",
       "      <td>3.0</td>\n",
       "    </tr>\n",
       "    <tr>\n",
       "      <th>17</th>\n",
       "      <td>21Android</td>\n",
       "      <td>1.0</td>\n",
       "    </tr>\n",
       "    <tr>\n",
       "      <th>18</th>\n",
       "      <td>21Linux</td>\n",
       "      <td>3.0</td>\n",
       "    </tr>\n",
       "    <tr>\n",
       "      <th>19</th>\n",
       "      <td>21Windows</td>\n",
       "      <td>3.0</td>\n",
       "    </tr>\n",
       "    <tr>\n",
       "      <th>20</th>\n",
       "      <td>21iOS</td>\n",
       "      <td>3.0</td>\n",
       "    </tr>\n",
       "    <tr>\n",
       "      <th>21</th>\n",
       "      <td>21macOS</td>\n",
       "      <td>3.0</td>\n",
       "    </tr>\n",
       "    <tr>\n",
       "      <th>22</th>\n",
       "      <td>22Android</td>\n",
       "      <td>3.0</td>\n",
       "    </tr>\n",
       "    <tr>\n",
       "      <th>23</th>\n",
       "      <td>22Chrome OS</td>\n",
       "      <td>3.0</td>\n",
       "    </tr>\n",
       "    <tr>\n",
       "      <th>24</th>\n",
       "      <td>22Linux</td>\n",
       "      <td>1.0</td>\n",
       "    </tr>\n",
       "    <tr>\n",
       "      <th>25</th>\n",
       "      <td>22OS X</td>\n",
       "      <td>3.0</td>\n",
       "    </tr>\n",
       "    <tr>\n",
       "      <th>26</th>\n",
       "      <td>22Windows</td>\n",
       "      <td>3.0</td>\n",
       "    </tr>\n",
       "    <tr>\n",
       "      <th>27</th>\n",
       "      <td>22iOS</td>\n",
       "      <td>3.0</td>\n",
       "    </tr>\n",
       "    <tr>\n",
       "      <th>28</th>\n",
       "      <td>22macOS</td>\n",
       "      <td>4.0</td>\n",
       "    </tr>\n",
       "    <tr>\n",
       "      <th>29</th>\n",
       "      <td>23Android</td>\n",
       "      <td>3.0</td>\n",
       "    </tr>\n",
       "    <tr>\n",
       "      <th>30</th>\n",
       "      <td>23Chrome OS</td>\n",
       "      <td>3.0</td>\n",
       "    </tr>\n",
       "    <tr>\n",
       "      <th>31</th>\n",
       "      <td>23Windows</td>\n",
       "      <td>3.0</td>\n",
       "    </tr>\n",
       "    <tr>\n",
       "      <th>32</th>\n",
       "      <td>23iOS</td>\n",
       "      <td>3.0</td>\n",
       "    </tr>\n",
       "    <tr>\n",
       "      <th>33</th>\n",
       "      <td>23macOS</td>\n",
       "      <td>4.0</td>\n",
       "    </tr>\n",
       "    <tr>\n",
       "      <th>34</th>\n",
       "      <td>31Android</td>\n",
       "      <td>1.0</td>\n",
       "    </tr>\n",
       "    <tr>\n",
       "      <th>35</th>\n",
       "      <td>31Windows</td>\n",
       "      <td>3.0</td>\n",
       "    </tr>\n",
       "    <tr>\n",
       "      <th>36</th>\n",
       "      <td>31iOS</td>\n",
       "      <td>3.0</td>\n",
       "    </tr>\n",
       "    <tr>\n",
       "      <th>37</th>\n",
       "      <td>32Android</td>\n",
       "      <td>1.0</td>\n",
       "    </tr>\n",
       "    <tr>\n",
       "      <th>38</th>\n",
       "      <td>32Windows</td>\n",
       "      <td>3.0</td>\n",
       "    </tr>\n",
       "    <tr>\n",
       "      <th>39</th>\n",
       "      <td>32iOS</td>\n",
       "      <td>3.0</td>\n",
       "    </tr>\n",
       "    <tr>\n",
       "      <th>40</th>\n",
       "      <td>33Android</td>\n",
       "      <td>2.0</td>\n",
       "    </tr>\n",
       "    <tr>\n",
       "      <th>41</th>\n",
       "      <td>33Android</td>\n",
       "      <td>3.0</td>\n",
       "    </tr>\n",
       "    <tr>\n",
       "      <th>42</th>\n",
       "      <td>33Windows</td>\n",
       "      <td>3.0</td>\n",
       "    </tr>\n",
       "    <tr>\n",
       "      <th>43</th>\n",
       "      <td>33iOS</td>\n",
       "      <td>3.0</td>\n",
       "    </tr>\n",
       "    <tr>\n",
       "      <th>44</th>\n",
       "      <td>33iOS</td>\n",
       "      <td>4.0</td>\n",
       "    </tr>\n",
       "  </tbody>\n",
       "</table>\n",
       "</div>"
      ],
      "text/plain": [
       "        def_fit  device_quaility_index\n",
       "0     11Android                    3.0\n",
       "1     11Windows                    3.0\n",
       "2         11iOS                    3.0\n",
       "3       11macOS                    3.0\n",
       "4     12Android                    3.0\n",
       "5   12Chrome OS                    3.0\n",
       "6       12Linux                    3.0\n",
       "7        12OS X                    4.0\n",
       "8     12Windows                    3.0\n",
       "9         12iOS                    3.0\n",
       "10      12macOS                    3.0\n",
       "11    13Android                    3.0\n",
       "12       13OS X                    3.0\n",
       "13       13OS X                    4.0\n",
       "14    13Windows                    3.0\n",
       "15        13iOS                    4.0\n",
       "16      13macOS                    3.0\n",
       "17    21Android                    1.0\n",
       "18      21Linux                    3.0\n",
       "19    21Windows                    3.0\n",
       "20        21iOS                    3.0\n",
       "21      21macOS                    3.0\n",
       "22    22Android                    3.0\n",
       "23  22Chrome OS                    3.0\n",
       "24      22Linux                    1.0\n",
       "25       22OS X                    3.0\n",
       "26    22Windows                    3.0\n",
       "27        22iOS                    3.0\n",
       "28      22macOS                    4.0\n",
       "29    23Android                    3.0\n",
       "30  23Chrome OS                    3.0\n",
       "31    23Windows                    3.0\n",
       "32        23iOS                    3.0\n",
       "33      23macOS                    4.0\n",
       "34    31Android                    1.0\n",
       "35    31Windows                    3.0\n",
       "36        31iOS                    3.0\n",
       "37    32Android                    1.0\n",
       "38    32Windows                    3.0\n",
       "39        32iOS                    3.0\n",
       "40    33Android                    2.0\n",
       "41    33Android                    3.0\n",
       "42    33Windows                    3.0\n",
       "43        33iOS                    3.0\n",
       "44        33iOS                    4.0"
      ]
     },
     "execution_count": 68,
     "metadata": {},
     "output_type": "execute_result"
    }
   ],
   "source": [
    "#добавим в основной датасет собирательную фичу по трём вышеприведенным признакам\n",
    "data['def_fit'] = data['age_group'] + data['salary_group'] + data['os']\n",
    "\n",
    "#таблица с самыми популярными индексами качества на каждую комбинацию \n",
    "def_qual_table = pd.DataFrame(data.groupby('def_fit').device_quaility_index.apply(lambda x: x.mode())).reset_index().drop('level_1', axis=1)\n",
    "def_qual_table.head(50)"
   ]
  },
  {
   "cell_type": "code",
   "execution_count": 69,
   "metadata": {},
   "outputs": [],
   "source": [
    "data['device_quaility_index'] = data['device_quaility_index'].fillna(999)\n",
    "\n",
    "#пустые значения заменяются на самые популярные в каждом значении признака, что состоит из трёх \n",
    "\n",
    "index_list1 = list(def_qual_table.device_quaility_index.unique()) \n",
    "\n",
    "for qual_index in index_list1:  \n",
    "    val_list = list(def_qual_table.query('device_quaility_index == %s'%qual_index).def_fit) \n",
    "    for val in val_list:\n",
    "        data['device_quaility_index'].mask((data['device_quaility_index']==999) & (data['def_fit']== (val)), qual_index, inplace=True) \n"
   ]
  },
  {
   "cell_type": "markdown",
   "metadata": {},
   "source": [
    "## Работа с дубликатами"
   ]
  },
  {
   "cell_type": "code",
   "execution_count": 70,
   "metadata": {},
   "outputs": [
    {
     "name": "stdout",
     "output_type": "stream",
     "text": [
      "<class 'pandas.core.frame.DataFrame'>\n",
      "RangeIndex: 15363 entries, 0 to 15362\n",
      "Data columns (total 16 columns):\n",
      " #   Column                  Non-Null Count  Dtype  \n",
      "---  ------                  --------------  -----  \n",
      " 0   fpd5_flg                15363 non-null  int64  \n",
      " 1   dt                      15363 non-null  object \n",
      " 2   gender                  15363 non-null  int64  \n",
      " 3   device_quaility_index   15363 non-null  float64\n",
      " 4   behavioral_index        15363 non-null  float64\n",
      " 5   type_of_document        15363 non-null  object \n",
      " 6   age                     15363 non-null  int64  \n",
      " 7   email_domain_formatted  15363 non-null  object \n",
      " 8   social_status           15363 non-null  object \n",
      " 9   salary                  15363 non-null  float64\n",
      " 10  disbursment_type        15363 non-null  object \n",
      " 11  os                      15363 non-null  object \n",
      " 12  email_index             15363 non-null  float64\n",
      " 13  salary_group            15363 non-null  object \n",
      " 14  age_group               15363 non-null  object \n",
      " 15  def_fit                 15363 non-null  object \n",
      "dtypes: float64(4), int64(3), object(9)\n",
      "memory usage: 1.9+ MB\n"
     ]
    }
   ],
   "source": [
    "data.info()"
   ]
  },
  {
   "cell_type": "code",
   "execution_count": 71,
   "metadata": {},
   "outputs": [
    {
     "data": {
      "text/html": [
       "<div>\n",
       "<style scoped>\n",
       "    .dataframe tbody tr th:only-of-type {\n",
       "        vertical-align: middle;\n",
       "    }\n",
       "\n",
       "    .dataframe tbody tr th {\n",
       "        vertical-align: top;\n",
       "    }\n",
       "\n",
       "    .dataframe thead th {\n",
       "        text-align: right;\n",
       "    }\n",
       "</style>\n",
       "<table border=\"1\" class=\"dataframe\">\n",
       "  <thead>\n",
       "    <tr style=\"text-align: right;\">\n",
       "      <th></th>\n",
       "      <th>fpd5_flg</th>\n",
       "      <th>dt</th>\n",
       "      <th>gender</th>\n",
       "      <th>device_quaility_index</th>\n",
       "      <th>behavioral_index</th>\n",
       "      <th>type_of_document</th>\n",
       "      <th>age</th>\n",
       "      <th>email_domain_formatted</th>\n",
       "      <th>social_status</th>\n",
       "      <th>salary</th>\n",
       "      <th>disbursment_type</th>\n",
       "      <th>os</th>\n",
       "      <th>email_index</th>\n",
       "      <th>salary_group</th>\n",
       "      <th>age_group</th>\n",
       "      <th>def_fit</th>\n",
       "    </tr>\n",
       "  </thead>\n",
       "  <tbody>\n",
       "    <tr>\n",
       "      <th>1420</th>\n",
       "      <td>1</td>\n",
       "      <td>2020-12-28</td>\n",
       "      <td>1</td>\n",
       "      <td>3.0</td>\n",
       "      <td>3.0</td>\n",
       "      <td>UMID</td>\n",
       "      <td>23</td>\n",
       "      <td>GMAIL.COM</td>\n",
       "      <td>BPO Professionals</td>\n",
       "      <td>20000.0</td>\n",
       "      <td>Bank</td>\n",
       "      <td>Android</td>\n",
       "      <td>1.0</td>\n",
       "      <td>2</td>\n",
       "      <td>1</td>\n",
       "      <td>12Android</td>\n",
       "    </tr>\n",
       "    <tr>\n",
       "      <th>4660</th>\n",
       "      <td>0</td>\n",
       "      <td>2020-12-11</td>\n",
       "      <td>1</td>\n",
       "      <td>2.0</td>\n",
       "      <td>3.0</td>\n",
       "      <td>UMID</td>\n",
       "      <td>28</td>\n",
       "      <td>GMAIL.COM</td>\n",
       "      <td>Other</td>\n",
       "      <td>15000.0</td>\n",
       "      <td>Bank</td>\n",
       "      <td>Android</td>\n",
       "      <td>8.0</td>\n",
       "      <td>1</td>\n",
       "      <td>1</td>\n",
       "      <td>11Android</td>\n",
       "    </tr>\n",
       "    <tr>\n",
       "      <th>6860</th>\n",
       "      <td>1</td>\n",
       "      <td>2020-12-28</td>\n",
       "      <td>1</td>\n",
       "      <td>3.0</td>\n",
       "      <td>3.0</td>\n",
       "      <td>UMID</td>\n",
       "      <td>23</td>\n",
       "      <td>GMAIL.COM</td>\n",
       "      <td>BPO Professionals</td>\n",
       "      <td>20000.0</td>\n",
       "      <td>Bank</td>\n",
       "      <td>Android</td>\n",
       "      <td>1.0</td>\n",
       "      <td>2</td>\n",
       "      <td>1</td>\n",
       "      <td>12Android</td>\n",
       "    </tr>\n",
       "    <tr>\n",
       "      <th>10598</th>\n",
       "      <td>0</td>\n",
       "      <td>2020-12-11</td>\n",
       "      <td>1</td>\n",
       "      <td>2.0</td>\n",
       "      <td>3.0</td>\n",
       "      <td>UMID</td>\n",
       "      <td>28</td>\n",
       "      <td>GMAIL.COM</td>\n",
       "      <td>Other</td>\n",
       "      <td>15000.0</td>\n",
       "      <td>Bank</td>\n",
       "      <td>Android</td>\n",
       "      <td>8.0</td>\n",
       "      <td>1</td>\n",
       "      <td>1</td>\n",
       "      <td>11Android</td>\n",
       "    </tr>\n",
       "    <tr>\n",
       "      <th>11058</th>\n",
       "      <td>0</td>\n",
       "      <td>2020-12-09</td>\n",
       "      <td>1</td>\n",
       "      <td>3.0</td>\n",
       "      <td>4.0</td>\n",
       "      <td>Driver license ID</td>\n",
       "      <td>33</td>\n",
       "      <td>GMAIL.COM</td>\n",
       "      <td>Other</td>\n",
       "      <td>22000.0</td>\n",
       "      <td>E-wallet</td>\n",
       "      <td>Android</td>\n",
       "      <td>1.0</td>\n",
       "      <td>2</td>\n",
       "      <td>1</td>\n",
       "      <td>12Android</td>\n",
       "    </tr>\n",
       "    <tr>\n",
       "      <th>11059</th>\n",
       "      <td>0</td>\n",
       "      <td>2020-12-09</td>\n",
       "      <td>1</td>\n",
       "      <td>3.0</td>\n",
       "      <td>4.0</td>\n",
       "      <td>Driver license ID</td>\n",
       "      <td>33</td>\n",
       "      <td>GMAIL.COM</td>\n",
       "      <td>Other</td>\n",
       "      <td>22000.0</td>\n",
       "      <td>E-wallet</td>\n",
       "      <td>Android</td>\n",
       "      <td>1.0</td>\n",
       "      <td>2</td>\n",
       "      <td>1</td>\n",
       "      <td>12Android</td>\n",
       "    </tr>\n",
       "    <tr>\n",
       "      <th>13680</th>\n",
       "      <td>0</td>\n",
       "      <td>2020-12-14</td>\n",
       "      <td>0</td>\n",
       "      <td>2.0</td>\n",
       "      <td>4.0</td>\n",
       "      <td>TIN</td>\n",
       "      <td>29</td>\n",
       "      <td>GMAIL.COM</td>\n",
       "      <td>Government Employee</td>\n",
       "      <td>18000.0</td>\n",
       "      <td>Bank</td>\n",
       "      <td>Android</td>\n",
       "      <td>8.0</td>\n",
       "      <td>2</td>\n",
       "      <td>1</td>\n",
       "      <td>12Android</td>\n",
       "    </tr>\n",
       "    <tr>\n",
       "      <th>13681</th>\n",
       "      <td>0</td>\n",
       "      <td>2020-12-14</td>\n",
       "      <td>0</td>\n",
       "      <td>2.0</td>\n",
       "      <td>4.0</td>\n",
       "      <td>TIN</td>\n",
       "      <td>29</td>\n",
       "      <td>GMAIL.COM</td>\n",
       "      <td>Government Employee</td>\n",
       "      <td>18000.0</td>\n",
       "      <td>Bank</td>\n",
       "      <td>Android</td>\n",
       "      <td>8.0</td>\n",
       "      <td>2</td>\n",
       "      <td>1</td>\n",
       "      <td>12Android</td>\n",
       "    </tr>\n",
       "  </tbody>\n",
       "</table>\n",
       "</div>"
      ],
      "text/plain": [
       "       fpd5_flg          dt  gender  device_quaility_index  behavioral_index  \\\n",
       "1420          1  2020-12-28       1                    3.0               3.0   \n",
       "4660          0  2020-12-11       1                    2.0               3.0   \n",
       "6860          1  2020-12-28       1                    3.0               3.0   \n",
       "10598         0  2020-12-11       1                    2.0               3.0   \n",
       "11058         0  2020-12-09       1                    3.0               4.0   \n",
       "11059         0  2020-12-09       1                    3.0               4.0   \n",
       "13680         0  2020-12-14       0                    2.0               4.0   \n",
       "13681         0  2020-12-14       0                    2.0               4.0   \n",
       "\n",
       "        type_of_document  age email_domain_formatted        social_status  \\\n",
       "1420                UMID   23              GMAIL.COM    BPO Professionals   \n",
       "4660                UMID   28              GMAIL.COM                Other   \n",
       "6860                UMID   23              GMAIL.COM    BPO Professionals   \n",
       "10598               UMID   28              GMAIL.COM                Other   \n",
       "11058  Driver license ID   33              GMAIL.COM                Other   \n",
       "11059  Driver license ID   33              GMAIL.COM                Other   \n",
       "13680                TIN   29              GMAIL.COM  Government Employee   \n",
       "13681                TIN   29              GMAIL.COM  Government Employee   \n",
       "\n",
       "        salary disbursment_type       os  email_index salary_group age_group  \\\n",
       "1420   20000.0             Bank  Android          1.0            2         1   \n",
       "4660   15000.0             Bank  Android          8.0            1         1   \n",
       "6860   20000.0             Bank  Android          1.0            2         1   \n",
       "10598  15000.0             Bank  Android          8.0            1         1   \n",
       "11058  22000.0         E-wallet  Android          1.0            2         1   \n",
       "11059  22000.0         E-wallet  Android          1.0            2         1   \n",
       "13680  18000.0             Bank  Android          8.0            2         1   \n",
       "13681  18000.0             Bank  Android          8.0            2         1   \n",
       "\n",
       "         def_fit  \n",
       "1420   12Android  \n",
       "4660   11Android  \n",
       "6860   12Android  \n",
       "10598  11Android  \n",
       "11058  12Android  \n",
       "11059  12Android  \n",
       "13680  12Android  \n",
       "13681  12Android  "
      ]
     },
     "execution_count": 71,
     "metadata": {},
     "output_type": "execute_result"
    }
   ],
   "source": [
    "data[data.duplicated(keep=False)]"
   ]
  },
  {
   "cell_type": "code",
   "execution_count": 72,
   "metadata": {},
   "outputs": [],
   "source": [
    "# data.drop_duplicates() #нет особого смысла удалять повторы, потому что их мало, что никак не повлияет на качество модели, \n",
    "# но зато надо будет держать в памяти датасет с нужным кол-вом строк для финального предсказания вероятностей "
   ]
  },
  {
   "cell_type": "markdown",
   "metadata": {},
   "source": [
    "## Работа с неинформативными признаки "
   ]
  },
  {
   "cell_type": "code",
   "execution_count": 73,
   "metadata": {},
   "outputs": [],
   "source": [
    "#Поиск колонок, где одно и то же значение занимает более 95% пространства колонки"
   ]
  },
  {
   "cell_type": "code",
   "execution_count": 74,
   "metadata": {},
   "outputs": [
    {
     "name": "stdout",
     "output_type": "stream",
     "text": [
      "fpd5_flg: 72.72017%\n",
      "______________________________________\n",
      "gender: 62.91089%\n",
      "______________________________________\n",
      "device_quaility_index: 54.12354%\n",
      "______________________________________\n",
      "email_domain_formatted: 78.81924%\n",
      "______________________________________\n",
      "disbursment_type: 58.04856%\n",
      "______________________________________\n",
      "os: 74.93979%\n",
      "______________________________________\n",
      "email_index: 58.26336%\n",
      "______________________________________\n",
      "salary_group: 52.36607%\n",
      "______________________________________\n",
      "age_group: 56.99408%\n",
      "______________________________________\n"
     ]
    }
   ],
   "source": [
    "num_rows = len(data.index)\n",
    "low_information_cols = [] \n",
    "\n",
    "for col in data.columns:\n",
    "    cnts = data[col].value_counts()\n",
    "    top_pct = (cnts/num_rows).iloc[0]\n",
    "    \n",
    "    if top_pct > 0.5:\n",
    "        low_information_cols.append(col)\n",
    "        print('{0}: {1:.5f}%'.format(col, top_pct*100))\n",
    "        # print(cnts) #какие именно значения сколько раз встречаются\n",
    "        print('______________________________________')"
   ]
  },
  {
   "cell_type": "code",
   "execution_count": 75,
   "metadata": {},
   "outputs": [],
   "source": [
    "# ==>неинформативных признаков не обнаружено"
   ]
  },
  {
   "cell_type": "markdown",
   "metadata": {},
   "source": [
    "## Добавление новых признаков "
   ]
  },
  {
   "cell_type": "code",
   "execution_count": 76,
   "metadata": {},
   "outputs": [
    {
     "name": "stdout",
     "output_type": "stream",
     "text": [
      "<class 'pandas.core.frame.DataFrame'>\n",
      "RangeIndex: 15363 entries, 0 to 15362\n",
      "Data columns (total 16 columns):\n",
      " #   Column                  Non-Null Count  Dtype  \n",
      "---  ------                  --------------  -----  \n",
      " 0   fpd5_flg                15363 non-null  int64  \n",
      " 1   dt                      15363 non-null  object \n",
      " 2   gender                  15363 non-null  int64  \n",
      " 3   device_quaility_index   15363 non-null  float64\n",
      " 4   behavioral_index        15363 non-null  float64\n",
      " 5   type_of_document        15363 non-null  object \n",
      " 6   age                     15363 non-null  int64  \n",
      " 7   email_domain_formatted  15363 non-null  object \n",
      " 8   social_status           15363 non-null  object \n",
      " 9   salary                  15363 non-null  float64\n",
      " 10  disbursment_type        15363 non-null  object \n",
      " 11  os                      15363 non-null  object \n",
      " 12  email_index             15363 non-null  float64\n",
      " 13  salary_group            15363 non-null  object \n",
      " 14  age_group               15363 non-null  object \n",
      " 15  def_fit                 15363 non-null  object \n",
      "dtypes: float64(4), int64(3), object(9)\n",
      "memory usage: 1.9+ MB\n"
     ]
    }
   ],
   "source": [
    "data.info()"
   ]
  },
  {
   "cell_type": "code",
   "execution_count": 77,
   "metadata": {},
   "outputs": [],
   "source": [
    "#уже есть 2 неплохие фичи, которые делят людей по возрастным группам людей среднего возраста первой категории, \n",
    "# среднего возраста второй категории, и пожилых "
   ]
  },
  {
   "cell_type": "code",
   "execution_count": 78,
   "metadata": {},
   "outputs": [
    {
     "data": {
      "image/png": "[encoded data removed]",
      "text/plain": [
       "<Figure size 432x216 with 1 Axes>"
      ]
     },
     "metadata": {
      "needs_background": "light"
     },
     "output_type": "display_data"
    },
    {
     "data": {
      "image/png": "[encoded data removed]",
      "text/plain": [
       "<Figure size 432x216 with 1 Axes>"
      ]
     },
     "metadata": {
      "needs_background": "light"
     },
     "output_type": "display_data"
    },
    {
     "data": {
      "image/png": "[encoded data removed]",
      "text/plain": [
       "<Figure size 432x216 with 1 Axes>"
      ]
     },
     "metadata": {
      "needs_background": "light"
     },
     "output_type": "display_data"
    },
    {
     "data": {
      "image/png": "[encoded data removed]",
      "text/plain": [
       "<Figure size 432x216 with 1 Axes>"
      ]
     },
     "metadata": {
      "needs_background": "light"
     },
     "output_type": "display_data"
    },
    {
     "data": {
      "image/png": "[encoded data removed]",
      "text/plain": [
       "<Figure size 432x216 with 1 Axes>"
      ]
     },
     "metadata": {
      "needs_background": "light"
     },
     "output_type": "display_data"
    },
    {
     "data": {
      "image/png": "[encoded data removed]",
      "text/plain": [
       "<Figure size 432x216 with 1 Axes>"
      ]
     },
     "metadata": {
      "needs_background": "light"
     },
     "output_type": "display_data"
    },
    {
     "data": {
      "image/png": "[encoded data removed]",
      "text/plain": [
       "<Figure size 432x216 with 1 Axes>"
      ]
     },
     "metadata": {
      "needs_background": "light"
     },
     "output_type": "display_data"
    },
    {
     "data": {
      "image/png": "[encoded data removed]",
      "text/plain": [
       "<Figure size 432x216 with 1 Axes>"
      ]
     },
     "metadata": {
      "needs_background": "light"
     },
     "output_type": "display_data"
    },
    {
     "data": {
      "image/png": "[encoded data removed]",
      "text/plain": [
       "<Figure size 432x216 with 1 Axes>"
      ]
     },
     "metadata": {
      "needs_background": "light"
     },
     "output_type": "display_data"
    }
   ],
   "source": [
    "#посмотрим как обстоит дела с распределением у признаков относительно лейбла\n",
    "col_list = ['device_quaility_index', 'behavioral_index',\n",
    "       'type_of_document', 'social_status',\n",
    "       'disbursment_type', 'os', 'email_index', 'salary_group',\n",
    "       'age_group']\n",
    "\n",
    "for col in col_list:\n",
    "       plt.figure(figsize=(6, 3))\n",
    "       sns.countplot(x=data_for_testing['%s'%col], hue=data_for_testing['fpd5_flg'])\n",
    "       plt.legend(loc='upper right')\n",
    "       plt.xticks(rotation=45)\n"
   ]
  },
  {
   "cell_type": "code",
   "execution_count": 79,
   "metadata": {},
   "outputs": [],
   "source": [
    "#Анализ даты получения крелита\n",
    "#Предположение: если человек берет кредит в начале месяца (30, 31, 1, 16 число ), в середине или конце то это подозрительно, \n",
    "# потому что по закону зп выдаётся два раза в месяц, а значит человек который берет кредит в день зп является потенциальным неплательщиком кредита \n",
    "# С другой стороны, люди которые берут кредит за пару дней до зп, скорее всего его выплатят, т.к. эти деньги берут, чтобы дотянуть до выплат "
   ]
  },
  {
   "cell_type": "code",
   "execution_count": 80,
   "metadata": {},
   "outputs": [
    {
     "data": {
      "text/plain": [
       "<AxesSubplot:xlabel='index', ylabel='dt'>"
      ]
     },
     "execution_count": 80,
     "metadata": {},
     "output_type": "execute_result"
    },
    {
     "data": {
      "image/png": "[encoded data removed]",
      "text/plain": [
       "<Figure size 720x576 with 1 Axes>"
      ]
     },
     "metadata": {
      "needs_background": "light"
     },
     "output_type": "display_data"
    }
   ],
   "source": [
    " #Посмотрим на распределение кол-ва взятых кредитов на даты \n",
    "plt.figure(figsize=(10, 8))\n",
    "date = pd.DataFrame(data[['dt']].dt.apply(lambda x: x[8:]).value_counts()).reset_index().sort_values(by='index')\n",
    "sns.barplot(x=date['index'], y=date.dt)"
   ]
  },
  {
   "cell_type": "code",
   "execution_count": 81,
   "metadata": {},
   "outputs": [],
   "source": [
    "data['day'] = data['dt'].apply(lambda x: x[8:])"
   ]
  },
  {
   "cell_type": "code",
   "execution_count": 82,
   "metadata": {},
   "outputs": [
    {
     "data": {
      "text/plain": [
       "<matplotlib.legend.Legend at 0x1a085af5040>"
      ]
     },
     "execution_count": 82,
     "metadata": {},
     "output_type": "execute_result"
    },
    {
     "data": {
      "image/png": "[encoded data removed]",
      "text/plain": [
       "<Figure size 864x288 with 1 Axes>"
      ]
     },
     "metadata": {
      "needs_background": "light"
     },
     "output_type": "display_data"
    }
   ],
   "source": [
    "plt.figure(figsize=(12, 4))\n",
    "ax = sns.countplot(x=data.day, hue=data['fpd5_flg'])\n",
    "plt.legend(loc='upper right')\n",
    "#построим такие таблицы только сразу с отражением процентного соотношения дефолта/не дефолта по каждому признаку "
   ]
  },
  {
   "cell_type": "code",
   "execution_count": 83,
   "metadata": {},
   "outputs": [
    {
     "data": {
      "text/plain": [
       "10"
      ]
     },
     "execution_count": 83,
     "metadata": {},
     "output_type": "execute_result"
    }
   ],
   "source": [
    "data.email_index.nunique()"
   ]
  },
  {
   "cell_type": "code",
   "execution_count": 84,
   "metadata": {},
   "outputs": [
    {
     "data": {
      "image/png": "[encoded data removed]",
      "text/plain": [
       "<Figure size 1008x288 with 1 Axes>"
      ]
     },
     "metadata": {
      "needs_background": "light"
     },
     "output_type": "display_data"
    },
    {
     "name": "stdout",
     "output_type": "stream",
     "text": [
      "========================================================================================================================\n"
     ]
    },
    {
     "data": {
      "image/png": "[encoded data removed]",
      "text/plain": [
       "<Figure size 1008x288 with 1 Axes>"
      ]
     },
     "metadata": {
      "needs_background": "light"
     },
     "output_type": "display_data"
    },
    {
     "name": "stdout",
     "output_type": "stream",
     "text": [
      "========================================================================================================================\n"
     ]
    },
    {
     "data": {
      "image/png": "[encoded data removed]",
      "text/plain": [
       "<Figure size 1008x288 with 1 Axes>"
      ]
     },
     "metadata": {
      "needs_background": "light"
     },
     "output_type": "display_data"
    },
    {
     "name": "stdout",
     "output_type": "stream",
     "text": [
      "========================================================================================================================\n"
     ]
    },
    {
     "data": {
      "image/png": "[encoded data removed]",
      "text/plain": [
       "<Figure size 1008x288 with 1 Axes>"
      ]
     },
     "metadata": {
      "needs_background": "light"
     },
     "output_type": "display_data"
    },
    {
     "name": "stdout",
     "output_type": "stream",
     "text": [
      "========================================================================================================================\n"
     ]
    },
    {
     "data": {
      "image/png": "[encoded data removed]",
      "text/plain": [
       "<Figure size 1008x288 with 1 Axes>"
      ]
     },
     "metadata": {
      "needs_background": "light"
     },
     "output_type": "display_data"
    },
    {
     "name": "stdout",
     "output_type": "stream",
     "text": [
      "========================================================================================================================\n"
     ]
    },
    {
     "data": {
      "image/png": "[encoded data removed]",
      "text/plain": [
       "<Figure size 1008x288 with 1 Axes>"
      ]
     },
     "metadata": {
      "needs_background": "light"
     },
     "output_type": "display_data"
    },
    {
     "name": "stdout",
     "output_type": "stream",
     "text": [
      "========================================================================================================================\n"
     ]
    },
    {
     "data": {
      "image/png": "[encoded data removed]",
      "text/plain": [
       "<Figure size 1008x288 with 1 Axes>"
      ]
     },
     "metadata": {
      "needs_background": "light"
     },
     "output_type": "display_data"
    },
    {
     "name": "stdout",
     "output_type": "stream",
     "text": [
      "========================================================================================================================\n"
     ]
    },
    {
     "data": {
      "image/png": "[encoded data removed]",
      "text/plain": [
       "<Figure size 1008x288 with 1 Axes>"
      ]
     },
     "metadata": {
      "needs_background": "light"
     },
     "output_type": "display_data"
    },
    {
     "name": "stdout",
     "output_type": "stream",
     "text": [
      "========================================================================================================================\n"
     ]
    },
    {
     "data": {
      "image/png": "[encoded data removed]",
      "text/plain": [
       "<Figure size 1008x288 with 1 Axes>"
      ]
     },
     "metadata": {
      "needs_background": "light"
     },
     "output_type": "display_data"
    },
    {
     "name": "stdout",
     "output_type": "stream",
     "text": [
      "========================================================================================================================\n"
     ]
    }
   ],
   "source": [
    "#Посмотрим на то как в процентном соотношении к дефолтным и не дефолтным делятся все признаки из таблицы\n",
    "column_list = ['device_quaility_index', 'behavioral_index',\n",
    "       'type_of_document', 'social_status',\n",
    "       'disbursment_type', 'os', 'salary_group',\n",
    "       'age_group', 'day']\n",
    "for column in column_list:\n",
    "    base_table = data[['fpd5_flg', '%s'%column]].groupby(['%s'%column, 'fpd5_flg']).agg({'fpd5_flg': 'count'})\n",
    "    \n",
    "    b = list(base_table.fpd5_flg.values)\n",
    "    column2=[]\n",
    "    for i in range(0, len(b)):\n",
    "        if i%2==0:\n",
    "            percent=(b[i+1]/(b[i+1]+b[i]))\n",
    "            column2.append(percent)\n",
    "\n",
    "    column1=[]\n",
    "    for i in list(base_table.index): \n",
    "        column1.append(i[0])\n",
    "\n",
    "\n",
    "    table = pd.DataFrame({'feature': list(pd.DataFrame({'val': column1}).val.unique()),'percent_of_default': column2})\n",
    "    plt.figure(figsize=(14, 4))\n",
    "    ax = sns.barplot(x=table.feature, y=table.percent_of_default, color='brown', label='Percent of default')\n",
    "\n",
    "    for index, row in table.iterrows():\n",
    "        ax.text(row.name, row.percent_of_default, round(row.percent_of_default*100,2),color='black', ha=\"center\", size=11)\n",
    "\n",
    "    plt.xticks(rotation=45)\n",
    "    plt.title('%s'%column)\n",
    "    plt.legend()\n",
    "    plt.show()\n",
    "    # print(table) #если хочется посмотреть на сами таблицы \n",
    "    print('=='*60)"
   ]
  },
  {
   "cell_type": "code",
   "execution_count": 85,
   "metadata": {},
   "outputs": [],
   "source": [
    "# Рассмотрим интересные признаки:"
   ]
  },
  {
   "cell_type": "code",
   "execution_count": 86,
   "metadata": {},
   "outputs": [
    {
     "data": {
      "text/plain": [
       "4.0    5112\n",
       "3.0    4846\n",
       "5.0    4450\n",
       "6.0     730\n",
       "2.0     202\n",
       "1.0      23\n",
       "Name: behavioral_index, dtype: int64"
      ]
     },
     "execution_count": 86,
     "metadata": {},
     "output_type": "execute_result"
    }
   ],
   "source": [
    "#поведенческий индекс: люди с 1 имеют наименьший процент дефолтов, но и их меньше всех, так что отделять людей с индексом 1 может быть не репрезентативно,\n",
    "# зато люди с индексом 6 имеют самый высокий процент дефолтов хоть и их намного меньше чем людей с индексами 3,4,5 \n",
    "# индексы уже достаточно неплохо разделяют датасет на категории, но индекс 6 достаточно подозрителен\n",
    "# Решение: создадим бинарную фичу \n",
    "data['behavior_index_six'] = data.behavioral_index.apply(lambda x: 1 if x==6 else 0)\n",
    "data.behavioral_index.value_counts()"
   ]
  },
  {
   "cell_type": "code",
   "execution_count": 87,
   "metadata": {},
   "outputs": [
    {
     "data": {
      "text/plain": [
       "Private Company Employee                                       3500\n",
       "Self-Employed                                                  2323\n",
       "BPO Professionals                                              2295\n",
       "Other                                                          1703\n",
       "Business Owner                                                 1680\n",
       "Government Employee                                            1061\n",
       "Freelance                                                       777\n",
       "Unemployed                                                      642\n",
       "Professional Worker (Doctors, Engineers, Accountants, etc.)     642\n",
       "Retail Worker                                                   402\n",
       "Financial Services                                              247\n",
       "Retired                                                          91\n",
       "Name: social_status, dtype: int64"
      ]
     },
     "execution_count": 87,
     "metadata": {},
     "output_type": "execute_result"
    }
   ],
   "source": [
    "#социальный статус: достаточно интересный признак который  по логике должен характеризовать клиентов, отделяя безработных от остальных, но получилось, \n",
    "# что клиенты с данным соц статусом имеют процент дефолта на уровне со многими другими, отделились особняком от всех остальным две соц группы \n",
    "# люди что работают в Financial Services и Private Company Employee, что говорят, что сотрудники из данных секторов чаще всего выплачивают кредиты \n",
    "# при чём если низкий % Financial Services можно списать на недостаточное кол-во в выборке, то Private Company Employee самая большая часть клиентов\n",
    "#Решение: создадим бинарную фичу \n",
    "data['trust_soc_stat'] = data['social_status'].apply(lambda x: 1 if (x=='Private Company Employee' or x=='Financial Services') else 0)\n",
    "data.social_status.value_counts()"
   ]
  },
  {
   "cell_type": "code",
   "execution_count": 88,
   "metadata": {},
   "outputs": [],
   "source": [
    "#день получения кредита: юзеры которые берут кредиты 14-15 числа чаще всего их возвращают. Возможно это связано с тем, \n",
    "# что люди берущие их в этот день хотят дотянуть до аванса 15-16 числа, и получив зп сразу отдают кредит \n",
    "# ==> создадим бинарный признак 14-15 число или нет\n",
    "data.day = data.day.astype(int).apply(lambda x: 1 if (x==14 or x==15) else 0)\n",
    "data = data.rename(columns={'day': 'good_days'})"
   ]
  },
  {
   "cell_type": "code",
   "execution_count": 89,
   "metadata": {},
   "outputs": [],
   "source": [
    "#Индекс качества девайся: заметно, что люди с индексом 4 в меньшей степени склонны к дефолту \n",
    "# ==>создадим бинарный признак\n",
    "data.device_quaility_index.value_counts()\n",
    "data['device_index_4'] = data.device_quaility_index.apply(lambda x: 1 if x==4 else 0)"
   ]
  },
  {
   "cell_type": "code",
   "execution_count": 90,
   "metadata": {},
   "outputs": [],
   "source": [
    "#Формат домена: может озарактеризовать человека если он использует корпоративную почту или домен принадлежащий только пользователям определенной\n",
    "# техники, что сможет сказать о финансовой благонадёжности, также может сказать о нахождении в определенной местности, если данный домен является \n",
    "# локально популярен\n",
    "# ==> оставляем как данные для обучения "
   ]
  },
  {
   "cell_type": "code",
   "execution_count": 91,
   "metadata": {},
   "outputs": [
    {
     "data": {
      "text/plain": [
       "1    9665\n",
       "0    5698\n",
       "Name: gender, dtype: int64"
      ]
     },
     "execution_count": 91,
     "metadata": {},
     "output_type": "execute_result"
    },
    {
     "data": {
      "image/png": "[encoded data removed]",
      "text/plain": [
       "<Figure size 432x288 with 1 Axes>"
      ]
     },
     "metadata": {
      "needs_background": "light"
     },
     "output_type": "display_data"
    }
   ],
   "source": [
    "#Пол: незивестно какая цифра какой пол означает, но и это не особсенно важно, даже если видна закономерность что, например, у женщин процент дефолтов в \n",
    "# общей совокупности данных выше, чем у мужчин, это может сильно зависить от кол-ва того, что мужчины в прицнипе больше берут кредитов, да и \n",
    "# в общем брать такой признак для обучения модели неправильно, т.к. решающий голос может уйти по половой принадлежности, нежели зарплатной составляющей при \n",
    "# равенстве последних\n",
    "sns.countplot(x=data.gender, hue=data['fpd5_flg'])\n",
    "data.gender.value_counts()"
   ]
  },
  {
   "cell_type": "markdown",
   "metadata": {},
   "source": [
    "# Model"
   ]
  },
  {
   "cell_type": "markdown",
   "metadata": {},
   "source": [
    "## Fitting"
   ]
  },
  {
   "cell_type": "code",
   "execution_count": 92,
   "metadata": {},
   "outputs": [],
   "source": [
    "#Использовать будем catboost, так модель обладает высокой точностью \n",
    "# и сама осуществляет стандартизацию данных для тех данных что ей нужно "
   ]
  },
  {
   "cell_type": "code",
   "execution_count": 93,
   "metadata": {},
   "outputs": [
    {
     "name": "stdout",
     "output_type": "stream",
     "text": [
      "<class 'pandas.core.frame.DataFrame'>\n",
      "RangeIndex: 15363 entries, 0 to 15362\n",
      "Data columns (total 20 columns):\n",
      " #   Column                  Non-Null Count  Dtype  \n",
      "---  ------                  --------------  -----  \n",
      " 0   fpd5_flg                15363 non-null  int64  \n",
      " 1   dt                      15363 non-null  object \n",
      " 2   gender                  15363 non-null  int64  \n",
      " 3   device_quaility_index   15363 non-null  float64\n",
      " 4   behavioral_index        15363 non-null  float64\n",
      " 5   type_of_document        15363 non-null  object \n",
      " 6   age                     15363 non-null  int64  \n",
      " 7   email_domain_formatted  15363 non-null  object \n",
      " 8   social_status           15363 non-null  object \n",
      " 9   salary                  15363 non-null  float64\n",
      " 10  disbursment_type        15363 non-null  object \n",
      " 11  os                      15363 non-null  object \n",
      " 12  email_index             15363 non-null  float64\n",
      " 13  salary_group            15363 non-null  object \n",
      " 14  age_group               15363 non-null  object \n",
      " 15  def_fit                 15363 non-null  object \n",
      " 16  good_days               15363 non-null  int64  \n",
      " 17  behavior_index_six      15363 non-null  int64  \n",
      " 18  trust_soc_stat          15363 non-null  int64  \n",
      " 19  device_index_4          15363 non-null  int64  \n",
      "dtypes: float64(4), int64(7), object(9)\n",
      "memory usage: 2.3+ MB\n"
     ]
    }
   ],
   "source": [
    "data.info()"
   ]
  },
  {
   "cell_type": "code",
   "execution_count": 94,
   "metadata": {},
   "outputs": [
    {
     "data": {
      "text/plain": [
       "0    0.727202\n",
       "1    0.272798\n",
       "Name: fpd5_flg, dtype: float64"
      ]
     },
     "execution_count": 94,
     "metadata": {},
     "output_type": "execute_result"
    }
   ],
   "source": [
    "data['fpd5_flg'].value_counts(normalize=True)\n",
    "#в таргетах явный дизбаланс"
   ]
  },
  {
   "cell_type": "code",
   "execution_count": 95,
   "metadata": {},
   "outputs": [
    {
     "data": {
      "text/plain": [
       "Index(['fpd5_flg', 'dt', 'gender', 'device_quaility_index', 'behavioral_index',\n",
       "       'type_of_document', 'age', 'email_domain_formatted', 'social_status',\n",
       "       'salary', 'disbursment_type', 'os', 'email_index', 'salary_group',\n",
       "       'age_group', 'def_fit', 'good_days', 'behavior_index_six',\n",
       "       'trust_soc_stat', 'device_index_4'],\n",
       "      dtype='object')"
      ]
     },
     "execution_count": 95,
     "metadata": {},
     "output_type": "execute_result"
    }
   ],
   "source": [
    "data.columns"
   ]
  },
  {
   "cell_type": "code",
   "execution_count": 96,
   "metadata": {},
   "outputs": [],
   "source": [
    "\n",
    "X = data[['device_quaility_index', 'behavioral_index',\n",
    "       'type_of_document', 'age', 'email_domain_formatted', 'social_status',\n",
    "       'salary', 'disbursment_type', 'os', 'email_index', 'salary_group',\n",
    "       'age_group', 'good_days', 'behavior_index_six', 'trust_soc_stat', 'device_index_4']]\n",
    "\n",
    "\n",
    "\n",
    "y = data.fpd5_flg\n",
    "\n",
    "cat_features = ['type_of_document', 'email_domain_formatted', 'social_status', 'disbursment_type', 'os', 'salary_group', 'age_group']\n"
   ]
  },
  {
   "cell_type": "code",
   "execution_count": 97,
   "metadata": {},
   "outputs": [],
   "source": [
    "X = pd.get_dummies(X)"
   ]
  },
  {
   "cell_type": "code",
   "execution_count": 98,
   "metadata": {},
   "outputs": [],
   "source": [
    " #классы не сбалансированы, значит дальнейшая стретегия действий связана либо с существенным редактирование вероятности реузльтата, \n",
    "# либо с применением алгоритма SMOTE, который искусственно создаёт баланс, путём создания элементов в непосредственной близости от уже существующих в меньшем наборе\n",
    "# ==> используем второй способ/\n",
    "#  т.к. в smote можно задвать только числовые значения придётся отказаться от категориальных признаков в catboost и \n",
    "# транформировать такие фичи в разряженные векторазаранее.\n",
    "X_balance, y_balance = SMOTE(random_state=42).fit_resample(X, y)"
   ]
  },
  {
   "cell_type": "code",
   "execution_count": 99,
   "metadata": {},
   "outputs": [
    {
     "data": {
      "text/plain": [
       "0    11172\n",
       "1    11172\n",
       "Name: fpd5_flg, dtype: int64"
      ]
     },
     "execution_count": 99,
     "metadata": {},
     "output_type": "execute_result"
    }
   ],
   "source": [
    "y_balance.value_counts()"
   ]
  },
  {
   "cell_type": "code",
   "execution_count": 100,
   "metadata": {},
   "outputs": [
    {
     "data": {
      "text/plain": [
       "0    11172\n",
       "1     4191\n",
       "Name: fpd5_flg, dtype: int64"
      ]
     },
     "execution_count": 100,
     "metadata": {},
     "output_type": "execute_result"
    }
   ],
   "source": [
    "y.value_counts()"
   ]
  },
  {
   "cell_type": "code",
   "execution_count": 101,
   "metadata": {},
   "outputs": [],
   "source": [
    "X_train, X_test, y_train, y_test = train_test_split(X_balance, y_balance, train_size = 0.75, random_state=42, stratify = y_balance)\n",
    "# X_train, X_test, y_train, y_test = train_test_split(X, y, train_size = 0.85, random_state=42, stratify = y)"
   ]
  },
  {
   "cell_type": "code",
   "execution_count": 102,
   "metadata": {},
   "outputs": [],
   "source": [
    "model = CatBoostClassifier(iterations=2000,\n",
    "                           verbose=100,\n",
    "                           random_state=42,\n",
    "                           learning_rate=0.03,\n",
    "                           early_stopping_rounds=300,\n",
    "                           eval_metric='AUC',\n",
    "                        #    cat_features=cat_features #использовать если не балансировать классы \n",
    "                           )\n"
   ]
  },
  {
   "cell_type": "code",
   "execution_count": 103,
   "metadata": {},
   "outputs": [
    {
     "name": "stdout",
     "output_type": "stream",
     "text": [
      "0:\ttest: 0.7356058\tbest: 0.7356058 (0)\ttotal: 157ms\tremaining: 5m 13s\n",
      "100:\ttest: 0.8513110\tbest: 0.8513110 (100)\ttotal: 1.16s\tremaining: 21.8s\n",
      "200:\ttest: 0.8552839\tbest: 0.8553039 (196)\ttotal: 2.38s\tremaining: 21.3s\n",
      "300:\ttest: 0.8568807\tbest: 0.8568811 (299)\ttotal: 3.39s\tremaining: 19.1s\n",
      "400:\ttest: 0.8577905\tbest: 0.8577938 (392)\ttotal: 4.38s\tremaining: 17.5s\n",
      "500:\ttest: 0.8584791\tbest: 0.8585667 (494)\ttotal: 5.33s\tremaining: 16s\n",
      "600:\ttest: 0.8589627\tbest: 0.8590383 (591)\ttotal: 6.29s\tremaining: 14.6s\n",
      "700:\ttest: 0.8591933\tbest: 0.8594068 (673)\ttotal: 7.24s\tremaining: 13.4s\n",
      "800:\ttest: 0.8589993\tbest: 0.8594068 (673)\ttotal: 8.2s\tremaining: 12.3s\n",
      "900:\ttest: 0.8587301\tbest: 0.8594068 (673)\ttotal: 9.17s\tremaining: 11.2s\n",
      "Stopped by overfitting detector  (300 iterations wait)\n",
      "\n",
      "bestTest = 0.8594068415\n",
      "bestIteration = 673\n",
      "\n",
      "Shrink model to first 674 iterations.\n"
     ]
    },
    {
     "data": {
      "text/plain": [
       "<catboost.core.CatBoostClassifier at 0x1a084419f10>"
      ]
     },
     "execution_count": 103,
     "metadata": {},
     "output_type": "execute_result"
    }
   ],
   "source": [
    "model.fit(X_train, y_train,\n",
    "          eval_set=(X_test, y_test))"
   ]
  },
  {
   "cell_type": "code",
   "execution_count": 104,
   "metadata": {},
   "outputs": [],
   "source": [
    "# bestTest = 0.8638\n",
    "# bestIteration = 390"
   ]
  },
  {
   "cell_type": "code",
   "execution_count": 105,
   "metadata": {},
   "outputs": [
    {
     "data": {
      "text/html": [
       "<div>\n",
       "<style scoped>\n",
       "    .dataframe tbody tr th:only-of-type {\n",
       "        vertical-align: middle;\n",
       "    }\n",
       "\n",
       "    .dataframe tbody tr th {\n",
       "        vertical-align: top;\n",
       "    }\n",
       "\n",
       "    .dataframe thead th {\n",
       "        text-align: right;\n",
       "    }\n",
       "</style>\n",
       "<table border=\"1\" class=\"dataframe\">\n",
       "  <thead>\n",
       "    <tr style=\"text-align: right;\">\n",
       "      <th></th>\n",
       "      <th>w</th>\n",
       "      <th>name</th>\n",
       "    </tr>\n",
       "  </thead>\n",
       "  <tbody>\n",
       "    <tr>\n",
       "      <th>1</th>\n",
       "      <td>20.682248</td>\n",
       "      <td>behavioral_index</td>\n",
       "    </tr>\n",
       "    <tr>\n",
       "      <th>4</th>\n",
       "      <td>13.022360</td>\n",
       "      <td>email_index</td>\n",
       "    </tr>\n",
       "    <tr>\n",
       "      <th>0</th>\n",
       "      <td>11.187232</td>\n",
       "      <td>device_quaility_index</td>\n",
       "    </tr>\n",
       "    <tr>\n",
       "      <th>122</th>\n",
       "      <td>8.933890</td>\n",
       "      <td>disbursment_type_Bank</td>\n",
       "    </tr>\n",
       "    <tr>\n",
       "      <th>14</th>\n",
       "      <td>7.744868</td>\n",
       "      <td>type_of_document_UMID</td>\n",
       "    </tr>\n",
       "    <tr>\n",
       "      <th>123</th>\n",
       "      <td>7.050987</td>\n",
       "      <td>disbursment_type_E-wallet</td>\n",
       "    </tr>\n",
       "    <tr>\n",
       "      <th>13</th>\n",
       "      <td>5.829161</td>\n",
       "      <td>type_of_document_TIN</td>\n",
       "    </tr>\n",
       "    <tr>\n",
       "      <th>9</th>\n",
       "      <td>5.801382</td>\n",
       "      <td>type_of_document_Driver license ID</td>\n",
       "    </tr>\n",
       "    <tr>\n",
       "      <th>11</th>\n",
       "      <td>4.313231</td>\n",
       "      <td>type_of_document_Passport</td>\n",
       "    </tr>\n",
       "    <tr>\n",
       "      <th>12</th>\n",
       "      <td>3.696301</td>\n",
       "      <td>type_of_document_SSS</td>\n",
       "    </tr>\n",
       "    <tr>\n",
       "      <th>124</th>\n",
       "      <td>1.565322</td>\n",
       "      <td>os_Android</td>\n",
       "    </tr>\n",
       "    <tr>\n",
       "      <th>10</th>\n",
       "      <td>1.462536</td>\n",
       "      <td>type_of_document_PRC</td>\n",
       "    </tr>\n",
       "    <tr>\n",
       "      <th>129</th>\n",
       "      <td>1.170648</td>\n",
       "      <td>os_iOS</td>\n",
       "    </tr>\n",
       "    <tr>\n",
       "      <th>2</th>\n",
       "      <td>1.005695</td>\n",
       "      <td>age</td>\n",
       "    </tr>\n",
       "    <tr>\n",
       "      <th>3</th>\n",
       "      <td>0.981822</td>\n",
       "      <td>salary</td>\n",
       "    </tr>\n",
       "    <tr>\n",
       "      <th>5</th>\n",
       "      <td>0.692844</td>\n",
       "      <td>good_days</td>\n",
       "    </tr>\n",
       "    <tr>\n",
       "      <th>128</th>\n",
       "      <td>0.564010</td>\n",
       "      <td>os_Windows</td>\n",
       "    </tr>\n",
       "    <tr>\n",
       "      <th>7</th>\n",
       "      <td>0.406806</td>\n",
       "      <td>trust_soc_stat</td>\n",
       "    </tr>\n",
       "    <tr>\n",
       "      <th>6</th>\n",
       "      <td>0.353628</td>\n",
       "      <td>behavior_index_six</td>\n",
       "    </tr>\n",
       "    <tr>\n",
       "      <th>115</th>\n",
       "      <td>0.345337</td>\n",
       "      <td>social_status_Other</td>\n",
       "    </tr>\n",
       "  </tbody>\n",
       "</table>\n",
       "</div>"
      ],
      "text/plain": [
       "             w                                name\n",
       "1    20.682248                    behavioral_index\n",
       "4    13.022360                         email_index\n",
       "0    11.187232               device_quaility_index\n",
       "122   8.933890               disbursment_type_Bank\n",
       "14    7.744868               type_of_document_UMID\n",
       "123   7.050987           disbursment_type_E-wallet\n",
       "13    5.829161                type_of_document_TIN\n",
       "9     5.801382  type_of_document_Driver license ID\n",
       "11    4.313231           type_of_document_Passport\n",
       "12    3.696301                type_of_document_SSS\n",
       "124   1.565322                          os_Android\n",
       "10    1.462536                type_of_document_PRC\n",
       "129   1.170648                              os_iOS\n",
       "2     1.005695                                 age\n",
       "3     0.981822                              salary\n",
       "5     0.692844                           good_days\n",
       "128   0.564010                          os_Windows\n",
       "7     0.406806                      trust_soc_stat\n",
       "6     0.353628                  behavior_index_six\n",
       "115   0.345337                 social_status_Other"
      ]
     },
     "execution_count": 105,
     "metadata": {},
     "output_type": "execute_result"
    }
   ],
   "source": [
    "#ТОП 20 фич полвиявших на результат\n",
    "fi = pd.DataFrame({'w':model.feature_importances_,'name':X.columns}).sort_values('w',ascending=False)\n",
    "fi.head(20)"
   ]
  },
  {
   "cell_type": "markdown",
   "metadata": {},
   "source": [
    "## Metrics"
   ]
  },
  {
   "cell_type": "code",
   "execution_count": 106,
   "metadata": {},
   "outputs": [],
   "source": [
    "#рассмотрим метрику ROC и подберем максимально подходящую границу под вероятность принадлжености класса"
   ]
  },
  {
   "cell_type": "code",
   "execution_count": 107,
   "metadata": {},
   "outputs": [
    {
     "name": "stdout",
     "output_type": "stream",
     "text": [
      "0.8594068414860998\n"
     ]
    }
   ],
   "source": [
    "y_pred = model.predict_proba(X_test)[:,1]\n",
    "print(roc_auc_score(y_test, y_pred))\n",
    "fpr, tpr, thr = roc_curve(y_test, y_pred)\n",
    "roc = pd.DataFrame({'fpr':fpr,'tpr':tpr,'thr':thr})"
   ]
  },
  {
   "cell_type": "code",
   "execution_count": 108,
   "metadata": {},
   "outputs": [
    {
     "data": {
      "image/png": "[encoded data removed]",
      "text/plain": [
       "<Figure size 432x288 with 1 Axes>"
      ]
     },
     "metadata": {
      "needs_background": "light"
     },
     "output_type": "display_data"
    }
   ],
   "source": [
    "#гистограмма по предсказанной вероятности дефолта \n",
    "#модель достаточно хорошо отделяет объекты 1 класса от объектов 0 класса\n",
    "pd.DataFrame({'Гистограмма вероятности': y_pred}).hist();"
   ]
  },
  {
   "cell_type": "code",
   "execution_count": 109,
   "metadata": {},
   "outputs": [
    {
     "data": {
      "text/plain": [
       "<AxesSubplot:xlabel='fpr'>"
      ]
     },
     "execution_count": 109,
     "metadata": {},
     "output_type": "execute_result"
    },
    {
     "data": {
      "image/png": "[encoded data removed]",
      "text/plain": [
       "<Figure size 432x432 with 1 Axes>"
      ]
     },
     "metadata": {
      "needs_background": "light"
     },
     "output_type": "display_data"
    }
   ],
   "source": [
    "roc.plot(x='fpr',y='tpr',figsize=(6,6),grid=True)"
   ]
  },
  {
   "cell_type": "code",
   "execution_count": 110,
   "metadata": {},
   "outputs": [],
   "source": [
    "#Подберём лучшую границу вероятности для классификации, при условии, что tpr и fpr \"стоят\" одинаково \n",
    "#Так как сейчас классы сбалансированы граница будет рядом с числом 0.5\n",
    "#Находим разницу долей правильно определенных объектов первого класса и долей неправильно определенных объектов \n",
    "# нулевого класса, должна быть Максимальна\n",
    "\n",
    "roc['tpr-fpr'] = roc['tpr'] - roc['fpr']\n",
    "best_thr = roc.sort_values('tpr-fpr',ascending=False)['thr'].iloc[0]\n"
   ]
  },
  {
   "cell_type": "code",
   "execution_count": 111,
   "metadata": {},
   "outputs": [
    {
     "data": {
      "text/html": [
       "<div>\n",
       "<style scoped>\n",
       "    .dataframe tbody tr th:only-of-type {\n",
       "        vertical-align: middle;\n",
       "    }\n",
       "\n",
       "    .dataframe tbody tr th {\n",
       "        vertical-align: top;\n",
       "    }\n",
       "\n",
       "    .dataframe thead th {\n",
       "        text-align: right;\n",
       "    }\n",
       "</style>\n",
       "<table border=\"1\" class=\"dataframe\">\n",
       "  <thead>\n",
       "    <tr style=\"text-align: right;\">\n",
       "      <th></th>\n",
       "      <th>fpr</th>\n",
       "      <th>tpr</th>\n",
       "      <th>thr</th>\n",
       "      <th>tpr-fpr</th>\n",
       "    </tr>\n",
       "  </thead>\n",
       "  <tbody>\n",
       "    <tr>\n",
       "      <th>57</th>\n",
       "      <td>0.006803</td>\n",
       "      <td>0.622628</td>\n",
       "      <td>0.579838</td>\n",
       "      <td>0.615825</td>\n",
       "    </tr>\n",
       "    <tr>\n",
       "      <th>59</th>\n",
       "      <td>0.007161</td>\n",
       "      <td>0.622986</td>\n",
       "      <td>0.577608</td>\n",
       "      <td>0.615825</td>\n",
       "    </tr>\n",
       "    <tr>\n",
       "      <th>58</th>\n",
       "      <td>0.007161</td>\n",
       "      <td>0.622628</td>\n",
       "      <td>0.577979</td>\n",
       "      <td>0.615467</td>\n",
       "    </tr>\n",
       "    <tr>\n",
       "      <th>61</th>\n",
       "      <td>0.007877</td>\n",
       "      <td>0.623344</td>\n",
       "      <td>0.574846</td>\n",
       "      <td>0.615467</td>\n",
       "    </tr>\n",
       "    <tr>\n",
       "      <th>60</th>\n",
       "      <td>0.007877</td>\n",
       "      <td>0.622986</td>\n",
       "      <td>0.575056</td>\n",
       "      <td>0.615109</td>\n",
       "    </tr>\n",
       "    <tr>\n",
       "      <th>...</th>\n",
       "      <td>...</td>\n",
       "      <td>...</td>\n",
       "      <td>...</td>\n",
       "      <td>...</td>\n",
       "    </tr>\n",
       "    <tr>\n",
       "      <th>1584</th>\n",
       "      <td>0.993197</td>\n",
       "      <td>1.000000</td>\n",
       "      <td>0.045830</td>\n",
       "      <td>0.006803</td>\n",
       "    </tr>\n",
       "    <tr>\n",
       "      <th>1583</th>\n",
       "      <td>0.993197</td>\n",
       "      <td>0.999642</td>\n",
       "      <td>0.046092</td>\n",
       "      <td>0.006445</td>\n",
       "    </tr>\n",
       "    <tr>\n",
       "      <th>1</th>\n",
       "      <td>0.000000</td>\n",
       "      <td>0.000358</td>\n",
       "      <td>0.999981</td>\n",
       "      <td>0.000358</td>\n",
       "    </tr>\n",
       "    <tr>\n",
       "      <th>0</th>\n",
       "      <td>0.000000</td>\n",
       "      <td>0.000000</td>\n",
       "      <td>1.999981</td>\n",
       "      <td>0.000000</td>\n",
       "    </tr>\n",
       "    <tr>\n",
       "      <th>1585</th>\n",
       "      <td>1.000000</td>\n",
       "      <td>1.000000</td>\n",
       "      <td>0.017717</td>\n",
       "      <td>0.000000</td>\n",
       "    </tr>\n",
       "  </tbody>\n",
       "</table>\n",
       "<p>1586 rows × 4 columns</p>\n",
       "</div>"
      ],
      "text/plain": [
       "           fpr       tpr       thr   tpr-fpr\n",
       "57    0.006803  0.622628  0.579838  0.615825\n",
       "59    0.007161  0.622986  0.577608  0.615825\n",
       "58    0.007161  0.622628  0.577979  0.615467\n",
       "61    0.007877  0.623344  0.574846  0.615467\n",
       "60    0.007877  0.622986  0.575056  0.615109\n",
       "...        ...       ...       ...       ...\n",
       "1584  0.993197  1.000000  0.045830  0.006803\n",
       "1583  0.993197  0.999642  0.046092  0.006445\n",
       "1     0.000000  0.000358  0.999981  0.000358\n",
       "0     0.000000  0.000000  1.999981  0.000000\n",
       "1585  1.000000  1.000000  0.017717  0.000000\n",
       "\n",
       "[1586 rows x 4 columns]"
      ]
     },
     "execution_count": 111,
     "metadata": {},
     "output_type": "execute_result"
    }
   ],
   "source": [
    "#так и вышло, лучшая граница 0.56\n",
    "roc.sort_values('tpr-fpr',ascending=False)"
   ]
  },
  {
   "cell_type": "code",
   "execution_count": 112,
   "metadata": {},
   "outputs": [
    {
     "name": "stdout",
     "output_type": "stream",
     "text": [
      "0.5798379529730754\n"
     ]
    }
   ],
   "source": [
    "#Вероятность больше которой модель принимает решение при условии равенства весов ошибок \n",
    "\n",
    "#При не сбалансированных классах граница бы лежала в области ~0.25, то есть если вероятность дефолта хотя бы 25%, то его определяют как дефолт\n",
    "best_thr = roc.sort_values('tpr-fpr',ascending=False)['thr'].iloc[0] \n",
    "print(best_thr)\n",
    "y_pred_binary = (y_pred > best_thr) * 1"
   ]
  },
  {
   "cell_type": "code",
   "execution_count": 113,
   "metadata": {},
   "outputs": [
    {
     "name": "stdout",
     "output_type": "stream",
     "text": [
      "              precision    recall  f1-score   support\n",
      "\n",
      "           0       0.72      0.99      0.84      2793\n",
      "           1       0.99      0.62      0.76      2793\n",
      "\n",
      "    accuracy                           0.81      5586\n",
      "   macro avg       0.86      0.81      0.80      5586\n",
      "weighted avg       0.86      0.81      0.80      5586\n",
      "\n"
     ]
    }
   ],
   "source": [
    "print(classification_report(y_test, y_pred_binary))\n",
    "#f1 вышел неплохим 76%\n",
    "# recall для положительного класса всё равно определяется плохо, требуется доработка модели"
   ]
  },
  {
   "cell_type": "code",
   "execution_count": 114,
   "metadata": {},
   "outputs": [],
   "source": [
    "#добавление предикта в изначальную таблицу \n",
    "data['Probability_of_default'] = model.predict_proba(X)[:,1]\n",
    "data_initial['Probability_of_default(%)'] = data['Probability_of_default'] "
   ]
  },
  {
   "cell_type": "code",
   "execution_count": 115,
   "metadata": {},
   "outputs": [],
   "source": [
    "#Выгрузка\n",
    "# data_initial.to_excel('Test Sample with proba of default.xlsx')"
   ]
  },
  {
   "cell_type": "markdown",
   "metadata": {},
   "source": [
    "## Cost matrix (additional part)"
   ]
  },
  {
   "cell_type": "code",
   "execution_count": 116,
   "metadata": {},
   "outputs": [],
   "source": [
    "#Посмотрим на модель под углом кредитной организации\n",
    "\n",
    "#Ошибка первого и второго рода стоят абсолютно по разному, кредитной организации гораздо лучше, то есть дешевле, отказать хорошему клиенту \n",
    "#(НЕПРАВИЛЬНО определить вероятность выдачи кредита для хорошего клиента, который его Вернёт,сказать что \"он не вернёт\"), \n",
    "# чем резрешить плохому клиенту взять кредит (НЕПРАВИЛЬНО определить вероятность выдачи кредита, который его НЕ Вернет, сказать, что \"он вернёт\")\n",
    "#\n",
    "#Можем для анализа добавить матрицу цен ошибки, которую вывели в университете Гамбурга для датасета \"German Credit Data\"  \n",
    "# (каждая коедитная организация обычно использует свои веса)\n",
    "\n",
    "# https://archive.ics.uci.edu/ml/datasets/statlog+(german+credit+data):\n",
    "\n",
    "# \"\"\"\n",
    "#        1 2 \n",
    "# ----------------------------\n",
    "# 1     0 1 \n",
    "# -----------------------\n",
    "# 2     5 0\n",
    "\n",
    "# 1 = Good, 2 = Bad)\n",
    "# The rows represent the actual classification and the columns the predicted classification.\n",
    "# It is worse to class a customer as good when they are bad (5), than it is to class a customer as bad when they are good (1).\n",
    "# \"\"\"\n",
    "\n",
    "#Надо учесть что в матрице выше значения 1 и 2 - это значения не классов, а сама характеристика \n",
    "# Получается для данного датасета ошибка второго рода (выдать дефолту (False Negative)) стоит в 5 раз дороже, \n",
    "# чем ошибка первого рода (не выдать хорошему(False Positive))\n",
    "# TP - просто дефолт и он определился как дефолт, TN - определили как не дефолт правильно\n",
    "\n"
   ]
  },
  {
   "cell_type": "code",
   "execution_count": 117,
   "metadata": {},
   "outputs": [],
   "source": [
    "# необходимо посчитать для каждого возможного порога confusion matrix чтобы получить все исходы по tn, fn, \n",
    "# применить матрицу стоимости ошибок и узнать самый лучший порог, это там где ошибка fn будет минимальна "
   ]
  },
  {
   "cell_type": "code",
   "execution_count": 118,
   "metadata": {},
   "outputs": [
    {
     "data": {
      "application/vnd.jupyter.widget-view+json": {
       "model_id": "d08fa93d29bd4f439244489d50a0eb90",
       "version_major": 2,
       "version_minor": 0
      },
      "text/plain": [
       "  0%|          | 0/5556 [00:00<?, ?it/s]"
      ]
     },
     "metadata": {},
     "output_type": "display_data"
    }
   ],
   "source": [
    "thrs = list(pd.DataFrame({'prob': y_pred}).prob.unique())\n",
    "res = []\n",
    "for thr in tqdm(thrs):\n",
    "  y_pred_binary = (y_pred > thr) * 1\n",
    "  tn, fp, fn, tp = confusion_matrix(y_test, y_pred_binary).ravel()\n",
    "  res.append((tn, fp, fn, tp ,thr))"
   ]
  },
  {
   "cell_type": "code",
   "execution_count": 119,
   "metadata": {},
   "outputs": [],
   "source": [
    "con_matrix = pd.DataFrame(res, columns=['tn', 'fp', 'fn', 'tp','thr'])\n",
    "# tp не берется потому, что это исход когда ничего не теряется и не зарабатывается \n",
    "con_matrix['prof_threshols'] = con_matrix['tn'] - 5 * con_matrix['fn'] - con_matrix['fp']"
   ]
  },
  {
   "cell_type": "code",
   "execution_count": 120,
   "metadata": {},
   "outputs": [
    {
     "data": {
      "text/html": [
       "<div>\n",
       "<style scoped>\n",
       "    .dataframe tbody tr th:only-of-type {\n",
       "        vertical-align: middle;\n",
       "    }\n",
       "\n",
       "    .dataframe tbody tr th {\n",
       "        vertical-align: top;\n",
       "    }\n",
       "\n",
       "    .dataframe thead th {\n",
       "        text-align: right;\n",
       "    }\n",
       "</style>\n",
       "<table border=\"1\" class=\"dataframe\">\n",
       "  <thead>\n",
       "    <tr style=\"text-align: right;\">\n",
       "      <th></th>\n",
       "      <th>tn</th>\n",
       "      <th>fp</th>\n",
       "      <th>fn</th>\n",
       "      <th>tp</th>\n",
       "      <th>thr</th>\n",
       "      <th>prof_threshols</th>\n",
       "    </tr>\n",
       "  </thead>\n",
       "  <tbody>\n",
       "    <tr>\n",
       "      <th>5189</th>\n",
       "      <td>1948</td>\n",
       "      <td>845</td>\n",
       "      <td>542</td>\n",
       "      <td>2251</td>\n",
       "      <td>0.349853</td>\n",
       "      <td>-1607</td>\n",
       "    </tr>\n",
       "    <tr>\n",
       "      <th>2196</th>\n",
       "      <td>1958</td>\n",
       "      <td>835</td>\n",
       "      <td>546</td>\n",
       "      <td>2247</td>\n",
       "      <td>0.350993</td>\n",
       "      <td>-1607</td>\n",
       "    </tr>\n",
       "    <tr>\n",
       "      <th>362</th>\n",
       "      <td>1945</td>\n",
       "      <td>848</td>\n",
       "      <td>541</td>\n",
       "      <td>2252</td>\n",
       "      <td>0.349263</td>\n",
       "      <td>-1608</td>\n",
       "    </tr>\n",
       "    <tr>\n",
       "      <th>4045</th>\n",
       "      <td>1950</td>\n",
       "      <td>843</td>\n",
       "      <td>543</td>\n",
       "      <td>2250</td>\n",
       "      <td>0.350279</td>\n",
       "      <td>-1608</td>\n",
       "    </tr>\n",
       "    <tr>\n",
       "      <th>3952</th>\n",
       "      <td>1957</td>\n",
       "      <td>836</td>\n",
       "      <td>546</td>\n",
       "      <td>2247</td>\n",
       "      <td>0.350868</td>\n",
       "      <td>-1609</td>\n",
       "    </tr>\n",
       "    <tr>\n",
       "      <th>...</th>\n",
       "      <td>...</td>\n",
       "      <td>...</td>\n",
       "      <td>...</td>\n",
       "      <td>...</td>\n",
       "      <td>...</td>\n",
       "      <td>...</td>\n",
       "    </tr>\n",
       "    <tr>\n",
       "      <th>897</th>\n",
       "      <td>2793</td>\n",
       "      <td>0</td>\n",
       "      <td>2789</td>\n",
       "      <td>4</td>\n",
       "      <td>0.999952</td>\n",
       "      <td>-11152</td>\n",
       "    </tr>\n",
       "    <tr>\n",
       "      <th>3473</th>\n",
       "      <td>2793</td>\n",
       "      <td>0</td>\n",
       "      <td>2790</td>\n",
       "      <td>3</td>\n",
       "      <td>0.999961</td>\n",
       "      <td>-11157</td>\n",
       "    </tr>\n",
       "    <tr>\n",
       "      <th>4243</th>\n",
       "      <td>2793</td>\n",
       "      <td>0</td>\n",
       "      <td>2791</td>\n",
       "      <td>2</td>\n",
       "      <td>0.999970</td>\n",
       "      <td>-11162</td>\n",
       "    </tr>\n",
       "    <tr>\n",
       "      <th>746</th>\n",
       "      <td>2793</td>\n",
       "      <td>0</td>\n",
       "      <td>2792</td>\n",
       "      <td>1</td>\n",
       "      <td>0.999974</td>\n",
       "      <td>-11167</td>\n",
       "    </tr>\n",
       "    <tr>\n",
       "      <th>1144</th>\n",
       "      <td>2793</td>\n",
       "      <td>0</td>\n",
       "      <td>2793</td>\n",
       "      <td>0</td>\n",
       "      <td>0.999981</td>\n",
       "      <td>-11172</td>\n",
       "    </tr>\n",
       "  </tbody>\n",
       "</table>\n",
       "<p>5556 rows × 6 columns</p>\n",
       "</div>"
      ],
      "text/plain": [
       "        tn   fp    fn    tp       thr  prof_threshols\n",
       "5189  1948  845   542  2251  0.349853           -1607\n",
       "2196  1958  835   546  2247  0.350993           -1607\n",
       "362   1945  848   541  2252  0.349263           -1608\n",
       "4045  1950  843   543  2250  0.350279           -1608\n",
       "3952  1957  836   546  2247  0.350868           -1609\n",
       "...    ...  ...   ...   ...       ...             ...\n",
       "897   2793    0  2789     4  0.999952          -11152\n",
       "3473  2793    0  2790     3  0.999961          -11157\n",
       "4243  2793    0  2791     2  0.999970          -11162\n",
       "746   2793    0  2792     1  0.999974          -11167\n",
       "1144  2793    0  2793     0  0.999981          -11172\n",
       "\n",
       "[5556 rows x 6 columns]"
      ]
     },
     "execution_count": 120,
     "metadata": {},
     "output_type": "execute_result"
    }
   ],
   "source": [
    "con_matrix = con_matrix.sort_values(by='prof_threshols', ascending=False)\n",
    "con_matrix"
   ]
  },
  {
   "cell_type": "code",
   "execution_count": 121,
   "metadata": {},
   "outputs": [
    {
     "data": {
      "text/plain": [
       "0.3498533371988623"
      ]
     },
     "execution_count": 121,
     "metadata": {},
     "output_type": "execute_result"
    }
   ],
   "source": [
    "Final_threshold = con_matrix.thr.iloc[0]\n",
    "Final_threshold"
   ]
  },
  {
   "cell_type": "code",
   "execution_count": 122,
   "metadata": {},
   "outputs": [],
   "source": [
    "# ==>Вывод: порог ~34%, то есть даже если есть небольшая вероятность 34%, то модель считает что это дефолт"
   ]
  },
  {
   "cell_type": "code",
   "execution_count": null,
   "metadata": {},
   "outputs": [],
   "source": []
  }
 ],
 "metadata": {
  "kernelspec": {
   "display_name": "Python 3.9.5 64-bit",
   "language": "python",
   "name": "python3"
  },
  "language_info": {
   "codemirror_mode": {
    "name": "ipython",
    "version": 3
   },
   "file_extension": ".py",
   "mimetype": "text/x-python",
   "name": "python",
   "nbconvert_exporter": "python",
   "pygments_lexer": "ipython3",
   "version": "3.9.5"
  },
  "orig_nbformat": 4,
  "vscode": {
   "interpreter": {
    "hash": "f9f85f796d01129d0dd105a088854619f454435301f6ffec2fea96ecbd9be4ac"
   }
  }
 },
 "nbformat": 4,
 "nbformat_minor": 2
}
